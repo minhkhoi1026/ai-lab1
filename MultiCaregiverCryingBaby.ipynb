{
 "cells": [
  {
   "cell_type": "markdown",
   "metadata": {},
   "source": [
    "## I/ Set up"
   ]
  },
  {
   "cell_type": "markdown",
   "metadata": {},
   "source": [
    "### 1. Package"
   ]
  },
  {
   "cell_type": "code",
   "execution_count": 5,
   "metadata": {},
   "outputs": [
    {
     "name": "stderr",
     "output_type": "stream",
     "text": [
      "WARNING: replacing module DecisionMakingProblems.\n"
     ]
    }
   ],
   "source": [
    "include(\"POMGProblems.jl\")\n",
    "using .POMGProblems"
   ]
  },
  {
   "cell_type": "markdown",
   "metadata": {},
   "source": [
    "### 2. State, Action, Observation, Initial State"
   ]
  },
  {
   "cell_type": "code",
   "execution_count": 2,
   "metadata": {},
   "outputs": [
    {
     "data": {
      "text/plain": [
       "false"
      ]
     },
     "metadata": {},
     "output_type": "display_data"
    }
   ],
   "source": [
    "SATED = 1\n",
    "HUNGRY = 2\n",
    "FEED = 1\n",
    "IGNORE = 2\n",
    "SING = 3\n",
    "CRYING = true\n",
    "QUIET = false"
   ]
  },
  {
   "cell_type": "code",
   "execution_count": 3,
   "metadata": {},
   "outputs": [],
   "source": [
    "𝒮 = [SATED, HUNGRY]\n",
    "𝒜 = [FEED, IGNORE, SING]\n",
    "𝒪 = [CRYING, QUIET]\n",
    "# initialstate_distr = Deterministic(SATED);"
   ]
  },
  {
   "cell_type": "markdown",
   "metadata": {},
   "source": [
    "### 3. Transition Function\n",
    "Code in crying_baby.jl\n",
    "$$ T(sated | hungry, feed) = 100\\% $$\n",
    "$$ T(hungry | hungry, sing) = 100\\% $$\n",
    "$$ T(hungry | hungry, ignore) = 100\\% $$\n",
    "$$ T(sated | sated, feed) = 100\\% $$\n",
    "$$ T(hungry | sated, sing) = 10\\% $$\n",
    "$$ T(hungry | sated, ignore) = 10\\% $$"
   ]
  },
  {
   "cell_type": "markdown",
   "metadata": {},
   "source": [
    "#### Observation Function\n",
    "Code in crying_baby.jl\n",
    "$$ O(cry | feed, hungry) = 80\\% $$\n",
    "$$ O(cry | sing, hungry) = 90\\% $$\n",
    "$$ O(cry | ignore, hungry) = 80\\%$$\n",
    "$$ O(cry | feed, sated) = 10\\%$$\n",
    "$$ O(cry | sing, sated) = 0\\% $$\n",
    "$$ O(cry | ignore, sated) = 10%$$"
   ]
  },
  {
   "cell_type": "markdown",
   "metadata": {},
   "source": [
    "### 4. Reward Function\n",
    "Code in crying_baby.jl\n",
    "$$ hungry \\rightarrow -10$$\n",
    "$$ feed \\rightarrow -5$$\n",
    "$$ sing \\rightarrow -0.5$$"
   ]
  },
  {
   "cell_type": "markdown",
   "metadata": {},
   "source": [
    "### 5. Discount factor\n",
    "$$γ = 0.9$$"
   ]
  },
  {
   "cell_type": "markdown",
   "metadata": {},
   "source": [
    "### 6. POMDP Structure using QuickPOMDPs"
   ]
  },
  {
   "cell_type": "code",
   "execution_count": 6,
   "metadata": {},
   "outputs": [
    {
     "data": {
      "text/plain": [
       "POMG(0.9, [1, 2], [1, 2], [[1, 2, 3], [1, 2, 3]], Vector{Bool}[[1, 0], [1, 0]], Main.DecisionMakingProblems.var\"#29#34\"{Main.DecisionMakingProblems.BabyPOMG}(Main.DecisionMakingProblems.BabyPOMG(Main.DecisionMakingProblems.CryingBaby\n",
       "  r_hungry: Float64 -10.0\n",
       "  r_feed: Float64 -5.0\n",
       "  r_sing: Float64 -0.5\n",
       "  p_become_hungry: Float64 0.1\n",
       "  p_cry_when_hungry: Float64 0.8\n",
       "  p_cry_when_not_hungry: Float64 0.1\n",
       "  p_cry_when_hungry_in_sing: Float64 0.9\n",
       "  γ: Float64 0.9\n",
       ")), Main.DecisionMakingProblems.var\"#30#35\"{Main.DecisionMakingProblems.BabyPOMG}(Main.DecisionMakingProblems.BabyPOMG(Main.DecisionMakingProblems.CryingBaby\n",
       "  r_hungry: Float64 -10.0\n",
       "  r_feed: Float64 -5.0\n",
       "  r_sing: Float64 -0.5\n",
       "  p_become_hungry: Float64 0.1\n",
       "  p_cry_when_hungry: Float64 0.8\n",
       "  p_cry_when_not_hungry: Float64 0.1\n",
       "  p_cry_when_hungry_in_sing: Float64 0.9\n",
       "  γ: Float64 0.9\n",
       ")), Main.DecisionMakingProblems.var\"#31#36\"{Main.DecisionMakingProblems.BabyPOMG}(Main.DecisionMakingProblems.BabyPOMG(Main.DecisionMakingProblems.CryingBaby\n",
       "  r_hungry: Float64 -10.0\n",
       "  r_feed: Float64 -5.0\n",
       "  r_sing: Float64 -0.5\n",
       "  p_become_hungry: Float64 0.1\n",
       "  p_cry_when_hungry: Float64 0.8\n",
       "  p_cry_when_not_hungry: Float64 0.1\n",
       "  p_cry_when_hungry_in_sing: Float64 0.9\n",
       "  γ: Float64 0.9\n",
       ")))"
      ]
     },
     "metadata": {},
     "output_type": "display_data"
    }
   ],
   "source": [
    "m = MultiCaregiverCryingBaby()\n",
    "decprob = POMG(m)"
   ]
  },
  {
   "cell_type": "markdown",
   "metadata": {},
   "source": [
    "### 7. Policy"
   ]
  },
  {
   "cell_type": "markdown",
   "metadata": {},
   "source": [
    "### 8. Belief"
   ]
  },
  {
   "cell_type": "markdown",
   "metadata": {},
   "source": [
    "## II/ Solution"
   ]
  },
  {
   "cell_type": "markdown",
   "metadata": {},
   "source": [
    "### 1. ConditionalPlan"
   ]
  },
  {
   "cell_type": "code",
   "execution_count": null,
   "metadata": {},
   "outputs": [],
   "source": [
    "iteration = ValueIteration(20)\n",
    "alpha_vector = solve(iteration, decprob)"
   ]
  },
  {
   "cell_type": "code",
   "execution_count": 26,
   "metadata": {},
   "outputs": [
    {
     "name": "stdout",
     "output_type": "stream",
     "text": [
      "Any[[-17.366774723525896, -27.366774723525896], [-13.997323053138155, -35.9430021666344]]"
     ]
    }
   ],
   "source": [
    "print(alpha_vector.Γ)"
   ]
  },
  {
   "cell_type": "code",
   "execution_count": 3,
   "metadata": {},
   "outputs": [],
   "source": [
    "using Plots\n",
    "default(fontfamily=\"Computer Modern\", framestyle=:box) # LaTex-style"
   ]
  },
  {
   "cell_type": "code",
   "execution_count": null,
   "metadata": {},
   "outputs": [],
   "source": []
  }
 ],
 "metadata": {
  "interpreter": {
   "hash": "4c1ad05980a945146a58908fed39f057c9aa5cf6245402bc088cd01a8d4f9269"
  },
  "kernelspec": {
   "display_name": "Julia 1.7.0",
   "language": "julia",
   "name": "julia-1.7"
  },
  "language_info": {
   "file_extension": ".jl",
   "mimetype": "application/julia",
   "name": "julia",
   "version": "1.7.0"
  },
  "orig_nbformat": 4
 },
 "nbformat": 4,
 "nbformat_minor": 2
}
