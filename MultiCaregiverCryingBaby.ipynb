{
 "cells": [
  {
   "cell_type": "markdown",
   "metadata": {},
   "source": [
    "### I/ Setup"
   ]
  },
  {
   "cell_type": "markdown",
   "metadata": {},
   "source": [
    "#### 1. Include"
   ]
  },
  {
   "cell_type": "code",
   "execution_count": 1,
   "metadata": {},
   "outputs": [],
   "source": [
    "include(\"POMGProblems.jl\")\n",
    "using .POMGProblems"
   ]
  },
  {
   "cell_type": "markdown",
   "metadata": {},
   "source": [
    "#### 2. State, Action, Observation, belief state"
   ]
  },
  {
   "cell_type": "code",
   "execution_count": 2,
   "metadata": {},
   "outputs": [
    {
     "data": {
      "text/plain": [
       "2-element Vector{Float64}:\n",
       " 0.5\n",
       " 0.5"
      ]
     },
     "metadata": {},
     "output_type": "display_data"
    }
   ],
   "source": [
    "# State\n",
    "SATED = 1\n",
    "HUNGRY = 2\n",
    "\n",
    "# Action\n",
    "FEED = 1\n",
    "IGNORE = 2\n",
    "SING = 3\n",
    "\n",
    "# Observation\n",
    "CRYING = true\n",
    "QUIET = false\n",
    "\n",
    "# Belief state\n",
    "b = [0.5, 0.5]"
   ]
  },
  {
   "cell_type": "markdown",
   "metadata": {},
   "source": [
    "#### 2. Transition, Reward, Observation Function\n",
    "Code in crying_baby.jl\n",
    "$$ T(sated | hungry, feed) = 100\\% $$\n",
    "$$ T(hungry | hungry, sing) = 100\\% $$\n",
    "$$ T(hungry | hungry, ignore) = 100\\% $$\n",
    "$$ T(sated | sated, feed) = 100\\% $$\n",
    "$$ T(hungry | sated, sing) = 10\\% $$\n",
    "$$ T(hungry | sated, ignore) = 10\\% $$\n",
    "\n",
    "$$ R(hungry) \\rightarrow -10$$\n",
    "$$ R(feed) \\rightarrow -5$$\n",
    "$$ R(sing) \\rightarrow -0.5$$\n",
    "\n",
    "$$ O(cry | feed, hungry) = 80\\% $$\n",
    "$$ O(cry | sing, hungry) = 90\\% $$\n",
    "$$ O(cry | ignore, hungry) = 80\\%$$\n",
    "$$ O(cry | feed, sated) = 10\\%$$\n",
    "$$ O(cry | sing, sated) = 0\\% $$\n",
    "$$ O(cry | ignore, sated) = 10%$$\n",
    "\n"
   ]
  },
  {
   "cell_type": "markdown",
   "metadata": {},
   "source": [
    "### II/ Crying Baby"
   ]
  },
  {
   "cell_type": "markdown",
   "metadata": {},
   "source": [
    "#### 1. POMDP Structure "
   ]
  },
  {
   "cell_type": "code",
   "execution_count": null,
   "metadata": {},
   "outputs": [],
   "source": [
    "mCB = CryingBaby()\n",
    "decprobCB = POMDP(mCB)"
   ]
  },
  {
   "cell_type": "markdown",
   "metadata": {},
   "source": [
    "#### 2. Solution"
   ]
  },
  {
   "cell_type": "markdown",
   "metadata": {},
   "source": [
    "##### Conditional Plan"
   ]
  },
  {
   "cell_type": "code",
   "execution_count": null,
   "metadata": {},
   "outputs": [],
   "source": [
    "iteration = ValueIteration(6)\n",
    "alpha_vector = solve_conditional_plan_nonlinear(iteration, decprobCB)"
   ]
  },
  {
   "cell_type": "code",
   "execution_count": null,
   "metadata": {},
   "outputs": [],
   "source": [
    "print(alpha_vector.Γ)"
   ]
  },
  {
   "cell_type": "markdown",
   "metadata": {},
   "source": [
    "#### Controller Policy"
   ]
  },
  {
   "cell_type": "code",
   "execution_count": null,
   "metadata": {},
   "outputs": [],
   "source": [
    "nlp = NonlinearProgramming(b, 3)\n",
    "controllerPolicy = solve_controller_nonlinear(nlp, decprobCB)"
   ]
  },
  {
   "cell_type": "code",
   "execution_count": null,
   "metadata": {},
   "outputs": [],
   "source": [
    "print(controllerPolicy.ψ)"
   ]
  },
  {
   "cell_type": "markdown",
   "metadata": {},
   "source": [
    "### III/ Multi-Caregiver Crying Baby"
   ]
  },
  {
   "cell_type": "markdown",
   "metadata": {},
   "source": [
    "#### 1. POMG Structure"
   ]
  },
  {
   "cell_type": "code",
   "execution_count": 3,
   "metadata": {},
   "outputs": [
    {
     "data": {
      "text/plain": [
       "POMG(0.9, [1, 2], [1, 2], [[1, 2, 3], [1, 2, 3]], Vector{Bool}[[1, 0], [1, 0]], Main.POMGProblems.var\"#200#205\"{Main.POMGProblems.BabyPOMG}(Main.POMGProblems.BabyPOMG(CryingBaby\n",
       "  r_hungry: Float64 -10.0\n",
       "  r_feed: Float64 -5.0\n",
       "  r_sing: Float64 -0.5\n",
       "  p_become_hungry: Float64 0.1\n",
       "  p_cry_when_hungry: Float64 0.8\n",
       "  p_cry_when_not_hungry: Float64 0.1\n",
       "  p_cry_when_hungry_in_sing: Float64 0.9\n",
       "  γ: Float64 0.9\n",
       ")), Main.POMGProblems.var\"#201#206\"{Main.POMGProblems.BabyPOMG}(Main.POMGProblems.BabyPOMG(CryingBaby\n",
       "  r_hungry: Float64 -10.0\n",
       "  r_feed: Float64 -5.0\n",
       "  r_sing: Float64 -0.5\n",
       "  p_become_hungry: Float64 0.1\n",
       "  p_cry_when_hungry: Float64 0.8\n",
       "  p_cry_when_not_hungry: Float64 0.1\n",
       "  p_cry_when_hungry_in_sing: Float64 0.9\n",
       "  γ: Float64 0.9\n",
       ")), Main.POMGProblems.var\"#202#207\"{Main.POMGProblems.BabyPOMG}(Main.POMGProblems.BabyPOMG(CryingBaby\n",
       "  r_hungry: Float64 -10.0\n",
       "  r_feed: Float64 -5.0\n",
       "  r_sing: Float64 -0.5\n",
       "  p_become_hungry: Float64 0.1\n",
       "  p_cry_when_hungry: Float64 0.8\n",
       "  p_cry_when_not_hungry: Float64 0.1\n",
       "  p_cry_when_hungry_in_sing: Float64 0.9\n",
       "  γ: Float64 0.9\n",
       ")))"
      ]
     },
     "metadata": {},
     "output_type": "display_data"
    }
   ],
   "source": [
    "mMCB = MultiCaregiverCryingBaby()\n",
    "decprobMCB = POMG(mMCB)"
   ]
  },
  {
   "cell_type": "markdown",
   "metadata": {},
   "source": [
    "#### 2. Solution"
   ]
  },
  {
   "cell_type": "markdown",
   "metadata": {},
   "source": [
    "##### Nash Equilibrium"
   ]
  },
  {
   "cell_type": "code",
   "execution_count": 6,
   "metadata": {},
   "outputs": [
    {
     "ename": "ErrorException",
     "evalue": "type ConditionalPlan has no field subplans",
     "output_type": "error",
     "traceback": [
      "type ConditionalPlan has no field subplans\n",
      "\n",
      "Stacktrace:\n",
      "  [1] getproperty\n",
      "    @ .\\Base.jl:42 [inlined]\n",
      "  [2] evaluate_plan(𝒫::POMG, π::Tuple{Main.POMGProblems.ConditionalPlan, Main.POMGProblems.ConditionalPlan}, s::Int64)\n",
      "    @ Main.POMGProblems c:\\Users\\COMPUTER\\Desktop\\ai-lab1\\Policy\\ConditionalPlan.jl:19\n",
      "  [3] (::Main.POMGProblems.var\"#25#27\"{POMG, Tuple{Main.POMGProblems.ConditionalPlan, Main.POMGProblems.ConditionalPlan}})(s::Int64)\n",
      "    @ Main.POMGProblems .\\none:0\n",
      "  [4] iterate\n",
      "    @ .\\generator.jl:47 [inlined]\n",
      "  [5] collect(itr::Base.Generator{Vector{Int64}, Main.POMGProblems.var\"#25#27\"{POMG, Tuple{Main.POMGProblems.ConditionalPlan, Main.POMGProblems.ConditionalPlan}}})\n",
      "    @ Base .\\array.jl:724\n",
      "  [6] utility(𝒫::POMG, b::Vector{Float64}, π::Tuple{Main.POMGProblems.ConditionalPlan, Main.POMGProblems.ConditionalPlan})\n",
      "    @ Main.POMGProblems c:\\Users\\COMPUTER\\Desktop\\ai-lab1\\Policy\\ConditionalPlan.jl:23\n",
      "  [7] (::Main.POMGProblems.var\"#148#151\"{POMG, Vector{Float64}})(π::Tuple{Main.POMGProblems.ConditionalPlan, Main.POMGProblems.ConditionalPlan})\n",
      "    @ Main.POMGProblems .\\none:0\n",
      "  [8] iterate\n",
      "    @ .\\generator.jl:47 [inlined]\n",
      "  [9] _all(f::Base.var\"#318#320\", itr::Base.Generator{Matrix{Tuple{Main.POMGProblems.ConditionalPlan, Main.POMGProblems.ConditionalPlan}}, Main.POMGProblems.var\"#148#151\"{POMG, Vector{Float64}}}, #unused#::Colon)\n",
      "    @ Base .\\reduce.jl:1156\n",
      " [10] all\n",
      "    @ .\\reduce.jl:1152 [inlined]\n",
      " [11] Dict(kv::Base.Generator{Matrix{Tuple{Main.POMGProblems.ConditionalPlan, Main.POMGProblems.ConditionalPlan}}, Main.POMGProblems.var\"#148#151\"{POMG, Vector{Float64}}})\n",
      "    @ Base .\\dict.jl:131\n",
      " [12] solve_pomg_nash(M::POMGNashEquilibrium, 𝒫::POMG)\n",
      "    @ Main.POMGProblems c:\\Users\\COMPUTER\\Desktop\\ai-lab1\\Solver\\POMGNashEquilibrium.jl:24\n",
      " [13] top-level scope\n",
      "    @ c:\\Users\\COMPUTER\\Desktop\\ai-lab1\\MultiCaregiverCryingBaby.ipynb:2\n",
      " [14] eval\n",
      "    @ .\\boot.jl:373 [inlined]\n",
      " [15] include_string(mapexpr::typeof(REPL.softscope), mod::Module, code::String, filename::String)\n",
      "    @ Base .\\loading.jl:1196\n",
      " [16] #invokelatest#2\n",
      "    @ .\\essentials.jl:716 [inlined]\n",
      " [17] invokelatest\n",
      "    @ .\\essentials.jl:714 [inlined]\n",
      " [18] (::VSCodeServer.var\"#150#151\"{VSCodeServer.NotebookRunCellArguments, String})()\n",
      "    @ VSCodeServer c:\\Users\\COMPUTER\\.vscode\\extensions\\julialang.language-julia-1.5.8\\scripts\\packages\\VSCodeServer\\src\\serve_notebook.jl:18\n",
      " [19] withpath(f::VSCodeServer.var\"#150#151\"{VSCodeServer.NotebookRunCellArguments, String}, path::String)\n",
      "    @ VSCodeServer c:\\Users\\COMPUTER\\.vscode\\extensions\\julialang.language-julia-1.5.8\\scripts\\packages\\VSCodeServer\\src\\repl.jl:185\n",
      " [20] notebook_runcell_request(conn::VSCodeServer.JSONRPC.JSONRPCEndpoint{Base.PipeEndpoint, Base.PipeEndpoint}, params::VSCodeServer.NotebookRunCellArguments)\n",
      "    @ VSCodeServer c:\\Users\\COMPUTER\\.vscode\\extensions\\julialang.language-julia-1.5.8\\scripts\\packages\\VSCodeServer\\src\\serve_notebook.jl:14\n",
      " [21] dispatch_msg(x::VSCodeServer.JSONRPC.JSONRPCEndpoint{Base.PipeEndpoint, Base.PipeEndpoint}, dispatcher::VSCodeServer.JSONRPC.MsgDispatcher, msg::Dict{String, Any})\n",
      "    @ VSCodeServer.JSONRPC c:\\Users\\COMPUTER\\.vscode\\extensions\\julialang.language-julia-1.5.8\\scripts\\packages\\JSONRPC\\src\\typed.jl:67\n",
      " [22] serve_notebook(pipename::String; crashreporting_pipename::String)\n",
      "    @ VSCodeServer c:\\Users\\COMPUTER\\.vscode\\extensions\\julialang.language-julia-1.5.8\\scripts\\packages\\VSCodeServer\\src\\serve_notebook.jl:94\n",
      " [23] top-level scope\n",
      "    @ c:\\Users\\COMPUTER\\.vscode\\extensions\\julialang.language-julia-1.5.8\\scripts\\notebook\\notebook.jl:12\n",
      " [24] include(mod::Module, _path::String)\n",
      "    @ Base .\\Base.jl:418\n",
      " [25] exec_options(opts::Base.JLOptions)\n",
      "    @ Base .\\client.jl:292\n",
      " [26] _start()\n",
      "    @ Base .\\client.jl:495"
     ]
    }
   ],
   "source": [
    "pomgNE = POMGNashEquilibrium(b, 6)\n",
    "solve_pomg_nash(pomgNE, decprobMCB)"
   ]
  },
  {
   "cell_type": "markdown",
   "metadata": {},
   "source": [
    "##### Dynamic Programming"
   ]
  },
  {
   "cell_type": "code",
   "execution_count": 7,
   "metadata": {},
   "outputs": [
    {
     "ename": "ErrorException",
     "evalue": "type ConditionalPlan has no field subplans",
     "output_type": "error",
     "traceback": [
      "type ConditionalPlan has no field subplans\n",
      "\n",
      "Stacktrace:\n",
      "  [1] getproperty\n",
      "    @ .\\Base.jl:42 [inlined]\n",
      "  [2] evaluate_plan(𝒫::POMG, π::Vector{Main.POMGProblems.ConditionalPlan}, s::Int64)\n",
      "    @ Main.POMGProblems c:\\Users\\COMPUTER\\Desktop\\ai-lab1\\Policy\\ConditionalPlan.jl:19\n",
      "  [3] (::Main.POMGProblems.var\"#175#182\"{POMG, Int64, Main.POMGProblems.var\"#π#180\"{Int64, Vector{Int64}}})(::Tuple{Main.POMGProblems.ConditionalPlan, Tuple{Main.POMGProblems.ConditionalPlan}, Int64})\n",
      "    @ Main.POMGProblems .\\none:0\n",
      "  [4] iterate\n",
      "    @ .\\generator.jl:47 [inlined]\n",
      "  [5] _all\n",
      "    @ .\\reduce.jl:1156 [inlined]\n",
      "  [6] all\n",
      "    @ .\\reduce.jl:1152 [inlined]\n",
      "  [7] Dict(kv::Base.Generator{Base.Iterators.ProductIterator{Tuple{Vector{Main.POMGProblems.ConditionalPlan}, Vector{Tuple{Main.POMGProblems.ConditionalPlan}}, Vector{Int64}}}, Main.POMGProblems.var\"#175#182\"{POMG, Int64, Main.POMGProblems.var\"#π#180\"{Int64, Vector{Int64}}}})\n",
      "    @ Base .\\dict.jl:131\n",
      "  [8] is_dominated(𝒫::POMG, Π::Vector{Vector{Main.POMGProblems.ConditionalPlan}}, i::Int64, πi::Main.POMGProblems.ConditionalPlan)\n",
      "    @ Main.POMGProblems c:\\Users\\COMPUTER\\Desktop\\ai-lab1\\Solver\\DynamicProgramming.jl:44\n",
      "  [9] prune_dominated!(Π::Vector{Vector{Main.POMGProblems.ConditionalPlan}}, 𝒫::POMG)\n",
      "    @ Main.POMGProblems c:\\Users\\COMPUTER\\Desktop\\ai-lab1\\Solver\\DynamicProgramming.jl:30\n",
      " [10] DynamicProgramming(M::POMGDynamicProgramming, 𝒫::POMG)\n",
      "    @ Main.POMGProblems c:\\Users\\COMPUTER\\Desktop\\ai-lab1\\Solver\\DynamicProgramming.jl:17\n",
      " [11] top-level scope\n",
      "    @ c:\\Users\\COMPUTER\\Desktop\\ai-lab1\\MultiCaregiverCryingBaby.ipynb:2\n",
      " [12] eval\n",
      "    @ .\\boot.jl:373 [inlined]\n",
      " [13] include_string(mapexpr::typeof(REPL.softscope), mod::Module, code::String, filename::String)\n",
      "    @ Base .\\loading.jl:1196\n",
      " [14] #invokelatest#2\n",
      "    @ .\\essentials.jl:716 [inlined]\n",
      " [15] invokelatest\n",
      "    @ .\\essentials.jl:714 [inlined]\n",
      " [16] (::VSCodeServer.var\"#150#151\"{VSCodeServer.NotebookRunCellArguments, String})()\n",
      "    @ VSCodeServer c:\\Users\\COMPUTER\\.vscode\\extensions\\julialang.language-julia-1.5.8\\scripts\\packages\\VSCodeServer\\src\\serve_notebook.jl:18\n",
      " [17] withpath(f::VSCodeServer.var\"#150#151\"{VSCodeServer.NotebookRunCellArguments, String}, path::String)\n",
      "    @ VSCodeServer c:\\Users\\COMPUTER\\.vscode\\extensions\\julialang.language-julia-1.5.8\\scripts\\packages\\VSCodeServer\\src\\repl.jl:185\n",
      " [18] notebook_runcell_request(conn::VSCodeServer.JSONRPC.JSONRPCEndpoint{Base.PipeEndpoint, Base.PipeEndpoint}, params::VSCodeServer.NotebookRunCellArguments)\n",
      "    @ VSCodeServer c:\\Users\\COMPUTER\\.vscode\\extensions\\julialang.language-julia-1.5.8\\scripts\\packages\\VSCodeServer\\src\\serve_notebook.jl:14\n",
      " [19] dispatch_msg(x::VSCodeServer.JSONRPC.JSONRPCEndpoint{Base.PipeEndpoint, Base.PipeEndpoint}, dispatcher::VSCodeServer.JSONRPC.MsgDispatcher, msg::Dict{String, Any})\n",
      "    @ VSCodeServer.JSONRPC c:\\Users\\COMPUTER\\.vscode\\extensions\\julialang.language-julia-1.5.8\\scripts\\packages\\JSONRPC\\src\\typed.jl:67\n",
      " [20] serve_notebook(pipename::String; crashreporting_pipename::String)\n",
      "    @ VSCodeServer c:\\Users\\COMPUTER\\.vscode\\extensions\\julialang.language-julia-1.5.8\\scripts\\packages\\VSCodeServer\\src\\serve_notebook.jl:94\n",
      " [21] top-level scope\n",
      "    @ c:\\Users\\COMPUTER\\.vscode\\extensions\\julialang.language-julia-1.5.8\\scripts\\notebook\\notebook.jl:12\n",
      " [22] include(mod::Module, _path::String)\n",
      "    @ Base .\\Base.jl:418\n",
      " [23] exec_options(opts::Base.JLOptions)\n",
      "    @ Base .\\client.jl:292\n",
      " [24] _start()\n",
      "    @ Base .\\client.jl:495"
     ]
    }
   ],
   "source": [
    "pomgDP = POMGDynamicProgramming(b, 6)\n",
    "DPPolicy = DynamicProgramming(pomgDP, decprobMCB) "
   ]
  },
  {
   "cell_type": "markdown",
   "metadata": {},
   "source": [
    "###"
   ]
  }
 ],
 "metadata": {
  "interpreter": {
   "hash": "4c1ad05980a945146a58908fed39f057c9aa5cf6245402bc088cd01a8d4f9269"
  },
  "kernelspec": {
   "display_name": "Julia 1.7.0",
   "language": "julia",
   "name": "julia-1.7"
  },
  "language_info": {
   "file_extension": ".jl",
   "mimetype": "application/julia",
   "name": "julia",
   "version": "1.7.0"
  },
  "orig_nbformat": 4
 },
 "nbformat": 4,
 "nbformat_minor": 2
}
