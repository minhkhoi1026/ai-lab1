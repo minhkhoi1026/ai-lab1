{
 "cells": [
  {
   "cell_type": "markdown",
   "metadata": {},
   "source": [
    "### I/ Setup"
   ]
  },
  {
   "cell_type": "markdown",
   "metadata": {},
   "source": [
    "#### 1. Include"
   ]
  },
  {
   "cell_type": "code",
   "execution_count": 1,
   "metadata": {},
   "outputs": [],
   "source": [
    "include(\"POMGProblems.jl\")\n",
    "using .POMGProblems"
   ]
  },
  {
   "cell_type": "markdown",
   "metadata": {},
   "source": [
    "#### 2. State, Action, Observation, belief state"
   ]
  },
  {
   "cell_type": "code",
   "execution_count": 2,
   "metadata": {},
   "outputs": [
    {
     "data": {
      "text/plain": [
       "2-element Vector{Float64}:\n",
       " 0.5\n",
       " 0.5"
      ]
     },
     "metadata": {},
     "output_type": "display_data"
    }
   ],
   "source": [
    "# State\n",
    "SATED = 1\n",
    "HUNGRY = 2\n",
    "\n",
    "# Action\n",
    "FEED = 1\n",
    "IGNORE = 2\n",
    "SING = 3\n",
    "\n",
    "# Observation\n",
    "CRYING = true\n",
    "QUIET = false\n",
    "\n",
    "# Belief state\n",
    "b = [0.5, 0.5]"
   ]
  },
  {
   "cell_type": "markdown",
   "metadata": {},
   "source": [
    "#### 2. Transition, Reward, Observation Function\n",
    "Code in crying_baby.jl\n",
    "$$ T(sated | hungry, feed) = 100\\% $$\n",
    "$$ T(hungry | hungry, sing) = 100\\% $$\n",
    "$$ T(hungry | hungry, ignore) = 100\\% $$\n",
    "$$ T(sated | sated, feed) = 100\\% $$\n",
    "$$ T(hungry | sated, sing) = 10\\% $$\n",
    "$$ T(hungry | sated, ignore) = 10\\% $$\n",
    "\n",
    "$$ R(hungry) \\rightarrow -10$$\n",
    "$$ R(feed) \\rightarrow -5$$\n",
    "$$ R(sing) \\rightarrow -0.5$$\n",
    "\n",
    "$$ O(cry | feed, hungry) = 80\\% $$\n",
    "$$ O(cry | sing, hungry) = 90\\% $$\n",
    "$$ O(cry | ignore, hungry) = 80\\%$$\n",
    "$$ O(cry | feed, sated) = 10\\%$$\n",
    "$$ O(cry | sing, sated) = 0\\% $$\n",
    "$$ O(cry | ignore, sated) = 10%$$\n",
    "\n"
   ]
  },
  {
   "cell_type": "markdown",
   "metadata": {},
   "source": [
    "### II/ Crying Baby"
   ]
  },
  {
   "cell_type": "markdown",
   "metadata": {},
   "source": [
    "#### 1. POMDP Structure "
   ]
  },
  {
   "cell_type": "code",
   "execution_count": null,
   "metadata": {},
   "outputs": [],
   "source": [
    "mCB = CryingBaby()\n",
    "decprobCB = POMDP(mCB)"
   ]
  },
  {
   "cell_type": "markdown",
   "metadata": {},
   "source": [
    "#### 2. Solution"
   ]
  },
  {
   "cell_type": "markdown",
   "metadata": {},
   "source": [
    "##### Conditional Plan"
   ]
  },
  {
   "cell_type": "code",
   "execution_count": null,
   "metadata": {},
   "outputs": [],
   "source": [
    "iteration = ValueIteration(6)\n",
    "alpha_vector = solve_conditional_plan_nonlinear(iteration, decprobCB)"
   ]
  },
  {
   "cell_type": "code",
   "execution_count": null,
   "metadata": {},
   "outputs": [],
   "source": [
    "print(alpha_vector.Γ)"
   ]
  },
  {
   "cell_type": "markdown",
   "metadata": {},
   "source": [
    "#### Controller Policy"
   ]
  },
  {
   "cell_type": "code",
   "execution_count": null,
   "metadata": {},
   "outputs": [],
   "source": [
    "nlp = NonlinearProgramming(b, 3)\n",
    "controllerPolicy = solve_controller_nonlinear(nlp, decprobCB)"
   ]
  },
  {
   "cell_type": "code",
   "execution_count": null,
   "metadata": {},
   "outputs": [],
   "source": [
    "print(controllerPolicy.ψ)"
   ]
  },
  {
   "cell_type": "markdown",
   "metadata": {},
   "source": [
    "### III/ Multi-Caregiver Crying Baby"
   ]
  },
  {
   "cell_type": "markdown",
   "metadata": {},
   "source": [
    "#### 1. POMG Structure"
   ]
  },
  {
   "cell_type": "code",
   "execution_count": 3,
   "metadata": {},
   "outputs": [
    {
     "data": {
      "text/plain": [
       "POMG(0.9, [1, 2], [1, 2], [[1, 2, 3], [1, 2, 3]], Vector{Bool}[[1, 0], [1, 0]], Main.POMGProblems.var\"#200#205\"{Main.POMGProblems.BabyPOMG}(Main.POMGProblems.BabyPOMG(CryingBaby\n",
       "  r_hungry: Float64 -10.0\n",
       "  r_feed: Float64 -5.0\n",
       "  r_sing: Float64 -0.5\n",
       "  p_become_hungry: Float64 0.1\n",
       "  p_cry_when_hungry: Float64 0.8\n",
       "  p_cry_when_not_hungry: Float64 0.1\n",
       "  p_cry_when_hungry_in_sing: Float64 0.9\n",
       "  γ: Float64 0.9\n",
       ")), Main.POMGProblems.var\"#201#206\"{Main.POMGProblems.BabyPOMG}(Main.POMGProblems.BabyPOMG(CryingBaby\n",
       "  r_hungry: Float64 -10.0\n",
       "  r_feed: Float64 -5.0\n",
       "  r_sing: Float64 -0.5\n",
       "  p_become_hungry: Float64 0.1\n",
       "  p_cry_when_hungry: Float64 0.8\n",
       "  p_cry_when_not_hungry: Float64 0.1\n",
       "  p_cry_when_hungry_in_sing: Float64 0.9\n",
       "  γ: Float64 0.9\n",
       ")), Main.POMGProblems.var\"#202#207\"{Main.POMGProblems.BabyPOMG}(Main.POMGProblems.BabyPOMG(CryingBaby\n",
       "  r_hungry: Float64 -10.0\n",
       "  r_feed: Float64 -5.0\n",
       "  r_sing: Float64 -0.5\n",
       "  p_become_hungry: Float64 0.1\n",
       "  p_cry_when_hungry: Float64 0.8\n",
       "  p_cry_when_not_hungry: Float64 0.1\n",
       "  p_cry_when_hungry_in_sing: Float64 0.9\n",
       "  γ: Float64 0.9\n",
       ")))"
      ]
     },
     "metadata": {},
     "output_type": "display_data"
    }
   ],
   "source": [
    "mMCB = MultiCaregiverCryingBaby()\n",
    "decprobMCB = POMG(mMCB)"
   ]
  },
  {
   "cell_type": "markdown",
   "metadata": {},
   "source": [
    "#### 2. Solution"
   ]
  },
  {
   "cell_type": "markdown",
   "metadata": {},
   "source": [
    "##### Nash Equilibrium"
   ]
  },
  {
   "cell_type": "code",
   "execution_count": null,
   "metadata": {},
   "outputs": [],
   "source": [
    "pomgNE = POMGNashEquilibrium(b, 1)\n",
    "solve_pomg_nash(pomgNE, decprobMCB)"
   ]
  },
  {
   "cell_type": "markdown",
   "metadata": {},
   "source": [
    "##### Dynamic Programming"
   ]
  },
  {
   "cell_type": "code",
   "execution_count": null,
   "metadata": {},
   "outputs": [],
   "source": [
    "pomgDP = POMGDynamicProgramming(b, 1)\n",
    "DPPolicy = DynamicProgramming(pomgDP, decprobMCB) "
   ]
  },
  {
   "cell_type": "markdown",
   "metadata": {},
   "source": [
    "###"
   ]
  }
 ],
 "metadata": {
  "interpreter": {
   "hash": "4c1ad05980a945146a58908fed39f057c9aa5cf6245402bc088cd01a8d4f9269"
  },
  "kernelspec": {
   "display_name": "Julia 1.7.0",
   "language": "julia",
   "name": "julia-1.7"
  },
  "language_info": {
   "file_extension": ".jl",
   "mimetype": "application/julia",
   "name": "julia",
   "version": "1.7.0"
  },
  "orig_nbformat": 4
 },
 "nbformat": 4,
 "nbformat_minor": 2
}
