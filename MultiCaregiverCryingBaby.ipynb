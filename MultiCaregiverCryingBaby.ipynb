{
 "cells": [
  {
   "cell_type": "markdown",
   "metadata": {},
   "source": [
    "### I/ Setup"
   ]
  },
  {
   "cell_type": "markdown",
   "metadata": {},
   "source": [
    "#### 1. Include"
   ]
  },
  {
   "cell_type": "code",
   "execution_count": 1,
   "metadata": {},
   "outputs": [],
   "source": [
    "include(\"POMGProblems.jl\")\n",
    "using .POMGProblems"
   ]
  },
  {
   "cell_type": "markdown",
   "metadata": {},
   "source": [
    "#### 2. State, Action, Observation, belief state"
   ]
  },
  {
   "cell_type": "code",
   "execution_count": 2,
   "metadata": {},
   "outputs": [
    {
     "data": {
      "text/plain": [
       "Dict{Bool, String} with 2 entries:\n",
       "  0 => \"Quiet\"\n",
       "  1 => \"Crying\""
      ]
     },
     "execution_count": 2,
     "metadata": {},
     "output_type": "execute_result"
    }
   ],
   "source": [
    "# State\n",
    "SATED = 1\n",
    "HUNGRY = 2\n",
    "\n",
    "# Action\n",
    "FEED = 1\n",
    "IGNORE = 2\n",
    "SING = 3\n",
    "\n",
    "# Observation\n",
    "CRYING = true\n",
    "QUIET = false\n",
    "\n",
    "# Belief state\n",
    "b = [0.5, 0.5]\n",
    "\n",
    "state = Dict(SATED => \"SATED\", HUNGRY => \"HUNGRY\")\n",
    "action = Dict(FEED => \"FEED\", IGNORE => \"IGNORE\", SING => \"SING\")\n",
    "observation = Dict(CRYING => \"Crying\", QUIET => \"Quiet\")\n"
   ]
  },
  {
   "cell_type": "markdown",
   "metadata": {},
   "source": [
    "#### 2. Transition, Reward, Observation Function\n",
    "Code in crying_baby.jl\n",
    "$$ T(sated | hungry, feed) = 100\\% $$\n",
    "$$ T(hungry | hungry, sing) = 100\\% $$\n",
    "$$ T(hungry | hungry, ignore) = 100\\% $$\n",
    "$$ T(sated | sated, feed) = 100\\% $$\n",
    "$$ T(hungry | sated, sing) = 10\\% $$\n",
    "$$ T(hungry | sated, ignore) = 10\\% $$\n",
    "\n",
    "$$ R(hungry) \\rightarrow -10$$\n",
    "$$ R(feed) \\rightarrow -5$$\n",
    "$$ R(sing) \\rightarrow -0.5$$\n",
    "\n",
    "$$ O(cry | feed, hungry) = 80\\% $$\n",
    "$$ O(cry | sing, hungry) = 90\\% $$\n",
    "$$ O(cry | ignore, hungry) = 80\\%$$\n",
    "$$ O(cry | feed, sated) = 10\\%$$\n",
    "$$ O(cry | sing, sated) = 0\\% $$\n",
    "$$ O(cry | ignore, sated) = 10%$$\n",
    "\n"
   ]
  },
  {
   "cell_type": "markdown",
   "metadata": {},
   "source": [
    "### II/ Crying Baby"
   ]
  },
  {
   "cell_type": "markdown",
   "metadata": {},
   "source": [
    "#### 1. POMDP Structure "
   ]
  },
  {
   "cell_type": "code",
   "execution_count": 3,
   "metadata": {},
   "outputs": [
    {
     "name": "stdout",
     "output_type": "stream",
     "text": [
      "DiscretePOMDP([1.0 0.9 0.9; 1.0 0.0 0.0;;; 0.0 0.1 0.1; 0.0 1.0 1.0], [-5.0 0.0 -0.5; -15.0 -10.0 -10.5], [0.1 0.8; 0.1 0.8; 0.0 0.9;;; 0.9 0.19999999999999996; 0.9 0.19999999999999996; 1.0 0.09999999999999998], 0.9)"
     ]
    },
    {
     "data": {
      "text/plain": [
       "POMDP(0.9, [1, 2], [1, 2, 3], [1, 2], Main.POMGProblems.var\"#6#10\"{DiscretePOMDP}(DiscretePOMDP([1.0 0.9 0.9; 1.0 0.0 0.0;;; 0.0 0.1 0.1; 0.0 1.0 1.0], [-5.0 0.0 -0.5; -15.0 -10.0 -10.5], [0.1 0.8; 0.1 0.8; 0.0 0.9;;; 0.9 0.19999999999999996; 0.9 0.19999999999999996; 1.0 0.09999999999999998], 0.9)), Main.POMGProblems.var\"#7#11\"{DiscretePOMDP}(DiscretePOMDP([1.0 0.9 0.9; 1.0 0.0 0.0;;; 0.0 0.1 0.1; 0.0 1.0 1.0], [-5.0 0.0 -0.5; -15.0 -10.0 -10.5], [0.1 0.8; 0.1 0.8; 0.0 0.9;;; 0.9 0.19999999999999996; 0.9 0.19999999999999996; 1.0 0.09999999999999998], 0.9)), Main.POMGProblems.var\"#8#12\"{DiscretePOMDP}(DiscretePOMDP([1.0 0.9 0.9; 1.0 0.0 0.0;;; 0.0 0.1 0.1; 0.0 1.0 1.0], [-5.0 0.0 -0.5; -15.0 -10.0 -10.5], [0.1 0.8; 0.1 0.8; 0.0 0.9;;; 0.9 0.19999999999999996; 0.9 0.19999999999999996; 1.0 0.09999999999999998], 0.9)), Main.POMGProblems.var\"#9#13\"{DiscretePOMDP}(DiscretePOMDP([1.0 0.9 0.9; 1.0 0.0 0.0;;; 0.0 0.1 0.1; 0.0 1.0 1.0], [-5.0 0.0 -0.5; -15.0 -10.0 -10.5], [0.1 0.8; 0.1 0.8; 0.0 0.9;;; 0.9 0.19999999999999996; 0.9 0.19999999999999996; 1.0 0.09999999999999998], 0.9)))"
      ]
     },
     "execution_count": 3,
     "metadata": {},
     "output_type": "execute_result"
    }
   ],
   "source": [
    "mCB = CryingBaby()\n",
    "decprobCB = POMDP(mCB)"
   ]
  },
  {
   "cell_type": "markdown",
   "metadata": {},
   "source": [
    "#### 2. Solution"
   ]
  },
  {
   "cell_type": "markdown",
   "metadata": {},
   "source": [
    "##### Conditional Plan"
   ]
  },
  {
   "cell_type": "code",
   "execution_count": 4,
   "metadata": {},
   "outputs": [
    {
     "name": "stdout",
     "output_type": "stream",
     "text": [
      "Distributions.Categorical{Float64, Vector{Float64}}(support=Base.OneTo(2), p=[1.0, 0.0])Distributions.Categorical{Float64, Vector{Float64}}(support=Base.OneTo(2), p=[0.1, 0.9])Distributions.Categorical{Float64, Vector{Float64}}(support=Base.OneTo(2), p=[0.1, 0.9])Distributions.Categorical{Float64, Vector{Float64}}(support=Base.OneTo(2), p=[1.0, 0.0])Distributions.Categorical{Float64, Vector{Float64}}(support=Base.OneTo(2), p=[0.8, 0.19999999999999996])Distributions.Categorical{Float64, Vector{Float64}}(support=Base.OneTo(2), p=[0.8, 0.19999999999999996])Distributions.Categorical{Float64, Vector{Float64}}(support=Base.OneTo(2), p=[1.0, 0.0])Distributions.Categorical{Float64, Vector{Float64}}(support=Base.OneTo(2), p=[0.1, 0.9])Distributions.Categorical{Float64, Vector{Float64}}(support=Base.OneTo(2), p=[0.1, 0.9])Distributions.Categorical{Float64, Vector{Float64}}(support=Base.OneTo(2), p=[1.0, 0.0])Distributions.Categorical{Float64, Vector{Float64}}(support=Base.OneTo(2), p=[0.8, 0.19999999999999996])Distributions.Categorical{Float64, Vector{Float64}}(support=Base.OneTo(2), p=[0.8, 0.19999999999999996])Distributions.Categorical{Float64, Vector{Float64}}(support=Base.OneTo(2), p=[0.9, 0.1])Distributions.Categorical{Float64, Vector{Float64}}(support=Base.OneTo(2), p=[0.1, 0.9])Distributions.Categorical{Float64, Vector{Float64}}(support=Base.OneTo(2), p=[0.1, 0.9])Distributions.Categorical{Float64, Vector{Float64}}(support=Base.OneTo(2), p=[0.9, 0.1])Distributions.Categorical{Float64, Vector{Float64}}(support=Base.OneTo(2), p=[0.8, 0.19999999999999996])Distributions.Categorical{Float64, Vector{Float64}}(support=Base.OneTo(2), p=[0.8, 0.19999999999999996])Distributions.Categorical{Float64, Vector{Float64}}(support=Base.OneTo(2), p=[0.0, 1.0])Distributions.Categorical{Float64, Vector{Float64}}(support=Base.OneTo(2), p=[0.1, 0.9])Distributions.Categorical{Float64, Vector{Float64}}(support=Base.OneTo(2), p=[0.1, 0.9])Distributions.Categorical{Float64, Vector{Float64}}(support=Base.OneTo(2), p=[0.0, 1.0])Distributions.Categorical{Float64, Vector{Float64}}(support=Base.OneTo(2), p=[0.8, 0.19999999999999996])Distributions.Categorical{Float64, Vector{Float64}}(support=Base.OneTo(2), p=[0.8, 0.19999999999999996])Distributions.Categorical{Float64, Vector{Float64}}(support=Base.OneTo(2), p=[0.9, 0.1])Distributions.Categorical{Float64, Vector{Float64}}(support=Base.OneTo(2), p=[0.0, 1.0])Distributions.Categorical{Float64, Vector{Float64}}(support=Base.OneTo(2), p=[0.0, 1.0])Distributions.Categorical{Float64, Vector{Float64}}(support=Base.OneTo(2), p=[0.9, 0.1])Distributions.Categorical{Float64, Vector{Float64}}(support=Base.OneTo(2), p=[0.9, 0.09999999999999998])Distributions.Categorical{Float64, Vector{Float64}}(support=Base.OneTo(2), p=[0.9, 0.09999999999999998])Distributions.Categorical{Float64, Vector{Float64}}(support=Base.OneTo(2), p=[0.0, 1.0])Distributions.Categorical{Float64, Vector{Float64}}(support=Base.OneTo(2), p=[0.0, 1.0])Distributions.Categorical{Float64, Vector{Float64}}(support=Base.OneTo(2), p=[0.0, 1.0])Distributions.Categorical{Float64, Vector{Float64}}(support=Base.OneTo(2), p=[0.0, 1.0])Distributions.Categorical{Float64, Vector{Float64}}(support=Base.OneTo(2), p=[0.9, 0.09999999999999998])Distributions.Categorical{Float64, Vector{Float64}}(support=Base.OneTo(2), p=[0.9, 0.09999999999999998])Distributions.Categorical{Float64, Vector{Float64}}(support=Base.OneTo(2), p=[1.0, 0.0])Distributions.Categorical{Float64, Vector{Float64}}(support=Base.OneTo(2), p=[0.1, 0.9])Distributions.Categorical{Float64, Vector{Float64}}(support=Base.OneTo(2), p=[0.1, 0.9])Distributions.Categorical{Float64, Vector{Float64}}(support=Base.OneTo(2), p=[1.0, 0.0])Distributions.Categorical{Float64, Vector{Float64}}(support=Base.OneTo(2), p=[0.8, 0.19999999999999996])Distributions.Categorical{Float64, Vector{Float64}}(support=Base.OneTo(2), p=[0.8, 0.19999999999999996])Distributions.Categorical{Float64, Vector{Float64}}(support=Base.OneTo(2), p=[1.0, 0.0])Distributions.Categorical{Float64, Vector{Float64}}(support=Base.OneTo(2), p=[0.1, 0.9])Distributions.Categorical{Float64, Vector{Float64}}(support=Base.OneTo(2), p=[0.1, 0.9])Distributions.Categorical{Float64, Vector{Float64}}(support=Base.OneTo(2), p=[1.0, 0.0])Distributions.Categorical{Float64, Vector{Float64}}(support=Base.OneTo(2), p=[0.8, 0.19999999999999996])Distributions.Categorical{Float64, Vector{Float64}}(support=Base.OneTo(2), p=[0.8, 0.19999999999999996])Distributions.Categorical{Float64, Vector{Float64}}(support=Base.OneTo(2), p=[1.0, 0.0])Distributions.Categorical{Float64, Vector{Float64}}(support=Base.OneTo(2), p=[0.1, 0.9])Distributions.Categorical{Float64, Vector{Float64}}(support=Base.OneTo(2), p=[0.1, 0.9])Distributions.Categorical{Float64, Vector{Float64}}(support=Base.OneTo(2), p=[1.0, 0.0])Distributions.Categorical{Float64, Vector{Float64}}(support=Base.OneTo(2), p=[0.8, 0.19999999999999996])Distributions.Categorical{Float64, Vector{Float64}}(support=Base.OneTo(2), p=[0.8, 0.19999999999999996])Distributions.Categorical{Float64, Vector{Float64}}(support=Base.OneTo(2), p=[1.0, 0.0])Distributions.Categorical{Float64, Vector{Float64}}(support=Base.OneTo(2), p=[0.1, 0.9])Distributions.Categorical{Float64, Vector{Float64}}(support=Base.OneTo(2), p=[0.1, 0.9])Distributions.Categorical{Float64, Vector{Float64}}(support=Base.OneTo(2), p=[1.0, 0.0])Distributions.Categorical{Float64, Vector{Float64}}(support=Base.OneTo(2), p=[0.8, 0.19999999999999996])Distributions.Categorical{Float64, Vector{Float64}}(support=Base.OneTo(2), p=[0.8, 0.19999999999999996])Distributions.Categorical{Float64, Vector{Float64}}(support=Base.OneTo(2), p=[1.0, 0.0])Distributions.Categorical{Float64, Vector{Float64}}(support=Base.OneTo(2), p=[0.1, 0.9])Distributions.Categorical{Float64, Vector{Float64}}(support=Base.OneTo(2), p=[0.1, 0.9])Distributions.Categorical{Float64, Vector{Float64}}(support=Base.OneTo(2), p=[1.0, 0.0])Distributions.Categorical{Float64, Vector{Float64}}(support=Base.OneTo(2), p=[0.8, 0.19999999999999996])Distributions.Categorical{Float64, Vector{Float64}}(support=Base.OneTo(2), p=[0.8, 0.19999999999999996])Distributions.Categorical{Float64, Vector{Float64}}(support=Base.OneTo(2), p=[1.0, 0.0])Distributions.Categorical{Float64, Vector{Float64}}(support=Base.OneTo(2), p=[0.1, 0.9])Distributions.Categorical{Float64, Vector{Float64}}(support=Base.OneTo(2), p=[0.1, 0.9])Distributions.Categorical{Float64, Vector{Float64}}(support=Base.OneTo(2), p=[1.0, 0.0])Distributions.Categorical{Float64, Vector{Float64}}(support=Base.OneTo(2), p=[0.8, 0.19999999999999996])Distributions.Categorical{Float64, Vector{Float64}}(support=Base.OneTo(2), p=[0.8, 0.19999999999999996])Distributions.Categorical{Float64, Vector{Float64}}(support=Base.OneTo(2), p=[1.0, 0.0])Distributions.Categorical{Float64, Vector{Float64}}(support=Base.OneTo(2), p=[0.1, 0.9])Distributions.Categorical{Float64, Vector{Float64}}(support=Base.OneTo(2), p=[0.1, 0.9])Distributions.Categorical{Float64, Vector{Float64}}(support=Base.OneTo(2), p=[1.0, 0.0])Distributions.Categorical{Float64, Vector{Float64}}(support=Base.OneTo(2), p=[0.8, 0.19999999999999996])Distributions.Categorical{Float64, Vector{Float64}}(support=Base.OneTo(2), p=[0.8, 0.19999999999999996])Distributions.Categorical{Float64, Vector{Float64}}(support=Base.OneTo(2), p=[1.0, 0.0])Distributions.Categorical{Float64, Vector{Float64}}(support=Base.OneTo(2), p=[0.1, 0.9])Distributions.Categorical{Float64, Vector{Float64}}(support=Base.OneTo(2), p=[0.1, 0.9])Distributions.Categorical{Float64, Vector{Float64}}(support=Base.OneTo(2), p=[1.0, 0.0])Distributions.Categorical{Float64, Vector{Float64}}(support=Base.OneTo(2), p=[0.8, 0.19999999999999996])Distributions.Categorical{Float64, Vector{Float64}}(support=Base.OneTo(2), p=[0.8, 0.19999999999999996])Distributions.Categorical{Float64, Vector{Float64}}(support=Base.OneTo(2), p=[0.9, 0.1])Distributions.Categorical{Float64, Vector{Float64}}(support=Base.OneTo(2), p=[0.1, 0.9])Distributions.Categorical{Float64, Vector{Float64}}(support=Base.OneTo(2), p=[0.1, 0.9])Distributions.Categorical{Float64, Vector{Float64}}(support=Base.OneTo(2), p=[0.9, 0.1])Distributions.Categorical{Float64, Vector{Float64}}(support=Base.OneTo(2), p=[0.8, 0.19999999999999996])Distributions.Categorical{Float64, Vector{Float64}}(support=Base.OneTo(2), p=[0.8, 0.19999999999999996])Distributions.Categorical{Float64, Vector{Float64}}(support=Base.OneTo(2), p=[0.0, 1.0])Distributions.Categorical{Float64, Vector{Float64}}(support=Base.OneTo(2), p=[0.1, 0.9])Distributions.Categorical{Float64, Vector{Float64}}(support=Base.OneTo(2), p=[0.1, 0.9])Distributions.Categorical{Float64, Vector{Float64}}(support=Base.OneTo(2), p=[0.0, 1.0])Distributions.Categorical{Float64, Vector{Float64}}(support=Base.OneTo(2), p=[0.8, 0.19999999999999996])Distributions.Categorical{Float64, Vector{Float64}}(support=Base.OneTo(2), p=[0.8, 0.19999999999999996])Distributions.Categorical{Float64, Vector{Float64}}(support=Base.OneTo(2), p=[0.9, 0.1])Distributions.Categorical{Float64, Vector{Float64}}(support=Base.OneTo(2), p=[0.1, 0.9])Distributions.Categorical{Float64, Vector{Float64}}(support=Base.OneTo(2), p=[0.1, 0.9])Distributions.Categorical{Float64, Vector{Float64}}(support=Base.OneTo(2), p=[0.9, 0.1])Distributions.Categorical{Float64, Vector{Float64}}(support=Base.OneTo(2), p=[0.8, 0.19999999999999996])Distributions.Categorical{Float64, Vector{Float64}}(support=Base.OneTo(2), p=[0.8, 0.19999999999999996])Distributions.Categorical{Float64, Vector{Float64}}(support=Base.OneTo(2), p=[0.0, 1.0])Distributions.Categorical{Float64, Vector{Float64}}(support=Base.OneTo(2), p=[0.1, 0.9])Distributions.Categorical{Float64, Vector{Float64}}(support=Base.OneTo(2), p=[0.1, 0.9])Distributions.Categorical{Float64, Vector{Float64}}(support=Base.OneTo(2), p=[0.0, 1.0])Distributions.Categorical{Float64, Vector{Float64}}(support=Base.OneTo(2), p=[0.8, 0.19999999999999996])Distributions.Categorical{Float64, Vector{Float64}}(support=Base.OneTo(2), p=[0.8, 0.19999999999999996])Distributions.Categorical{Float64, Vector{Float64}}(support=Base.OneTo(2), p=[0.9, 0.1])Distributions.Categorical{Float64, Vector{Float64}}(support=Base.OneTo(2), p=[0.1, 0.9])Distributions.Categorical{Float64, Vector{Float64}}(support=Base.OneTo(2), p=[0.1, 0.9])Distributions.Categorical{Float64, Vector{Float64}}(support=Base.OneTo(2), p=[0.9, 0.1])Distributions.Categorical{Float64, Vector{Float64}}(support=Base.OneTo(2), p=[0.8, 0.19999999999999996])Distributions.Categorical{Float64, Vector{Float64}}(support=Base.OneTo(2), p=[0.8, 0.19999999999999996])Distributions.Categorical{Float64, Vector{Float64}}(support=Base.OneTo(2), p=[0.0, 1.0])Distributions.Categorical{Float64, Vector{Float64}}(support=Base.OneTo(2), p=[0.1, 0.9])Distributions.Categorical{Float64, Vector{Float64}}(support=Base.OneTo(2), p=[0.1, 0.9])Distributions.Categorical{Float64, Vector{Float64}}(support=Base.OneTo(2), p=[0.0, 1.0])Distributions.Categorical{Float64, Vector{Float64}}(support=Base.OneTo(2), p=[0.8, 0.19999999999999996])Distributions.Categorical{Float64, Vector{Float64}}(support=Base.OneTo(2), p=[0.8, 0.19999999999999996])Distributions.Categorical{Float64, Vector{Float64}}(support=Base.OneTo(2), p=[0.9, 0.1])Distributions.Categorical{Float64, Vector{Float64}}(support=Base.OneTo(2), p=[0.1, 0.9])Distributions.Categorical{Float64, Vector{Float64}}(support=Base.OneTo(2), p=[0.1, 0.9])Distributions.Categorical{Float64, Vector{Float64}}(support=Base.OneTo(2), p=[0.9, 0.1])Distributions.Categorical{Float64, Vector{Float64}}(support=Base.OneTo(2), p=[0.8, 0.19999999999999996])Distributions.Categorical{Float64, Vector{Float64}}(support=Base.OneTo(2), p=[0.8, 0.19999999999999996])Distributions.Categorical{Float64, Vector{Float64}}(support=Base.OneTo(2), p=[0.0, 1.0])Distributions.Categorical{Float64, Vector{Float64}}(support=Base.OneTo(2), p=[0.1, 0.9])Distributions.Categorical{Float64, Vector{Float64}}(support=Base.OneTo(2), p=[0.1, 0.9])Distributions.Categorical{Float64, Vector{Float64}}(support=Base.OneTo(2), p=[0.0, 1.0])Distributions.Categorical{Float64, Vector{Float64}}(support=Base.OneTo(2), p=[0.8, 0.19999999999999996])Distributions.Categorical{Float64, Vector{Float64}}(support=Base.OneTo(2), p=[0.8, 0.19999999999999996])Distributions.Categorical{Float64, Vector{Float64}}(support=Base.OneTo(2), p=[0.9, 0.1])Distributions.Categorical{Float64, Vector{Float64}}(support=Base.OneTo(2), p=[0.0, 1.0])Distributions.Categorical{Float64, Vector{Float64}}(support=Base.OneTo(2), p=[0.0, 1.0])Distributions.Categorical{Float64, Vector{Float64}}(support=Base.OneTo(2), p=[0.9, 0.1])Distributions.Categorical{Float64, Vector{Float64}}(support=Base.OneTo(2), p=[0.9, 0.09999999999999998])Distributions.Categorical{Float64, Vector{Float64}}(support=Base.OneTo(2), p=[0.9, 0.09999999999999998])Distributions.Categorical{Float64, Vector{Float64}}(support=Base.OneTo(2), p=[0.0, 1.0])Distributions.Categorical{Float64, Vector{Float64}}(support=Base.OneTo(2), p=[0.0, 1.0])Distributions.Categorical{Float64, Vector{Float64}}(support=Base.OneTo(2), p=[0.0, 1.0])Distributions.Categorical{Float64, Vector{Float64}}(support=Base.OneTo(2), p=[0.0, 1.0])Distributions.Categorical{Float64, Vector{Float64}}(support=Base.OneTo(2), p=[0.9, 0.09999999999999998])Distributions.Categorical{Float64, Vector{Float64}}(support=Base.OneTo(2), p=[0.9, 0.09999999999999998])Distributions.Categorical{Float64, Vector{Float64}}(support=Base.OneTo(2), p=[0.9, 0.1])Distributions.Categorical{Float64, Vector{Float64}}(support=Base.OneTo(2), p=[0.0, 1.0])Distributions.Categorical{Float64, Vector{Float64}}(support=Base.OneTo(2), p=[0.0, 1.0])Distributions.Categorical{Float64, Vector{Float64}}(support=Base.OneTo(2), p=[0.9, 0.1])Distributions.Categorical{Float64, Vector{Float64}}(support=Base.OneTo(2), p=[0.9, 0.09999999999999998])Distributions.Categorical{Float64, Vector{Float64}}(support=Base.OneTo(2), p=[0.9, 0.09999999999999998])Distributions.Categorical{Float64, Vector{Float64}}(support=Base.OneTo(2), p=[0.0, 1.0])Distributions.Categorical{Float64, Vector{Float64}}(support=Base.OneTo(2), p=[0.0, 1.0])Distributions.Categorical{Float64, Vector{Float64}}(support=Base.OneTo(2), p=[0.0, 1.0])Distributions.Categorical{Float64, Vector{Float64}}(support=Base.OneTo(2), p=[0.0, 1.0])Distributions.Categorical{Float64, Vector{Float64}}(support=Base.OneTo(2), p=[0.9, 0.09999999999999998])Distributions.Categorical{Float64, Vector{Float64}}(support=Base.OneTo(2), p=[0.9, 0.09999999999999998])Distributions.Categorical{Float64, Vector{Float64}}(support=Base.OneTo(2), p=[0.9, 0.1])Distributions.Categorical{Float64, Vector{Float64}}(support=Base.OneTo(2), p=[0.0, 1.0])Distributions.Categorical{Float64, Vector{Float64}}(support=Base.OneTo(2), p=[0.0, 1.0])Distributions.Categorical{Float64, Vector{Float64}}(support=Base.OneTo(2), p=[0.9, 0.1])Distributions.Categorical{Float64, Vector{Float64}}(support=Base.OneTo(2), p=[0.9, 0.09999999999999998])Distributions.Categorical{Float64, Vector{Float64}}(support=Base.OneTo(2), p=[0.9, 0.09999999999999998])Distributions.Categorical{Float64, Vector{Float64}}(support=Base.OneTo(2), p=[0.0, 1.0])Distributions.Categorical{Float64, Vector{Float64}}(support=Base.OneTo(2), p=[0.0, 1.0])Distributions.Categorical{Float64, Vector{Float64}}(support=Base.OneTo(2), p=[0.0, 1.0])Distributions.Categorical{Float64, Vector{Float64}}(support=Base.OneTo(2), p=[0.0, 1.0])Distributions.Categorical{Float64, Vector{Float64}}(support=Base.OneTo(2), p=[0.9, 0.09999999999999998])Distributions.Categorical{Float64, Vector{Float64}}(support=Base.OneTo(2), p=[0.9, 0.09999999999999998])Distributions.Categorical{Float64, Vector{Float64}}(support=Base.OneTo(2), p=[0.9, 0.1])Distributions.Categorical{Float64, Vector{Float64}}(support=Base.OneTo(2), p=[0.0, 1.0])Distributions.Categorical{Float64, Vector{Float64}}(support=Base.OneTo(2), p=[0.0, 1.0])Distributions.Categorical{Float64, Vector{Float64}}(support=Base.OneTo(2), p=[0.9, 0.1])Distributions.Categorical{Float64, Vector{Float64}}(support=Base.OneTo(2), p=[0.9, 0.09999999999999998])Distributions.Categorical{Float64, Vector{Float64}}(support=Base.OneTo(2), p=[0.9, 0.09999999999999998])Distributions.Categorical{Float64, Vector{Float64}}(support=Base.OneTo(2), p=[0.0, 1.0])Distributions.Categorical{Float64, Vector{Float64}}(support=Base.OneTo(2), p=[0.0, 1.0])Distributions.Categorical{Float64, Vector{Float64}}(support=Base.OneTo(2), p=[0.0, 1.0])Distributions.Categorical{Float64, Vector{Float64}}(support=Base.OneTo(2), p=[0.0, 1.0])Distributions.Categorical{Float64, Vector{Float64}}(support=Base.OneTo(2), p=[0.9, 0.09999999999999998])Distributions.Categorical{Float64, Vector{Float64}}(support=Base.OneTo(2), p=[0.9, 0.09999999999999998])Distributions.Categorical{Float64, Vector{Float64}}(support=Base.OneTo(2), p=[1.0, 0.0])Distributions.Categorical{Float64, Vector{Float64}}(support=Base.OneTo(2), p=[0.1, 0.9])Distributions.Categorical{Float64, Vector{Float64}}(support=Base.OneTo(2), p=[0.1, 0.9])Distributions.Categorical{Float64, Vector{Float64}}(support=Base.OneTo(2), p=[1.0, 0.0])Distributions.Categorical{Float64, Vector{Float64}}(support=Base.OneTo(2), p=[0.8, 0.19999999999999996])Distributions.Categorical{Float64, Vector{Float64}}(support=Base.OneTo(2), p=[0.8, 0.19999999999999996])Distributions.Categorical{Float64, Vector{Float64}}(support=Base.OneTo(2), p=[1.0, 0.0])Distributions.Categorical{Float64, Vector{Float64}}(support=Base.OneTo(2), p=[0.1, 0.9])Distributions.Categorical{Float64, Vector{Float64}}(support=Base.OneTo(2), p=[0.1, 0.9])Distributions.Categorical{Float64, Vector{Float64}}(support=Base.OneTo(2), p=[1.0, 0.0])Distributions.Categorical{Float64, Vector{Float64}}(support=Base.OneTo(2), p=[0.8, 0.19999999999999996])Distributions.Categorical{Float64, Vector{Float64}}(support=Base.OneTo(2), p=[0.8, 0.19999999999999996])Distributions.Categorical{Float64, Vector{Float64}}(support=Base.OneTo(2), p=[1.0, 0.0])Distributions.Categorical{Float64, Vector{Float64}}(support=Base.OneTo(2), p=[0.1, 0.9])Distributions.Categorical{Float64, Vector{Float64}}(support=Base.OneTo(2), p=[0.1, 0.9])Distributions.Categorical{Float64, Vector{Float64}}(support=Base.OneTo(2), p=[1.0, 0.0])Distributions.Categorical{Float64, Vector{Float64}}(support=Base.OneTo(2), p=[0.8, 0.19999999999999996])Distributions.Categorical{Float64, Vector{Float64}}(support=Base.OneTo(2), p=[0.8, 0.19999999999999996])Distributions.Categorical{Float64, Vector{Float64}}(support=Base.OneTo(2), p=[1.0, 0.0])Distributions.Categorical{Float64, Vector{Float64}}(support=Base.OneTo(2), p=[0.1, 0.9])Distributions.Categorical{Float64, Vector{Float64}}(support=Base.OneTo(2), p=[0.1, 0.9])Distributions.Categorical{Float64, Vector{Float64}}(support=Base.OneTo(2), p=[1.0, 0.0])Distributions.Categorical{Float64, Vector{Float64}}(support=Base.OneTo(2), p=[0.8, 0.19999999999999996])Distributions.Categorical{Float64, Vector{Float64}}(support=Base.OneTo(2), p=[0.8, 0.19999999999999996])Distributions.Categorical{Float64, Vector{Float64}}(support=Base.OneTo(2), p=[1.0, 0.0])Distributions.Categorical{Float64, Vector{Float64}}(support=Base.OneTo(2), p=[0.1, 0.9])Distributions.Categorical{Float64, Vector{Float64}}(support=Base.OneTo(2), p=[0.1, 0.9])Distributions.Categorical{Float64, Vector{Float64}}(support=Base.OneTo(2), p=[1.0, 0.0])Distributions.Categorical{Float64, Vector{Float64}}(support=Base.OneTo(2), p=[0.8, 0.19999999999999996])Distributions.Categorical{Float64, Vector{Float64}}(support=Base.OneTo(2), p=[0.8, 0.19999999999999996])Distributions.Categorical{Float64, Vector{Float64}}(support=Base.OneTo(2), p=[1.0, 0.0])Distributions.Categorical{Float64, Vector{Float64}}(support=Base.OneTo(2), p=[0.1, 0.9])Distributions.Categorical{Float64, Vector{Float64}}(support=Base.OneTo(2), p=[0.1, 0.9])Distributions.Categorical{Float64, Vector{Float64}}(support=Base.OneTo(2), p=[1.0, 0.0])Distributions.Categorical{Float64, Vector{Float64}}(support=Base.OneTo(2), p=[0.8, 0.19999999999999996])Distributions.Categorical{Float64, Vector{Float64}}(support=Base.OneTo(2), p=[0.8, 0.19999999999999996])Distributions.Categorical{Float64, Vector{Float64}}(support=Base.OneTo(2), p=[1.0, 0.0])Distributions.Categorical{Float64, Vector{Float64}}(support=Base.OneTo(2), p=[0.1, 0.9])Distributions.Categorical{Float64, Vector{Float64}}(support=Base.OneTo(2), p=[0.1, 0.9])Distributions.Categorical{Float64, Vector{Float64}}(support=Base.OneTo(2), p=[1.0, 0.0])Distributions.Categorical{Float64, Vector{Float64}}(support=Base.OneTo(2), p=[0.8, 0.19999999999999996])Distributions.Categorical{Float64, Vector{Float64}}(support=Base.OneTo(2), p=[0.8, 0.19999999999999996])Distributions.Categorical{Float64, Vector{Float64}}(support=Base.OneTo(2), p=[1.0, 0.0])Distributions.Categorical{Float64, Vector{Float64}}(support=Base.OneTo(2), p=[0.1, 0.9])Distributions.Categorical{Float64, Vector{Float64}}(support=Base.OneTo(2), p=[0.1, 0.9])Distributions.Categorical{Float64, Vector{Float64}}(support=Base.OneTo(2), p=[1.0, 0.0])Distributions.Categorical{Float64, Vector{Float64}}(support=Base.OneTo(2), p=[0.8, 0.19999999999999996])Distributions.Categorical{Float64, Vector{Float64}}(support=Base.OneTo(2), p=[0.8, 0.19999999999999996])Distributions.Categorical{Float64, Vector{Float64}}(support=Base.OneTo(2), p=[1.0, 0.0])Distributions.Categorical{Float64, Vector{Float64}}(support=Base.OneTo(2), p=[0.1, 0.9])Distributions.Categorical{Float64, Vector{Float64}}(support=Base.OneTo(2), p=[0.1, 0.9])Distributions.Categorical{Float64, Vector{Float64}}(support=Base.OneTo(2), p=[1.0, 0.0])Distributions.Categorical{Float64, Vector{Float64}}(support=Base.OneTo(2), p=[0.8, 0.19999999999999996])Distributions.Categorical{Float64, Vector{Float64}}(support=Base.OneTo(2), p=[0.8, 0.19999999999999996])Distributions.Categorical{Float64, Vector{Float64}}(support=Base.OneTo(2), p=[1.0, 0.0])Distributions.Categorical{Float64, Vector{Float64}}(support=Base.OneTo(2), p=[0.1, 0.9])Distributions.Categorical{Float64, Vector{Float64}}(support=Base.OneTo(2), p=[0.1, 0.9])Distributions.Categorical{Float64, Vector{Float64}}(support=Base.OneTo(2), p=[1.0, 0.0])Distributions.Categorical{Float64, Vector{Float64}}(support=Base.OneTo(2), p=[0.8, 0.19999999999999996])Distributions.Categorical{Float64, Vector{Float64}}(support=Base.OneTo(2), p=[0.8, 0.19999999999999996])Distributions.Categorical{Float64, Vector{Float64}}(support=Base.OneTo(2), p=[1.0, 0.0])Distributions.Categorical{Float64, Vector{Float64}}(support=Base.OneTo(2), p=[0.1, 0.9])Distributions.Categorical{Float64, Vector{Float64}}(support=Base.OneTo(2), p=[0.1, 0.9])Distributions.Categorical{Float64, Vector{Float64}}(support=Base.OneTo(2), p=[1.0, 0.0])Distributions.Categorical{Float64, Vector{Float64}}(support=Base.OneTo(2), p=[0.8, 0.19999999999999996])Distributions.Categorical{Float64, Vector{Float64}}(support=Base.OneTo(2), p=[0.8, 0.19999999999999996])Distributions.Categorical{Float64, Vector{Float64}}(support=Base.OneTo(2), p=[1.0, 0.0])Distributions.Categorical{Float64, Vector{Float64}}(support=Base.OneTo(2), p=[0.1, 0.9])Distributions.Categorical{Float64, Vector{Float64}}(support=Base.OneTo(2), p=[0.1, 0.9])Distributions.Categorical{Float64, Vector{Float64}}(support=Base.OneTo(2), p=[1.0, 0.0])Distributions.Categorical{Float64, Vector{Float64}}(support=Base.OneTo(2), p=[0.8, 0.19999999999999996])Distributions.Categorical{Float64, Vector{Float64}}(support=Base.OneTo(2), p=[0.8, 0.19999999999999996])Distributions.Categorical{Float64, Vector{Float64}}(support=Base.OneTo(2), p=[1.0, 0.0])Distributions.Categorical{Float64, Vector{Float64}}(support=Base.OneTo(2), p=[0.1, 0.9])Distributions.Categorical{Float64, Vector{Float64}}(support=Base.OneTo(2), p=[0.1, 0.9])Distributions.Categorical{Float64, Vector{Float64}}(support=Base.OneTo(2), p=[1.0, 0.0])Distributions.Categorical{Float64, Vector{Float64}}(support=Base.OneTo(2), p=[0.8, 0.19999999999999996])Distributions.Categorical{Float64, Vector{Float64}}(support=Base.OneTo(2), p=[0.8, 0.19999999999999996])Distributions.Categorical{Float64, Vector{Float64}}(support=Base.OneTo(2), p=[1.0, 0.0])Distributions.Categorical{Float64, Vector{Float64}}(support=Base.OneTo(2), p=[0.1, 0.9])Distributions.Categorical{Float64, Vector{Float64}}(support=Base.OneTo(2), p=[0.1, 0.9])Distributions.Categorical{Float64, Vector{Float64}}(support=Base.OneTo(2), p=[1.0, 0.0])Distributions.Categorical{Float64, Vector{Float64}}(support=Base.OneTo(2), p=[0.8, 0.19999999999999996])Distributions.Categorical{Float64, Vector{Float64}}(support=Base.OneTo(2), p=[0.8, 0.19999999999999996])Distributions.Categorical{Float64, Vector{Float64}}(support=Base.OneTo(2), p=[1.0, 0.0])Distributions.Categorical{Float64, Vector{Float64}}(support=Base.OneTo(2), p=[0.1, 0.9])Distributions.Categorical{Float64, Vector{Float64}}(support=Base.OneTo(2), p=[0.1, 0.9])Distributions.Categorical{Float64, Vector{Float64}}(support=Base.OneTo(2), p=[1.0, 0.0])Distributions.Categorical{Float64, Vector{Float64}}(support=Base.OneTo(2), p=[0.8, 0.19999999999999996])Distributions.Categorical{Float64, Vector{Float64}}(support=Base.OneTo(2), p=[0.8, 0.19999999999999996])Distributions.Categorical{Float64, Vector{Float64}}(support=Base.OneTo(2), p=[1.0, 0.0])Distributions.Categorical{Float64, Vector{Float64}}(support=Base.OneTo(2), p=[0.1, 0.9])Distributions.Categorical{Float64, Vector{Float64}}(support=Base.OneTo(2), p=[0.1, 0.9])Distributions.Categorical{Float64, Vector{Float64}}(support=Base.OneTo(2), p=[1.0, 0.0])Distributions.Categorical{Float64, Vector{Float64}}(support=Base.OneTo(2), p=[0.8, 0.19999999999999996])Distributions.Categorical{Float64, Vector{Float64}}(support=Base.OneTo(2), p=[0.8, 0.19999999999999996])Distributions.Categorical{Float64, Vector{Float64}}(support=Base.OneTo(2), p=[1.0, 0.0])Distributions.Categorical{Float64, Vector{Float64}}(support=Base.OneTo(2), p=[0.1, 0.9])Distributions.Categorical{Float64, Vector{Float64}}(support=Base.OneTo(2), p=[0.1, 0.9])Distributions.Categorical{Float64, Vector{Float64}}(support=Base.OneTo(2), p=[1.0, 0.0])Distributions.Categorical{Float64, Vector{Float64}}(support=Base.OneTo(2), p=[0.8, 0.19999999999999996])Distributions.Categorical{Float64, Vector{Float64}}(support=Base.OneTo(2), p=[0.8, 0.19999999999999996])Distributions.Categorical{Float64, Vector{Float64}}(support=Base.OneTo(2), p=[1.0, 0.0])Distributions.Categorical{Float64, Vector{Float64}}(support=Base.OneTo(2), p=[0.1, 0.9])Distributions.Categorical{Float64, Vector{Float64}}(support=Base.OneTo(2), p=[0.1, 0.9])Distributions.Categorical{Float64, Vector{Float64}}(support=Base.OneTo(2), p=[1.0, 0.0])Distributions.Categorical{Float64, Vector{Float64}}(support=Base.OneTo(2), p=[0.8, 0.19999999999999996])Distributions.Categorical{Float64, Vector{Float64}}(support=Base.OneTo(2), p=[0.8, 0.19999999999999996])Distributions.Categorical{Float64, Vector{Float64}}(support=Base.OneTo(2), p=[0.9, 0.1])Distributions.Categorical{Float64, Vector{Float64}}(support=Base.OneTo(2), p=[0.1, 0.9])Distributions.Categorical{Float64, Vector{Float64}}(support=Base.OneTo(2), p=[0.1, 0.9])Distributions.Categorical{Float64, Vector{Float64}}(support=Base.OneTo(2), p=[0.9, 0.1])Distributions.Categorical{Float64, Vector{Float64}}(support=Base.OneTo(2), p=[0.8, 0.19999999999999996])Distributions.Categorical{Float64, Vector{Float64}}(support=Base.OneTo(2), p=[0.8, 0.19999999999999996])Distributions.Categorical{Float64, Vector{Float64}}(support=Base.OneTo(2), p=[0.0, 1.0])Distributions.Categorical{Float64, Vector{Float64}}(support=Base.OneTo(2), p=[0.1, 0.9])Distributions.Categorical{Float64, Vector{Float64}}(support=Base.OneTo(2), p=[0.1, 0.9])Distributions.Categorical{Float64, Vector{Float64}}(support=Base.OneTo(2), p=[0.0, 1.0])Distributions.Categorical{Float64, Vector{Float64}}(support=Base.OneTo(2), p=[0.8, 0.19999999999999996])Distributions.Categorical{Float64, Vector{Float64}}(support=Base.OneTo(2), p=[0.8, 0.19999999999999996])Distributions.Categorical{Float64, Vector{Float64}}(support=Base.OneTo(2), p=[0.9, 0.1])Distributions.Categorical{Float64, Vector{Float64}}(support=Base.OneTo(2), p=[0.1, 0.9])Distributions.Categorical{Float64, Vector{Float64}}(support=Base.OneTo(2), p=[0.1, 0.9])Distributions.Categorical{Float64, Vector{Float64}}(support=Base.OneTo(2), p=[0.9, 0.1])Distributions.Categorical{Float64, Vector{Float64}}(support=Base.OneTo(2), p=[0.8, 0.19999999999999996])Distributions.Categorical{Float64, Vector{Float64}}(support=Base.OneTo(2), p=[0.8, 0.19999999999999996])Distributions.Categorical{Float64, Vector{Float64}}(support=Base.OneTo(2), p=[0.0, 1.0])Distributions.Categorical{Float64, Vector{Float64}}(support=Base.OneTo(2), p=[0.1, 0.9])Distributions.Categorical{Float64, Vector{Float64}}(support=Base.OneTo(2), p=[0.1, 0.9])Distributions.Categorical{Float64, Vector{Float64}}(support=Base.OneTo(2), p=[0.0, 1.0])Distributions.Categorical{Float64, Vector{Float64}}(support=Base.OneTo(2), p=[0.8, 0.19999999999999996])Distributions.Categorical{Float64, Vector{Float64}}(support=Base.OneTo(2), p=[0.8, 0.19999999999999996])Distributions.Categorical{Float64, Vector{Float64}}(support=Base.OneTo(2), p=[0.9, 0.1])Distributions.Categorical{Float64, Vector{Float64}}(support=Base.OneTo(2), p=[0.1, 0.9])Distributions.Categorical{Float64, Vector{Float64}}(support=Base.OneTo(2), p=[0.1, 0.9])Distributions.Categorical{Float64, Vector{Float64}}(support=Base.OneTo(2), p=[0.9, 0.1])Distributions.Categorical{Float64, Vector{Float64}}(support=Base.OneTo(2), p=[0.8, 0.19999999999999996])Distributions.Categorical{Float64, Vector{Float64}}(support=Base.OneTo(2), p=[0.8, 0.19999999999999996])Distributions.Categorical{Float64, Vector{Float64}}(support=Base.OneTo(2), p=[0.0, 1.0])Distributions.Categorical{Float64, Vector{Float64}}(support=Base.OneTo(2), p=[0.1, 0.9])Distributions.Categorical{Float64, Vector{Float64}}(support=Base.OneTo(2), p=[0.1, 0.9])Distributions.Categorical{Float64, Vector{Float64}}(support=Base.OneTo(2), p=[0.0, 1.0])Distributions.Categorical{Float64, Vector{Float64}}(support=Base.OneTo(2), p=[0.8, 0.19999999999999996])Distributions.Categorical{Float64, Vector{Float64}}(support=Base.OneTo(2), p=[0.8, 0.19999999999999996])Distributions.Categorical{Float64, Vector{Float64}}(support=Base.OneTo(2), p=[0.9, 0.1])Distributions.Categorical{Float64, Vector{Float64}}(support=Base.OneTo(2), p=[0.1, 0.9])Distributions.Categorical{Float64, Vector{Float64}}(support=Base.OneTo(2), p=[0.1, 0.9])Distributions.Categorical{Float64, Vector{Float64}}(support=Base.OneTo(2), p=[0.9, 0.1])Distributions.Categorical{Float64, Vector{Float64}}(support=Base.OneTo(2), p=[0.8, 0.19999999999999996])Distributions.Categorical{Float64, Vector{Float64}}(support=Base.OneTo(2), p=[0.8, 0.19999999999999996])Distributions.Categorical{Float64, Vector{Float64}}(support=Base.OneTo(2), p=[0.0, 1.0])Distributions.Categorical{Float64, Vector{Float64}}(support=Base.OneTo(2), p=[0.1, 0.9])Distributions.Categorical{Float64, Vector{Float64}}(support=Base.OneTo(2), p=[0.1, 0.9])Distributions.Categorical{Float64, Vector{Float64}}(support=Base.OneTo(2), p=[0.0, 1.0])Distributions.Categorical{Float64, Vector{Float64}}(support=Base.OneTo(2), p=[0.8, 0.19999999999999996])Distributions.Categorical{Float64, Vector{Float64}}(support=Base.OneTo(2), p=[0.8, 0.19999999999999996])Distributions.Categorical{Float64, Vector{Float64}}(support=Base.OneTo(2), p=[0.9, 0.1])Distributions.Categorical{Float64, Vector{Float64}}(support=Base.OneTo(2), p=[0.1, 0.9])Distributions.Categorical{Float64, Vector{Float64}}(support=Base.OneTo(2), p=[0.1, 0.9])Distributions.Categorical{Float64, Vector{Float64}}(support=Base.OneTo(2), p=[0.9, 0.1])Distributions.Categorical{Float64, Vector{Float64}}(support=Base.OneTo(2), p=[0.8, 0.19999999999999996])Distributions.Categorical{Float64, Vector{Float64}}(support=Base.OneTo(2), p=[0.8, 0.19999999999999996])Distributions.Categorical{Float64, Vector{Float64}}(support=Base.OneTo(2), p=[0.0, 1.0])Distributions.Categorical{Float64, Vector{Float64}}(support=Base.OneTo(2), p=[0.1, 0.9])Distributions.Categorical{Float64, Vector{Float64}}(support=Base.OneTo(2), p=[0.1, 0.9])Distributions.Categorical{Float64, Vector{Float64}}(support=Base.OneTo(2), p=[0.0, 1.0])Distributions.Categorical{Float64, Vector{Float64}}(support=Base.OneTo(2), p=[0.8, 0.19999999999999996])Distributions.Categorical{Float64, Vector{Float64}}(support=Base.OneTo(2), p=[0.8, 0.19999999999999996])Distributions.Categorical{Float64, Vector{Float64}}(support=Base.OneTo(2), p=[0.9, 0.1])Distributions.Categorical{Float64, Vector{Float64}}(support=Base.OneTo(2), p=[0.1, 0.9])Distributions.Categorical{Float64, Vector{Float64}}(support=Base.OneTo(2), p=[0.1, 0.9])Distributions.Categorical{Float64, Vector{Float64}}(support=Base.OneTo(2), p=[0.9, 0.1])Distributions.Categorical{Float64, Vector{Float64}}(support=Base.OneTo(2), p=[0.8, 0.19999999999999996])Distributions.Categorical{Float64, Vector{Float64}}(support=Base.OneTo(2), p=[0.8, 0.19999999999999996])Distributions.Categorical{Float64, Vector{Float64}}(support=Base.OneTo(2), p=[0.0, 1.0])Distributions.Categorical{Float64, Vector{Float64}}(support=Base.OneTo(2), p=[0.1, 0.9])Distributions.Categorical{Float64, Vector{Float64}}(support=Base.OneTo(2), p=[0.1, 0.9])Distributions.Categorical{Float64, Vector{Float64}}(support=Base.OneTo(2), p=[0.0, 1.0])Distributions.Categorical{Float64, Vector{Float64}}(support=Base.OneTo(2), p=[0.8, 0.19999999999999996])Distributions.Categorical{Float64, Vector{Float64}}(support=Base.OneTo(2), p=[0.8, 0.19999999999999996])Distributions.Categorical{Float64, Vector{Float64}}(support=Base.OneTo(2), p=[0.9, 0.1])Distributions.Categorical{Float64, Vector{Float64}}(support=Base.OneTo(2), p=[0.1, 0.9])Distributions.Categorical{Float64, Vector{Float64}}(support=Base.OneTo(2), p=[0.1, 0.9])Distributions.Categorical{Float64, Vector{Float64}}(support=Base.OneTo(2), p=[0.9, 0.1])Distributions.Categorical{Float64, Vector{Float64}}(support=Base.OneTo(2), p=[0.8, 0.19999999999999996])Distributions.Categorical{Float64, Vector{Float64}}(support=Base.OneTo(2), p=[0.8, 0.19999999999999996])Distributions.Categorical{Float64, Vector{Float64}}(support=Base.OneTo(2), p=[0.0, 1.0])Distributions.Categorical{Float64, Vector{Float64}}(support=Base.OneTo(2), p=[0.1, 0.9])Distributions.Categorical{Float64, Vector{Float64}}(support=Base.OneTo(2), p=[0.1, 0.9])Distributions.Categorical{Float64, Vector{Float64}}(support=Base.OneTo(2), p=[0.0, 1.0])Distributions.Categorical{Float64, Vector{Float64}}(support=Base.OneTo(2), p=[0.8, 0.19999999999999996])Distributions.Categorical{Float64, Vector{Float64}}(support=Base.OneTo(2), p=[0.8, 0.19999999999999996])Distributions.Categorical{Float64, Vector{Float64}}(support=Base.OneTo(2), p=[0.9, 0.1])Distributions.Categorical{Float64, Vector{Float64}}(support=Base.OneTo(2), p=[0.1, 0.9])Distributions.Categorical{Float64, Vector{Float64}}(support=Base.OneTo(2), p=[0.1, 0.9])Distributions.Categorical{Float64, Vector{Float64}}(support=Base.OneTo(2), p=[0.9, 0.1])Distributions.Categorical{Float64, Vector{Float64}}(support=Base.OneTo(2), p=[0.8, 0.19999999999999996])Distributions.Categorical{Float64, Vector{Float64}}(support=Base.OneTo(2), p=[0.8, 0.19999999999999996])Distributions.Categorical{Float64, Vector{Float64}}(support=Base.OneTo(2), p=[0.0, 1.0])Distributions.Categorical{Float64, Vector{Float64}}(support=Base.OneTo(2), p=[0.1, 0.9])Distributions.Categorical{Float64, Vector{Float64}}(support=Base.OneTo(2), p=[0.1, 0.9])Distributions.Categorical{Float64, Vector{Float64}}(support=Base.OneTo(2), p=[0.0, 1.0])Distributions.Categorical{Float64, Vector{Float64}}(support=Base.OneTo(2), p=[0.8, 0.19999999999999996])Distributions.Categorical{Float64, Vector{Float64}}(support=Base.OneTo(2), p=[0.8, 0.19999999999999996])Distributions.Categorical{Float64, Vector{Float64}}(support=Base.OneTo(2), p=[0.9, 0.1])Distributions.Categorical{Float64, Vector{Float64}}(support=Base.OneTo(2), p=[0.1, 0.9])Distributions.Categorical{Float64, Vector{Float64}}(support=Base.OneTo(2), p=[0.1, 0.9])Distributions.Categorical{Float64, Vector{Float64}}(support=Base.OneTo(2), p=[0.9, 0.1])Distributions.Categorical{Float64, Vector{Float64}}(support=Base.OneTo(2), p=[0.8, 0.19999999999999996])Distributions.Categorical{Float64, Vector{Float64}}(support=Base.OneTo(2), p=[0.8, 0.19999999999999996])Distributions.Categorical{Float64, Vector{Float64}}(support=Base.OneTo(2), p=[0.0, 1.0])Distributions.Categorical{Float64, Vector{Float64}}(support=Base.OneTo(2), p=[0.1, 0.9])Distributions.Categorical{Float64, Vector{Float64}}(support=Base.OneTo(2), p=[0.1, 0.9])Distributions.Categorical{Float64, Vector{Float64}}(support=Base.OneTo(2), p=[0.0, 1.0])Distributions.Categorical{Float64, Vector{Float64}}(support=Base.OneTo(2), p=[0.8, 0.19999999999999996])Distributions.Categorical{Float64, Vector{Float64}}(support=Base.OneTo(2), p=[0.8, 0.19999999999999996])Distributions.Categorical{Float64, Vector{Float64}}(support=Base.OneTo(2), p=[0.9, 0.1])Distributions.Categorical{Float64, Vector{Float64}}(support=Base.OneTo(2), p=[0.0, 1.0])Distributions.Categorical{Float64, Vector{Float64}}(support=Base.OneTo(2), p=[0.0, 1.0])Distributions.Categorical{Float64, Vector{Float64}}(support=Base.OneTo(2), p=[0.9, 0.1])Distributions.Categorical{Float64, Vector{Float64}}(support=Base.OneTo(2), p=[0.9, 0.09999999999999998])Distributions.Categorical{Float64, Vector{Float64}}(support=Base.OneTo(2), p=[0.9, 0.09999999999999998])Distributions.Categorical{Float64, Vector{Float64}}(support=Base.OneTo(2), p=[0.0, 1.0])Distributions.Categorical{Float64, Vector{Float64}}(support=Base.OneTo(2), p=[0.0, 1.0])Distributions.Categorical{Float64, Vector{Float64}}(support=Base.OneTo(2), p=[0.0, 1.0])Distributions.Categorical{Float64, Vector{Float64}}(support=Base.OneTo(2), p=[0.0, 1.0])Distributions.Categorical{Float64, Vector{Float64}}(support=Base.OneTo(2), p=[0.9, 0.09999999999999998])Distributions.Categorical{Float64, Vector{Float64}}(support=Base.OneTo(2), p=[0.9, 0.09999999999999998])Distributions.Categorical{Float64, Vector{Float64}}(support=Base.OneTo(2), p=[0.9, 0.1])Distributions.Categorical{Float64, Vector{Float64}}(support=Base.OneTo(2), p=[0.0, 1.0])Distributions.Categorical{Float64, Vector{Float64}}(support=Base.OneTo(2), p=[0.0, 1.0])Distributions.Categorical{Float64, Vector{Float64}}(support=Base.OneTo(2), p=[0.9, 0.1])Distributions.Categorical{Float64, Vector{Float64}}(support=Base.OneTo(2), p=[0.9, 0.09999999999999998])Distributions.Categorical{Float64, Vector{Float64}}(support=Base.OneTo(2), p=[0.9, 0.09999999999999998])Distributions.Categorical{Float64, Vector{Float64}}(support=Base.OneTo(2), p=[0.0, 1.0])Distributions.Categorical{Float64, Vector{Float64}}(support=Base.OneTo(2), p=[0.0, 1.0])Distributions.Categorical{Float64, Vector{Float64}}(support=Base.OneTo(2), p=[0.0, 1.0])Distributions.Categorical{Float64, Vector{Float64}}(support=Base.OneTo(2), p=[0.0, 1.0])Distributions.Categorical{Float64, Vector{Float64}}(support=Base.OneTo(2), p=[0.9, 0.09999999999999998])Distributions.Categorical{Float64, Vector{Float64}}(support=Base.OneTo(2), p=[0.9, 0.09999999999999998])Distributions.Categorical{Float64, Vector{Float64}}(support=Base.OneTo(2), p=[0.9, 0.1])Distributions.Categorical{Float64, Vector{Float64}}(support=Base.OneTo(2), p=[0.0, 1.0])Distributions.Categorical{Float64, Vector{Float64}}(support=Base.OneTo(2), p=[0.0, 1.0])Distributions.Categorical{Float64, Vector{Float64}}(support=Base.OneTo(2), p=[0.9, 0.1])Distributions.Categorical{Float64, Vector{Float64}}(support=Base.OneTo(2), p=[0.9, 0.09999999999999998])Distributions.Categorical{Float64, Vector{Float64}}(support=Base.OneTo(2), p=[0.9, 0.09999999999999998])Distributions.Categorical{Float64, Vector{Float64}}(support=Base.OneTo(2), p=[0.0, 1.0])Distributions.Categorical{Float64, Vector{Float64}}(support=Base.OneTo(2), p=[0.0, 1.0])Distributions.Categorical{Float64, Vector{Float64}}(support=Base.OneTo(2), p=[0.0, 1.0])Distributions.Categorical{Float64, Vector{Float64}}(support=Base.OneTo(2), p=[0.0, 1.0])Distributions.Categorical{Float64, Vector{Float64}}(support=Base.OneTo(2), p=[0.9, 0.09999999999999998])Distributions.Categorical{Float64, Vector{Float64}}(support=Base.OneTo(2), p=[0.9, 0.09999999999999998])Distributions.Categorical{Float64, Vector{Float64}}(support=Base.OneTo(2), p=[0.9, 0.1])Distributions.Categorical{Float64, Vector{Float64}}(support=Base.OneTo(2), p=[0.0, 1.0])Distributions.Categorical{Float64, Vector{Float64}}(support=Base.OneTo(2), p=[0.0, 1.0])Distributions.Categorical{Float64, Vector{Float64}}(support=Base.OneTo(2), p=[0.9, 0.1])Distributions.Categorical{Float64, Vector{Float64}}(support=Base.OneTo(2), p=[0.9, 0.09999999999999998])Distributions.Categorical{Float64, Vector{Float64}}(support=Base.OneTo(2), p=[0.9, 0.09999999999999998])Distributions.Categorical{Float64, Vector{Float64}}(support=Base.OneTo(2), p=[0.0, 1.0])Distributions.Categorical{Float64, Vector{Float64}}(support=Base.OneTo(2), p=[0.0, 1.0])Distributions.Categorical{Float64, Vector{Float64}}(support=Base.OneTo(2), p=[0.0, 1.0])Distributions.Categorical{Float64, Vector{Float64}}(support=Base.OneTo(2), p=[0.0, 1.0])Distributions.Categorical{Float64, Vector{Float64}}(support=Base.OneTo(2), p=[0.9, 0.09999999999999998])Distributions.Categorical{Float64, Vector{Float64}}(support=Base.OneTo(2), p=[0.9, 0.09999999999999998])Distributions.Categorical{Float64, Vector{Float64}}(support=Base.OneTo(2), p=[0.9, 0.1])Distributions.Categorical{Float64, Vector{Float64}}(support=Base.OneTo(2), p=[0.0, 1.0])Distributions.Categorical{Float64, Vector{Float64}}(support=Base.OneTo(2), p=[0.0, 1.0])Distributions.Categorical{Float64, Vector{Float64}}(support=Base.OneTo(2), p=[0.9, 0.1])Distributions.Categorical{Float64, Vector{Float64}}(support=Base.OneTo(2), p=[0.9, 0.09999999999999998])Distributions.Categorical{Float64, Vector{Float64}}(support=Base.OneTo(2), p=[0.9, 0.09999999999999998])Distributions.Categorical{Float64, Vector{Float64}}(support=Base.OneTo(2), p=[0.0, 1.0])Distributions.Categorical{Float64, Vector{Float64}}(support=Base.OneTo(2), p=[0.0, 1.0])Distributions.Categorical{Float64, Vector{Float64}}(support=Base.OneTo(2), p=[0.0, 1.0])Distributions.Categorical{Float64, Vector{Float64}}(support=Base.OneTo(2), p=[0.0, 1.0])Distributions.Categorical{Float64, Vector{Float64}}(support=Base.OneTo(2), p=[0.9, 0.09999999999999998])Distributions.Categorical{Float64, Vector{Float64}}(support=Base.OneTo(2), p=[0.9, 0.09999999999999998])Distributions.Categorical{Float64, Vector{Float64}}(support=Base.OneTo(2), p=[0.9, 0.1])Distributions.Categorical{Float64, Vector{Float64}}(support=Base.OneTo(2), p=[0.0, 1.0])Distributions.Categorical{Float64, Vector{Float64}}(support=Base.OneTo(2), p=[0.0, 1.0])Distributions.Categorical{Float64, Vector{Float64}}(support=Base.OneTo(2), p=[0.9, 0.1])Distributions.Categorical{Float64, Vector{Float64}}(support=Base.OneTo(2), p=[0.9, 0.09999999999999998])Distributions.Categorical{Float64, Vector{Float64}}(support=Base.OneTo(2), p=[0.9, 0.09999999999999998])Distributions.Categorical{Float64, Vector{Float64}}(support=Base.OneTo(2), p=[0.0, 1.0])Distributions.Categorical{Float64, Vector{Float64}}(support=Base.OneTo(2), p=[0.0, 1.0])Distributions.Categorical{Float64, Vector{Float64}}(support=Base.OneTo(2), p=[0.0, 1.0])Distributions.Categorical{Float64, Vector{Float64}}(support=Base.OneTo(2), p=[0.0, 1.0])Distributions.Categorical{Float64, Vector{Float64}}(support=Base.OneTo(2), p=[0.9, 0.09999999999999998])Distributions.Categorical{Float64, Vector{Float64}}(support=Base.OneTo(2), p=[0.9, 0.09999999999999998])Distributions.Categorical{Float64, Vector{Float64}}(support=Base.OneTo(2), p=[0.9, 0.1])Distributions.Categorical{Float64, Vector{Float64}}(support=Base.OneTo(2), p=[0.0, 1.0])Distributions.Categorical{Float64, Vector{Float64}}(support=Base.OneTo(2), p=[0.0, 1.0])Distributions.Categorical{Float64, Vector{Float64}}(support=Base.OneTo(2), p=[0.9, 0.1])Distributions.Categorical{Float64, Vector{Float64}}(support=Base.OneTo(2), p=[0.9, 0.09999999999999998])Distributions.Categorical{Float64, Vector{Float64}}(support=Base.OneTo(2), p=[0.9, 0.09999999999999998])Distributions.Categorical{Float64, Vector{Float64}}(support=Base.OneTo(2), p=[0.0, 1.0])Distributions.Categorical{Float64, Vector{Float64}}(support=Base.OneTo(2), p=[0.0, 1.0])Distributions.Categorical{Float64, Vector{Float64}}(support=Base.OneTo(2), p=[0.0, 1.0])Distributions.Categorical{Float64, Vector{Float64}}(support=Base.OneTo(2), p=[0.0, 1.0])Distributions.Categorical{Float64, Vector{Float64}}(support=Base.OneTo(2), p=[0.9, 0.09999999999999998])Distributions.Categorical{Float64, Vector{Float64}}(support=Base.OneTo(2), p=[0.9, 0.09999999999999998])Distributions.Categorical{Float64, Vector{Float64}}(support=Base.OneTo(2), p=[0.9, 0.1])Distributions.Categorical{Float64, Vector{Float64}}(support=Base.OneTo(2), p=[0.0, 1.0])Distributions.Categorical{Float64, Vector{Float64}}(support=Base.OneTo(2), p=[0.0, 1.0])Distributions.Categorical{Float64, Vector{Float64}}(support=Base.OneTo(2), p=[0.9, 0.1])Distributions.Categorical{Float64, Vector{Float64}}(support=Base.OneTo(2), p=[0.9, 0.09999999999999998])Distributions.Categorical{Float64, Vector{Float64}}(support=Base.OneTo(2), p=[0.9, 0.09999999999999998])Distributions.Categorical{Float64, Vector{Float64}}(support=Base.OneTo(2), p=[0.0, 1.0])Distributions.Categorical{Float64, Vector{Float64}}(support=Base.OneTo(2), p=[0.0, 1.0])Distributions.Categorical{Float64, Vector{Float64}}(support=Base.OneTo(2), p=[0.0, 1.0])Distributions.Categorical{Float64, Vector{Float64}}(support=Base.OneTo(2), p=[0.0, 1.0])Distributions.Categorical{Float64, Vector{Float64}}(support=Base.OneTo(2), p=[0.9, 0.09999999999999998])Distributions.Categorical{Float64, Vector{Float64}}(support=Base.OneTo(2), p=[0.9, 0.09999999999999998])Distributions.Categorical{Float64, Vector{Float64}}(support=Base.OneTo(2), p=[0.9, 0.1])Distributions.Categorical{Float64, Vector{Float64}}(support=Base.OneTo(2), p=[0.0, 1.0])Distributions.Categorical{Float64, Vector{Float64}}(support=Base.OneTo(2), p=[0.0, 1.0])Distributions.Categorical{Float64, Vector{Float64}}(support=Base.OneTo(2), p=[0.9, 0.1])Distributions.Categorical{Float64, Vector{Float64}}(support=Base.OneTo(2), p=[0.9, 0.09999999999999998])Distributions.Categorical{Float64, Vector{Float64}}(support=Base.OneTo(2), p=[0.9, 0.09999999999999998])Distributions.Categorical{Float64, Vector{Float64}}(support=Base.OneTo(2), p=[0.0, 1.0])Distributions.Categorical{Float64, Vector{Float64}}(support=Base.OneTo(2), p=[0.0, 1.0])Distributions.Categorical{Float64, Vector{Float64}}(support=Base.OneTo(2), p=[0.0, 1.0])Distributions.Categorical{Float64, Vector{Float64}}(support=Base.OneTo(2), p=[0.0, 1.0])Distributions.Categorical{Float64, Vector{Float64}}(support=Base.OneTo(2), p=[0.9, 0.09999999999999998])Distributions.Categorical{Float64, Vector{Float64}}(support=Base.OneTo(2), p=[0.9, 0.09999999999999998])Distributions.Categorical{Float64, Vector{Float64}}(support=Base.OneTo(2), p=[1.0, 0.0])Distributions.Categorical{Float64, Vector{Float64}}(support=Base.OneTo(2), p=[0.1, 0.9])Distributions.Categorical{Float64, Vector{Float64}}(support=Base.OneTo(2), p=[0.1, 0.9])Distributions.Categorical{Float64, Vector{Float64}}(support=Base.OneTo(2), p=[1.0, 0.0])Distributions.Categorical{Float64, Vector{Float64}}(support=Base.OneTo(2), p=[0.8, 0.19999999999999996])Distributions.Categorical{Float64, Vector{Float64}}(support=Base.OneTo(2), p=[0.8, 0.19999999999999996])Distributions.Categorical{Float64, Vector{Float64}}(support=Base.OneTo(2), p=[1.0, 0.0])Distributions.Categorical{Float64, Vector{Float64}}(support=Base.OneTo(2), p=[0.1, 0.9])Distributions.Categorical{Float64, Vector{Float64}}(support=Base.OneTo(2), p=[0.1, 0.9])Distributions.Categorical{Float64, Vector{Float64}}(support=Base.OneTo(2), p=[1.0, 0.0])Distributions.Categorical{Float64, Vector{Float64}}(support=Base.OneTo(2), p=[0.8, 0.19999999999999996])Distributions.Categorical{Float64, Vector{Float64}}(support=Base.OneTo(2), p=[0.8, 0.19999999999999996])Distributions.Categorical{Float64, Vector{Float64}}(support=Base.OneTo(2), p=[1.0, 0.0])Distributions.Categorical{Float64, Vector{Float64}}(support=Base.OneTo(2), p=[0.1, 0.9])Distributions.Categorical{Float64, Vector{Float64}}(support=Base.OneTo(2), p=[0.1, 0.9])Distributions.Categorical{Float64, Vector{Float64}}(support=Base.OneTo(2), p=[1.0, 0.0])Distributions.Categorical{Float64, Vector{Float64}}(support=Base.OneTo(2), p=[0.8, 0.19999999999999996])Distributions.Categorical{Float64, Vector{Float64}}(support=Base.OneTo(2), p=[0.8, 0.19999999999999996])Distributions.Categorical{Float64, Vector{Float64}}(support=Base.OneTo(2), p=[1.0, 0.0])Distributions.Categorical{Float64, Vector{Float64}}(support=Base.OneTo(2), p=[0.1, 0.9])Distributions.Categorical{Float64, Vector{Float64}}(support=Base.OneTo(2), p=[0.1, 0.9])Distributions.Categorical{Float64, Vector{Float64}}(support=Base.OneTo(2), p=[1.0, 0.0])Distributions.Categorical{Float64, Vector{Float64}}(support=Base.OneTo(2), p=[0.8, 0.19999999999999996])Distributions.Categorical{Float64, Vector{Float64}}(support=Base.OneTo(2), p=[0.8, 0.19999999999999996])Distributions.Categorical{Float64, Vector{Float64}}(support=Base.OneTo(2), p=[1.0, 0.0])Distributions.Categorical{Float64, Vector{Float64}}(support=Base.OneTo(2), p=[0.1, 0.9])Distributions.Categorical{Float64, Vector{Float64}}(support=Base.OneTo(2), p=[0.1, 0.9])Distributions.Categorical{Float64, Vector{Float64}}(support=Base.OneTo(2), p=[1.0, 0.0])Distributions.Categorical{Float64, Vector{Float64}}(support=Base.OneTo(2), p=[0.8, 0.19999999999999996])Distributions.Categorical{Float64, Vector{Float64}}(support=Base.OneTo(2), p=[0.8, 0.19999999999999996])Distributions.Categorical{Float64, Vector{Float64}}(support=Base.OneTo(2), p=[1.0, 0.0])Distributions.Categorical{Float64, Vector{Float64}}(support=Base.OneTo(2), p=[0.1, 0.9])Distributions.Categorical{Float64, Vector{Float64}}(support=Base.OneTo(2), p=[0.1, 0.9])Distributions.Categorical{Float64, Vector{Float64}}(support=Base.OneTo(2), p=[1.0, 0.0])Distributions.Categorical{Float64, Vector{Float64}}(support=Base.OneTo(2), p=[0.8, 0.19999999999999996])Distributions.Categorical{Float64, Vector{Float64}}(support=Base.OneTo(2), p=[0.8, 0.19999999999999996])Distributions.Categorical{Float64, Vector{Float64}}(support=Base.OneTo(2), p=[1.0, 0.0])Distributions.Categorical{Float64, Vector{Float64}}(support=Base.OneTo(2), p=[0.1, 0.9])Distributions.Categorical{Float64, Vector{Float64}}(support=Base.OneTo(2), p=[0.1, 0.9])Distributions.Categorical{Float64, Vector{Float64}}(support=Base.OneTo(2), p=[1.0, 0.0])Distributions.Categorical{Float64, Vector{Float64}}(support=Base.OneTo(2), p=[0.8, 0.19999999999999996])Distributions.Categorical{Float64, Vector{Float64}}(support=Base.OneTo(2), p=[0.8, 0.19999999999999996])Distributions.Categorical{Float64, Vector{Float64}}(support=Base.OneTo(2), p=[1.0, 0.0])Distributions.Categorical{Float64, Vector{Float64}}(support=Base.OneTo(2), p=[0.1, 0.9])Distributions.Categorical{Float64, Vector{Float64}}(support=Base.OneTo(2), p=[0.1, 0.9])Distributions.Categorical{Float64, Vector{Float64}}(support=Base.OneTo(2), p=[1.0, 0.0])Distributions.Categorical{Float64, Vector{Float64}}(support=Base.OneTo(2), p=[0.8, 0.19999999999999996])Distributions.Categorical{Float64, Vector{Float64}}(support=Base.OneTo(2), p=[0.8, 0.19999999999999996])Distributions.Categorical{Float64, Vector{Float64}}(support=Base.OneTo(2), p=[0.9, 0.1])Distributions.Categorical{Float64, Vector{Float64}}(support=Base.OneTo(2), p=[0.1, 0.9])Distributions.Categorical{Float64, Vector{Float64}}(support=Base.OneTo(2), p=[0.1, 0.9])Distributions.Categorical{Float64, Vector{Float64}}(support=Base.OneTo(2), p=[0.9, 0.1])Distributions.Categorical{Float64, Vector{Float64}}(support=Base.OneTo(2), p=[0.8, 0.19999999999999996])Distributions.Categorical{Float64, Vector{Float64}}(support=Base.OneTo(2), p=[0.8, 0.19999999999999996])Distributions.Categorical{Float64, Vector{Float64}}(support=Base.OneTo(2), p=[0.0, 1.0])Distributions.Categorical{Float64, Vector{Float64}}(support=Base.OneTo(2), p=[0.1, 0.9])Distributions.Categorical{Float64, Vector{Float64}}(support=Base.OneTo(2), p=[0.1, 0.9])Distributions.Categorical{Float64, Vector{Float64}}(support=Base.OneTo(2), p=[0.0, 1.0])Distributions.Categorical{Float64, Vector{Float64}}(support=Base.OneTo(2), p=[0.8, 0.19999999999999996])Distributions.Categorical{Float64, Vector{Float64}}(support=Base.OneTo(2), p=[0.8, 0.19999999999999996])Distributions.Categorical{Float64, Vector{Float64}}(support=Base.OneTo(2), p=[0.9, 0.1])Distributions.Categorical{Float64, Vector{Float64}}(support=Base.OneTo(2), p=[0.1, 0.9])Distributions.Categorical{Float64, Vector{Float64}}(support=Base.OneTo(2), p=[0.1, 0.9])Distributions.Categorical{Float64, Vector{Float64}}(support=Base.OneTo(2), p=[0.9, 0.1])Distributions.Categorical{Float64, Vector{Float64}}(support=Base.OneTo(2), p=[0.8, 0.19999999999999996])Distributions.Categorical{Float64, Vector{Float64}}(support=Base.OneTo(2), p=[0.8, 0.19999999999999996])Distributions.Categorical{Float64, Vector{Float64}}(support=Base.OneTo(2), p=[0.0, 1.0])Distributions.Categorical{Float64, Vector{Float64}}(support=Base.OneTo(2), p=[0.1, 0.9])Distributions.Categorical{Float64, Vector{Float64}}(support=Base.OneTo(2), p=[0.1, 0.9])Distributions.Categorical{Float64, Vector{Float64}}(support=Base.OneTo(2), p=[0.0, 1.0])Distributions.Categorical{Float64, Vector{Float64}}(support=Base.OneTo(2), p=[0.8, 0.19999999999999996])Distributions.Categorical{Float64, Vector{Float64}}(support=Base.OneTo(2), p=[0.8, 0.19999999999999996])Distributions.Categorical{Float64, Vector{Float64}}(support=Base.OneTo(2), p=[0.9, 0.1])Distributions.Categorical{Float64, Vector{Float64}}(support=Base.OneTo(2), p=[0.1, 0.9])Distributions.Categorical{Float64, Vector{Float64}}(support=Base.OneTo(2), p=[0.1, 0.9])Distributions.Categorical{Float64, Vector{Float64}}(support=Base.OneTo(2), p=[0.9, 0.1])Distributions.Categorical{Float64, Vector{Float64}}(support=Base.OneTo(2), p=[0.8, 0.19999999999999996])Distributions.Categorical{Float64, Vector{Float64}}(support=Base.OneTo(2), p=[0.8, 0.19999999999999996])Distributions.Categorical{Float64, Vector{Float64}}(support=Base.OneTo(2), p=[0.0, 1.0])Distributions.Categorical{Float64, Vector{Float64}}(support=Base.OneTo(2), p=[0.1, 0.9])Distributions.Categorical{Float64, Vector{Float64}}(support=Base.OneTo(2), p=[0.1, 0.9])Distributions.Categorical{Float64, Vector{Float64}}(support=Base.OneTo(2), p=[0.0, 1.0])Distributions.Categorical{Float64, Vector{Float64}}(support=Base.OneTo(2), p=[0.8, 0.19999999999999996])Distributions.Categorical{Float64, Vector{Float64}}(support=Base.OneTo(2), p=[0.8, 0.19999999999999996])Distributions.Categorical{Float64, Vector{Float64}}(support=Base.OneTo(2), p=[0.9, 0.1])Distributions.Categorical{Float64, Vector{Float64}}(support=Base.OneTo(2), p=[0.1, 0.9])Distributions.Categorical{Float64, Vector{Float64}}(support=Base.OneTo(2), p=[0.1, 0.9])Distributions.Categorical{Float64, Vector{Float64}}(support=Base.OneTo(2), p=[0.9, 0.1])Distributions.Categorical{Float64, Vector{Float64}}(support=Base.OneTo(2), p=[0.8, 0.19999999999999996])Distributions.Categorical{Float64, Vector{Float64}}(support=Base.OneTo(2), p=[0.8, 0.19999999999999996])Distributions.Categorical{Float64, Vector{Float64}}(support=Base.OneTo(2), p=[0.0, 1.0])Distributions.Categorical{Float64, Vector{Float64}}(support=Base.OneTo(2), p=[0.1, 0.9])Distributions.Categorical{Float64, Vector{Float64}}(support=Base.OneTo(2), p=[0.1, 0.9])Distributions.Categorical{Float64, Vector{Float64}}(support=Base.OneTo(2), p=[0.0, 1.0])Distributions.Categorical{Float64, Vector{Float64}}(support=Base.OneTo(2), p=[0.8, 0.19999999999999996])Distributions.Categorical{Float64, Vector{Float64}}(support=Base.OneTo(2), p=[0.8, 0.19999999999999996])Distributions.Categorical{Float64, Vector{Float64}}(support=Base.OneTo(2), p=[0.9, 0.1])Distributions.Categorical{Float64, Vector{Float64}}(support=Base.OneTo(2), p=[0.0, 1.0])Distributions.Categorical{Float64, Vector{Float64}}(support=Base.OneTo(2), p=[0.0, 1.0])Distributions.Categorical{Float64, Vector{Float64}}(support=Base.OneTo(2), p=[0.9, 0.1])Distributions.Categorical{Float64, Vector{Float64}}(support=Base.OneTo(2), p=[0.9, 0.09999999999999998])Distributions.Categorical{Float64, Vector{Float64}}(support=Base.OneTo(2), p=[0.9, 0.09999999999999998])Distributions.Categorical{Float64, Vector{Float64}}(support=Base.OneTo(2), p=[0.0, 1.0])Distributions.Categorical{Float64, Vector{Float64}}(support=Base.OneTo(2), p=[0.0, 1.0])Distributions.Categorical{Float64, Vector{Float64}}(support=Base.OneTo(2), p=[0.0, 1.0])Distributions.Categorical{Float64, Vector{Float64}}(support=Base.OneTo(2), p=[0.0, 1.0])Distributions.Categorical{Float64, Vector{Float64}}(support=Base.OneTo(2), p=[0.9, 0.09999999999999998])Distributions.Categorical{Float64, Vector{Float64}}(support=Base.OneTo(2), p=[0.9, 0.09999999999999998])Distributions.Categorical{Float64, Vector{Float64}}(support=Base.OneTo(2), p=[0.9, 0.1])Distributions.Categorical{Float64, Vector{Float64}}(support=Base.OneTo(2), p=[0.0, 1.0])Distributions.Categorical{Float64, Vector{Float64}}(support=Base.OneTo(2), p=[0.0, 1.0])Distributions.Categorical{Float64, Vector{Float64}}(support=Base.OneTo(2), p=[0.9, 0.1])Distributions.Categorical{Float64, Vector{Float64}}(support=Base.OneTo(2), p=[0.9, 0.09999999999999998])Distributions.Categorical{Float64, Vector{Float64}}(support=Base.OneTo(2), p=[0.9, 0.09999999999999998])Distributions.Categorical{Float64, Vector{Float64}}(support=Base.OneTo(2), p=[0.0, 1.0])Distributions.Categorical{Float64, Vector{Float64}}(support=Base.OneTo(2), p=[0.0, 1.0])Distributions.Categorical{Float64, Vector{Float64}}(support=Base.OneTo(2), p=[0.0, 1.0])Distributions.Categorical{Float64, Vector{Float64}}(support=Base.OneTo(2), p=[0.0, 1.0])Distributions.Categorical{Float64, Vector{Float64}}(support=Base.OneTo(2), p=[0.9, 0.09999999999999998])Distributions.Categorical{Float64, Vector{Float64}}(support=Base.OneTo(2), p=[0.9, 0.09999999999999998])Distributions.Categorical{Float64, Vector{Float64}}(support=Base.OneTo(2), p=[0.9, 0.1])Distributions.Categorical{Float64, Vector{Float64}}(support=Base.OneTo(2), p=[0.0, 1.0])Distributions.Categorical{Float64, Vector{Float64}}(support=Base.OneTo(2), p=[0.0, 1.0])Distributions.Categorical{Float64, Vector{Float64}}(support=Base.OneTo(2), p=[0.9, 0.1])Distributions.Categorical{Float64, Vector{Float64}}(support=Base.OneTo(2), p=[0.9, 0.09999999999999998])Distributions.Categorical{Float64, Vector{Float64}}(support=Base.OneTo(2), p=[0.9, 0.09999999999999998])Distributions.Categorical{Float64, Vector{Float64}}(support=Base.OneTo(2), p=[0.0, 1.0])Distributions.Categorical{Float64, Vector{Float64}}(support=Base.OneTo(2), p=[0.0, 1.0])Distributions.Categorical{Float64, Vector{Float64}}(support=Base.OneTo(2), p=[0.0, 1.0])Distributions.Categorical{Float64, Vector{Float64}}(support=Base.OneTo(2), p=[0.0, 1.0])Distributions.Categorical{Float64, Vector{Float64}}(support=Base.OneTo(2), p=[0.9, 0.09999999999999998])Distributions.Categorical{Float64, Vector{Float64}}(support=Base.OneTo(2), p=[0.9, 0.09999999999999998])Distributions.Categorical{Float64, Vector{Float64}}(support=Base.OneTo(2), p=[0.9, 0.1])Distributions.Categorical{Float64, Vector{Float64}}(support=Base.OneTo(2), p=[0.0, 1.0])Distributions.Categorical{Float64, Vector{Float64}}(support=Base.OneTo(2), p=[0.0, 1.0])Distributions.Categorical{Float64, Vector{Float64}}(support=Base.OneTo(2), p=[0.9, 0.1])Distributions.Categorical{Float64, Vector{Float64}}(support=Base.OneTo(2), p=[0.9, 0.09999999999999998])Distributions.Categorical{Float64, Vector{Float64}}(support=Base.OneTo(2), p=[0.9, 0.09999999999999998])Distributions.Categorical{Float64, Vector{Float64}}(support=Base.OneTo(2), p=[0.0, 1.0])Distributions.Categorical{Float64, Vector{Float64}}(support=Base.OneTo(2), p=[0.0, 1.0])Distributions.Categorical{Float64, Vector{Float64}}(support=Base.OneTo(2), p=[0.0, 1.0])Distributions.Categorical{Float64, Vector{Float64}}(support=Base.OneTo(2), p=[0.0, 1.0])Distributions.Categorical{Float64, Vector{Float64}}(support=Base.OneTo(2), p=[0.9, 0.09999999999999998])Distributions.Categorical{Float64, Vector{Float64}}(support=Base.OneTo(2), p=[0.9, 0.09999999999999998])Distributions.Categorical{Float64, Vector{Float64}}(support=Base.OneTo(2), p=[1.0, 0.0])Distributions.Categorical{Float64, Vector{Float64}}(support=Base.OneTo(2), p=[0.1, 0.9])Distributions.Categorical{Float64, Vector{Float64}}(support=Base.OneTo(2), p=[0.1, 0.9])Distributions.Categorical{Float64, Vector{Float64}}(support=Base.OneTo(2), p=[1.0, 0.0])Distributions.Categorical{Float64, Vector{Float64}}(support=Base.OneTo(2), p=[0.8, 0.19999999999999996])Distributions.Categorical{Float64, Vector{Float64}}(support=Base.OneTo(2), p=[0.8, 0.19999999999999996])Distributions.Categorical{Float64, Vector{Float64}}(support=Base.OneTo(2), p=[1.0, 0.0])Distributions.Categorical{Float64, Vector{Float64}}(support=Base.OneTo(2), p=[0.1, 0.9])Distributions.Categorical{Float64, Vector{Float64}}(support=Base.OneTo(2), p=[0.1, 0.9])Distributions.Categorical{Float64, Vector{Float64}}(support=Base.OneTo(2), p=[1.0, 0.0])Distributions.Categorical{Float64, Vector{Float64}}(support=Base.OneTo(2), p=[0.8, 0.19999999999999996])Distributions.Categorical{Float64, Vector{Float64}}(support=Base.OneTo(2), p=[0.8, 0.19999999999999996])Distributions.Categorical{Float64, Vector{Float64}}(support=Base.OneTo(2), p=[1.0, 0.0])Distributions.Categorical{Float64, Vector{Float64}}(support=Base.OneTo(2), p=[0.1, 0.9])Distributions.Categorical{Float64, Vector{Float64}}(support=Base.OneTo(2), p=[0.1, 0.9])Distributions.Categorical{Float64, Vector{Float64}}(support=Base.OneTo(2), p=[1.0, 0.0])Distributions.Categorical{Float64, Vector{Float64}}(support=Base.OneTo(2), p=[0.8, 0.19999999999999996])Distributions.Categorical{Float64, Vector{Float64}}(support=Base.OneTo(2), p=[0.8, 0.19999999999999996])Distributions.Categorical{Float64, Vector{Float64}}(support=Base.OneTo(2), p=[1.0, 0.0])Distributions.Categorical{Float64, Vector{Float64}}(support=Base.OneTo(2), p=[0.1, 0.9])Distributions.Categorical{Float64, Vector{Float64}}(support=Base.OneTo(2), p=[0.1, 0.9])Distributions.Categorical{Float64, Vector{Float64}}(support=Base.OneTo(2), p=[1.0, 0.0])Distributions.Categorical{Float64, Vector{Float64}}(support=Base.OneTo(2), p=[0.8, 0.19999999999999996])Distributions.Categorical{Float64, Vector{Float64}}(support=Base.OneTo(2), p=[0.8, 0.19999999999999996])Distributions.Categorical{Float64, Vector{Float64}}(support=Base.OneTo(2), p=[1.0, 0.0])Distributions.Categorical{Float64, Vector{Float64}}(support=Base.OneTo(2), p=[0.1, 0.9])Distributions.Categorical{Float64, Vector{Float64}}(support=Base.OneTo(2), p=[0.1, 0.9])Distributions.Categorical{Float64, Vector{Float64}}(support=Base.OneTo(2), p=[1.0, 0.0])Distributions.Categorical{Float64, Vector{Float64}}(support=Base.OneTo(2), p=[0.8, 0.19999999999999996])Distributions.Categorical{Float64, Vector{Float64}}(support=Base.OneTo(2), p=[0.8, 0.19999999999999996])Distributions.Categorical{Float64, Vector{Float64}}(support=Base.OneTo(2), p=[1.0, 0.0])Distributions.Categorical{Float64, Vector{Float64}}(support=Base.OneTo(2), p=[0.1, 0.9])Distributions.Categorical{Float64, Vector{Float64}}(support=Base.OneTo(2), p=[0.1, 0.9])Distributions.Categorical{Float64, Vector{Float64}}(support=Base.OneTo(2), p=[1.0, 0.0])Distributions.Categorical{Float64, Vector{Float64}}(support=Base.OneTo(2), p=[0.8, 0.19999999999999996])Distributions.Categorical{Float64, Vector{Float64}}(support=Base.OneTo(2), p=[0.8, 0.19999999999999996])Distributions.Categorical{Float64, Vector{Float64}}(support=Base.OneTo(2), p=[1.0, 0.0])Distributions.Categorical{Float64, Vector{Float64}}(support=Base.OneTo(2), p=[0.1, 0.9])Distributions.Categorical{Float64, Vector{Float64}}(support=Base.OneTo(2), p=[0.1, 0.9])Distributions.Categorical{Float64, Vector{Float64}}(support=Base.OneTo(2), p=[1.0, 0.0])Distributions.Categorical{Float64, Vector{Float64}}(support=Base.OneTo(2), p=[0.8, 0.19999999999999996])Distributions.Categorical{Float64, Vector{Float64}}(support=Base.OneTo(2), p=[0.8, 0.19999999999999996])Distributions.Categorical{Float64, Vector{Float64}}(support=Base.OneTo(2), p=[1.0, 0.0])Distributions.Categorical{Float64, Vector{Float64}}(support=Base.OneTo(2), p=[0.1, 0.9])Distributions.Categorical{Float64, Vector{Float64}}(support=Base.OneTo(2), p=[0.1, 0.9])Distributions.Categorical{Float64, Vector{Float64}}(support=Base.OneTo(2), p=[1.0, 0.0])Distributions.Categorical{Float64, Vector{Float64}}(support=Base.OneTo(2), p=[0.8, 0.19999999999999996])Distributions.Categorical{Float64, Vector{Float64}}(support=Base.OneTo(2), p=[0.8, 0.19999999999999996])Distributions.Categorical{Float64, Vector{Float64}}(support=Base.OneTo(2), p=[0.9, 0.1])Distributions.Categorical{Float64, Vector{Float64}}(support=Base.OneTo(2), p=[0.1, 0.9])Distributions.Categorical{Float64, Vector{Float64}}(support=Base.OneTo(2), p=[0.1, 0.9])Distributions.Categorical{Float64, Vector{Float64}}(support=Base.OneTo(2), p=[0.9, 0.1])Distributions.Categorical{Float64, Vector{Float64}}(support=Base.OneTo(2), p=[0.8, 0.19999999999999996])Distributions.Categorical{Float64, Vector{Float64}}(support=Base.OneTo(2), p=[0.8, 0.19999999999999996])Distributions.Categorical{Float64, Vector{Float64}}(support=Base.OneTo(2), p=[0.0, 1.0])Distributions.Categorical{Float64, Vector{Float64}}(support=Base.OneTo(2), p=[0.1, 0.9])Distributions.Categorical{Float64, Vector{Float64}}(support=Base.OneTo(2), p=[0.1, 0.9])Distributions.Categorical{Float64, Vector{Float64}}(support=Base.OneTo(2), p=[0.0, 1.0])Distributions.Categorical{Float64, Vector{Float64}}(support=Base.OneTo(2), p=[0.8, 0.19999999999999996])Distributions.Categorical{Float64, Vector{Float64}}(support=Base.OneTo(2), p=[0.8, 0.19999999999999996])Distributions.Categorical{Float64, Vector{Float64}}(support=Base.OneTo(2), p=[0.9, 0.1])Distributions.Categorical{Float64, Vector{Float64}}(support=Base.OneTo(2), p=[0.1, 0.9])Distributions.Categorical{Float64, Vector{Float64}}(support=Base.OneTo(2), p=[0.1, 0.9])Distributions.Categorical{Float64, Vector{Float64}}(support=Base.OneTo(2), p=[0.9, 0.1])Distributions.Categorical{Float64, Vector{Float64}}(support=Base.OneTo(2), p=[0.8, 0.19999999999999996])Distributions.Categorical{Float64, Vector{Float64}}(support=Base.OneTo(2), p=[0.8, 0.19999999999999996])Distributions.Categorical{Float64, Vector{Float64}}(support=Base.OneTo(2), p=[0.0, 1.0])Distributions.Categorical{Float64, Vector{Float64}}(support=Base.OneTo(2), p=[0.1, 0.9])Distributions.Categorical{Float64, Vector{Float64}}(support=Base.OneTo(2), p=[0.1, 0.9])Distributions.Categorical{Float64, Vector{Float64}}(support=Base.OneTo(2), p=[0.0, 1.0])Distributions.Categorical{Float64, Vector{Float64}}(support=Base.OneTo(2), p=[0.8, 0.19999999999999996])Distributions.Categorical{Float64, Vector{Float64}}(support=Base.OneTo(2), p=[0.8, 0.19999999999999996])Distributions.Categorical{Float64, Vector{Float64}}(support=Base.OneTo(2), p=[0.9, 0.1])Distributions.Categorical{Float64, Vector{Float64}}(support=Base.OneTo(2), p=[0.1, 0.9])Distributions.Categorical{Float64, Vector{Float64}}(support=Base.OneTo(2), p=[0.1, 0.9])Distributions.Categorical{Float64, Vector{Float64}}(support=Base.OneTo(2), p=[0.9, 0.1])Distributions.Categorical{Float64, Vector{Float64}}(support=Base.OneTo(2), p=[0.8, 0.19999999999999996])Distributions.Categorical{Float64, Vector{Float64}}(support=Base.OneTo(2), p=[0.8, 0.19999999999999996])Distributions.Categorical{Float64, Vector{Float64}}(support=Base.OneTo(2), p=[0.0, 1.0])Distributions.Categorical{Float64, Vector{Float64}}(support=Base.OneTo(2), p=[0.1, 0.9])Distributions.Categorical{Float64, Vector{Float64}}(support=Base.OneTo(2), p=[0.1, 0.9])Distributions.Categorical{Float64, Vector{Float64}}(support=Base.OneTo(2), p=[0.0, 1.0])Distributions.Categorical{Float64, Vector{Float64}}(support=Base.OneTo(2), p=[0.8, 0.19999999999999996])Distributions.Categorical{Float64, Vector{Float64}}(support=Base.OneTo(2), p=[0.8, 0.19999999999999996])Distributions.Categorical{Float64, Vector{Float64}}(support=Base.OneTo(2), p=[0.9, 0.1])Distributions.Categorical{Float64, Vector{Float64}}(support=Base.OneTo(2), p=[0.1, 0.9])Distributions.Categorical{Float64, Vector{Float64}}(support=Base.OneTo(2), p=[0.1, 0.9])Distributions.Categorical{Float64, Vector{Float64}}(support=Base.OneTo(2), p=[0.9, 0.1])Distributions.Categorical{Float64, Vector{Float64}}(support=Base.OneTo(2), p=[0.8, 0.19999999999999996])Distributions.Categorical{Float64, Vector{Float64}}(support=Base.OneTo(2), p=[0.8, 0.19999999999999996])Distributions.Categorical{Float64, Vector{Float64}}(support=Base.OneTo(2), p=[0.0, 1.0])Distributions.Categorical{Float64, Vector{Float64}}(support=Base.OneTo(2), p=[0.1, 0.9])Distributions.Categorical{Float64, Vector{Float64}}(support=Base.OneTo(2), p=[0.1, 0.9])Distributions.Categorical{Float64, Vector{Float64}}(support=Base.OneTo(2), p=[0.0, 1.0])Distributions.Categorical{Float64, Vector{Float64}}(support=Base.OneTo(2), p=[0.8, 0.19999999999999996])Distributions.Categorical{Float64, Vector{Float64}}(support=Base.OneTo(2), p=[0.8, 0.19999999999999996])Distributions.Categorical{Float64, Vector{Float64}}(support=Base.OneTo(2), p=[0.9, 0.1])Distributions.Categorical{Float64, Vector{Float64}}(support=Base.OneTo(2), p=[0.0, 1.0])Distributions.Categorical{Float64, Vector{Float64}}(support=Base.OneTo(2), p=[0.0, 1.0])Distributions.Categorical{Float64, Vector{Float64}}(support=Base.OneTo(2), p=[0.9, 0.1])Distributions.Categorical{Float64, Vector{Float64}}(support=Base.OneTo(2), p=[0.9, 0.09999999999999998])Distributions.Categorical{Float64, Vector{Float64}}(support=Base.OneTo(2), p=[0.9, 0.09999999999999998])Distributions.Categorical{Float64, Vector{Float64}}(support=Base.OneTo(2), p=[0.0, 1.0])Distributions.Categorical{Float64, Vector{Float64}}(support=Base.OneTo(2), p=[0.0, 1.0])Distributions.Categorical{Float64, Vector{Float64}}(support=Base.OneTo(2), p=[0.0, 1.0])Distributions.Categorical{Float64, Vector{Float64}}(support=Base.OneTo(2), p=[0.0, 1.0])Distributions.Categorical{Float64, Vector{Float64}}(support=Base.OneTo(2), p=[0.9, 0.09999999999999998])Distributions.Categorical{Float64, Vector{Float64}}(support=Base.OneTo(2), p=[0.9, 0.09999999999999998])Distributions.Categorical{Float64, Vector{Float64}}(support=Base.OneTo(2), p=[0.9, 0.1])Distributions.Categorical{Float64, Vector{Float64}}(support=Base.OneTo(2), p=[0.0, 1.0])Distributions.Categorical{Float64, Vector{Float64}}(support=Base.OneTo(2), p=[0.0, 1.0])Distributions.Categorical{Float64, Vector{Float64}}(support=Base.OneTo(2), p=[0.9, 0.1])Distributions.Categorical{Float64, Vector{Float64}}(support=Base.OneTo(2), p=[0.9, 0.09999999999999998])Distributions.Categorical{Float64, Vector{Float64}}(support=Base.OneTo(2), p=[0.9, 0.09999999999999998])Distributions.Categorical{Float64, Vector{Float64}}(support=Base.OneTo(2), p=[0.0, 1.0])Distributions.Categorical{Float64, Vector{Float64}}(support=Base.OneTo(2), p=[0.0, 1.0])Distributions.Categorical{Float64, Vector{Float64}}(support=Base.OneTo(2), p=[0.0, 1.0])Distributions.Categorical{Float64, Vector{Float64}}(support=Base.OneTo(2), p=[0.0, 1.0])Distributions.Categorical{Float64, Vector{Float64}}(support=Base.OneTo(2), p=[0.9, 0.09999999999999998])Distributions.Categorical{Float64, Vector{Float64}}(support=Base.OneTo(2), p=[0.9, 0.09999999999999998])Distributions.Categorical{Float64, Vector{Float64}}(support=Base.OneTo(2), p=[0.9, 0.1])Distributions.Categorical{Float64, Vector{Float64}}(support=Base.OneTo(2), p=[0.0, 1.0])Distributions.Categorical{Float64, Vector{Float64}}(support=Base.OneTo(2), p=[0.0, 1.0])Distributions.Categorical{Float64, Vector{Float64}}(support=Base.OneTo(2), p=[0.9, 0.1])Distributions.Categorical{Float64, Vector{Float64}}(support=Base.OneTo(2), p=[0.9, 0.09999999999999998])Distributions.Categorical{Float64, Vector{Float64}}(support=Base.OneTo(2), p=[0.9, 0.09999999999999998])Distributions.Categorical{Float64, Vector{Float64}}(support=Base.OneTo(2), p=[0.0, 1.0])Distributions.Categorical{Float64, Vector{Float64}}(support=Base.OneTo(2), p=[0.0, 1.0])Distributions.Categorical{Float64, Vector{Float64}}(support=Base.OneTo(2), p=[0.0, 1.0])Distributions.Categorical{Float64, Vector{Float64}}(support=Base.OneTo(2), p=[0.0, 1.0])Distributions.Categorical{Float64, Vector{Float64}}(support=Base.OneTo(2), p=[0.9, 0.09999999999999998])Distributions.Categorical{Float64, Vector{Float64}}(support=Base.OneTo(2), p=[0.9, 0.09999999999999998])Distributions.Categorical{Float64, Vector{Float64}}(support=Base.OneTo(2), p=[0.9, 0.1])Distributions.Categorical{Float64, Vector{Float64}}(support=Base.OneTo(2), p=[0.0, 1.0])Distributions.Categorical{Float64, Vector{Float64}}(support=Base.OneTo(2), p=[0.0, 1.0])Distributions.Categorical{Float64, Vector{Float64}}(support=Base.OneTo(2), p=[0.9, 0.1])Distributions.Categorical{Float64, Vector{Float64}}(support=Base.OneTo(2), p=[0.9, 0.09999999999999998])Distributions.Categorical{Float64, Vector{Float64}}(support=Base.OneTo(2), p=[0.9, 0.09999999999999998])Distributions.Categorical{Float64, Vector{Float64}}(support=Base.OneTo(2), p=[0.0, 1.0])Distributions.Categorical{Float64, Vector{Float64}}(support=Base.OneTo(2), p=[0.0, 1.0])Distributions.Categorical{Float64, Vector{Float64}}(support=Base.OneTo(2), p=[0.0, 1.0])Distributions.Categorical{Float64, Vector{Float64}}(support=Base.OneTo(2), p=[0.0, 1.0])Distributions.Categorical{Float64, Vector{Float64}}(support=Base.OneTo(2), p=[0.9, 0.09999999999999998])Distributions.Categorical{Float64, Vector{Float64}}(support=Base.OneTo(2), p=[0.9, 0.09999999999999998])"
     ]
    },
    {
     "data": {
      "text/plain": [
       "Main.POMGProblems.LookaheadAlphaVectorPolicy(POMDP(0.9, [1, 2], [1, 2, 3], [1, 2], Main.POMGProblems.var\"#6#10\"{DiscretePOMDP}(DiscretePOMDP([1.0 0.9 0.9; 1.0 0.0 0.0;;; 0.0 0.1 0.1; 0.0 1.0 1.0], [-5.0 0.0 -0.5; -15.0 -10.0 -10.5], [0.1 0.8; 0.1 0.8; 0.0 0.9;;; 0.9 0.19999999999999996; 0.9 0.19999999999999996; 1.0 0.09999999999999998], 0.9)), Main.POMGProblems.var\"#7#11\"{DiscretePOMDP}(DiscretePOMDP([1.0 0.9 0.9; 1.0 0.0 0.0;;; 0.0 0.1 0.1; 0.0 1.0 1.0], [-5.0 0.0 -0.5; -15.0 -10.0 -10.5], [0.1 0.8; 0.1 0.8; 0.0 0.9;;; 0.9 0.19999999999999996; 0.9 0.19999999999999996; 1.0 0.09999999999999998], 0.9)), Main.POMGProblems.var\"#8#12\"{DiscretePOMDP}(DiscretePOMDP([1.0 0.9 0.9; 1.0 0.0 0.0;;; 0.0 0.1 0.1; 0.0 1.0 1.0], [-5.0 0.0 -0.5; -15.0 -10.0 -10.5], [0.1 0.8; 0.1 0.8; 0.0 0.9;;; 0.9 0.19999999999999996; 0.9 0.19999999999999996; 1.0 0.09999999999999998], 0.9)), Main.POMGProblems.var\"#9#13\"{DiscretePOMDP}(DiscretePOMDP([1.0 0.9 0.9; 1.0 0.0 0.0;;; 0.0 0.1 0.1; 0.0 1.0 1.0], [-5.0 0.0 -0.5; -15.0 -10.0 -10.5], [0.1 0.8; 0.1 0.8; 0.0 0.9;;; 0.9 0.19999999999999996; 0.9 0.19999999999999996; 1.0 0.09999999999999998], 0.9))), Any[[-9.585109991390002, -19.585109991390002], [-6.216037386255902, -28.1606369752]])"
      ]
     },
     "execution_count": 4,
     "metadata": {},
     "output_type": "execute_result"
    }
   ],
   "source": [
    "iteration = ValueIteration(6)\n",
    "alpha_vector = solve_conditional_plan_nonlinear(iteration, decprobCB)"
   ]
  },
  {
   "cell_type": "code",
   "execution_count": 5,
   "metadata": {},
   "outputs": [
    {
     "name": "stdout",
     "output_type": "stream",
     "text": [
      "Any[[-9.585109991390002, -19.585109991390002], [-6.216037386255902, -28.1606369752]]"
     ]
    }
   ],
   "source": [
    "print(alpha_vector.Γ)"
   ]
  },
  {
   "cell_type": "markdown",
   "metadata": {},
   "source": [
    "#### Controller Policy"
   ]
  },
  {
   "cell_type": "code",
   "execution_count": 6,
   "metadata": {},
   "outputs": [
    {
     "name": "stdout",
     "output_type": "stream",
     "text": [
      "Distributions.Categorical{Float64, Vector{Float64}}(support=Base.OneTo(2), p=[1.0, 0.0])Distributions.Categorical{Float64, Vector{Float64}}(support=Base.OneTo(2), p=[1.0, 0.0])Distributions.Categorical{Float64, Vector{Float64}}(support=Base.OneTo(2), p=[0.9, 0.1])Distributions.Categorical{Float64, Vector{Float64}}(support=Base.OneTo(2), p=[0.0, 1.0])Distributions.Categorical{Float64, Vector{Float64}}(support=Base.OneTo(2), p=[0.9, 0.1])Distributions.Categorical{Float64, Vector{Float64}}(support=Base.OneTo(2), p=[0.0, 1.0])Distributions.Categorical{Float64, Vector{Float64}}(support=Base.OneTo(2), p=[1.0, 0.0])Distributions.Categorical{Float64, Vector{Float64}}(support=Base.OneTo(2), p=[1.0, 0.0])Distributions.Categorical{Float64, Vector{Float64}}(support=Base.OneTo(2), p=[0.9, 0.1])Distributions.Categorical{Float64, Vector{Float64}}(support=Base.OneTo(2), p=[0.0, 1.0])Distributions.Categorical{Float64, Vector{Float64}}(support=Base.OneTo(2), p=[0.9, 0.1])Distributions.Categorical{Float64, Vector{Float64}}(support=Base.OneTo(2), p=[0.0, 1.0])Distributions.Categorical{Float64, Vector{Float64}}(support=Base.OneTo(2), p=[0.1, 0.9])Distributions.Categorical{Float64, Vector{Float64}}(support=Base.OneTo(2), p=[0.1, 0.9])Distributions.Categorical{Float64, Vector{Float64}}(support=Base.OneTo(2), p=[0.0, 1.0])Distributions.Categorical{Float64, Vector{Float64}}(support=Base.OneTo(2), p=[0.8, 0.19999999999999996])Distributions.Categorical{Float64, Vector{Float64}}(support=Base.OneTo(2), p=[0.8, 0.19999999999999996])Distributions.Categorical{Float64, Vector{Float64}}(support=Base.OneTo(2), p=[0.9, 0.09999999999999998])Distributions.Categorical{Float64, Vector{Float64}}(support=Base.OneTo(2), p=[0.1, 0.9])Distributions.Categorical{Float64, Vector{Float64}}(support=Base.OneTo(2), p=[0.1, 0.9])Distributions.Categorical{Float64, Vector{Float64}}(support=Base.OneTo(2), p=[0.0, 1.0])Distributions.Categorical{Float64, Vector{Float64}}(support=Base.OneTo(2), p=[0.8, 0.19999999999999996])Distributions.Categorical{Float64, Vector{Float64}}(support=Base.OneTo(2), p=[0.8, 0.19999999999999996])Distributions.Categorical{Float64, Vector{Float64}}(support=Base.OneTo(2), p=[0.9, 0.09999999999999998])\n",
      "******************************************************************************\n",
      "This program contains Ipopt, a library for large-scale nonlinear optimization.\n",
      " Ipopt is released as open source code under the Eclipse Public License (EPL).\n",
      "         For more information visit https://github.com/coin-or/Ipopt\n",
      "******************************************************************************\n",
      "\n",
      "This is Ipopt version 3.13.4, running with linear solver mumps.\n",
      "NOTE: Other linear solvers might be more efficient (see Ipopt documentation).\n",
      "\n",
      "Number of nonzeros in equality constraint Jacobian...:      225\n",
      "Number of nonzeros in inequality constraint Jacobian.:        0\n",
      "Number of nonzeros in Lagrangian Hessian.............:     1386\n",
      "\n",
      "Total number of variables............................:       69\n",
      "                     variables with only lower bounds:       63\n",
      "                variables with lower and upper bounds:        0\n",
      "                     variables with only upper bounds:        0\n",
      "Total number of equality constraints.................:       27\n",
      "Total number of inequality constraints...............:        0\n",
      "        inequality constraints with only lower bounds:        0\n",
      "   inequality constraints with lower and upper bounds:        0\n",
      "        inequality constraints with only upper bounds:        0\n",
      "\n",
      "iter    objective    inf_pr   inf_du lg(mu)  ||d||  lg(rg) alpha_du alpha_pr  ls\n",
      "   0  0.0000000e+00 9.70e-01 4.84e-01  -1.0 0.00e+00    -  0.00e+00 0.00e+00   0\n",
      "   1 -1.5640028e+01 3.98e+00 3.04e+01  -1.7 1.18e+01    -  2.99e-02 1.00e+00H  1\n",
      "   2 -1.5685195e+01 3.73e+00 3.09e+01  -1.7 5.55e+00   0.0 7.09e-02 6.19e-02h  1\n",
      "   3 -1.5689545e+01 3.73e+00 3.57e+01  -1.7 5.47e+00   0.4 4.10e-01 1.45e-03h  1\n",
      "   4 -1.6198114e+01 3.53e+00 3.50e+01  -1.7 2.88e+01  -0.1 4.66e-02 2.65e-02h  1\n",
      "   5 -1.6254855e+01 3.48e+00 8.28e+01  -1.7 1.15e+01   0.4 6.30e-01 1.35e-02h  1\n",
      "   6 -1.6589908e+01 3.27e+00 1.05e+02  -1.7 1.13e+01   0.8 2.09e-01 6.74e-02h  1\n",
      "   7 -1.6726743e+01 3.16e+00 7.48e+02  -1.7 8.62e+00   1.2 1.00e+00 3.49e-02h  1\n",
      "   8 -1.7411685e+01 2.63e+00 1.82e+03  -1.7 9.05e+00   1.7 1.00e+00 1.61e-01h  1\n",
      "   9 -1.7868990e+01 2.27e+00 5.22e+03  -1.7 6.94e+00   2.1 1.00e+00 1.34e-01h  1\n",
      "iter    objective    inf_pr   inf_du lg(mu)  ||d||  lg(rg) alpha_du alpha_pr  ls\n",
      "  10 -1.8080865e+01 2.10e+00 1.30e+04  -1.7 5.82e+00   2.5 8.68e-01 7.42e-02h  1\n",
      "  11 -1.8085266e+01 2.10e+00 1.52e+04  -1.7 5.23e+00   2.9 2.70e-02 1.58e-03h  1\n",
      "  12 -1.8101546e+01 2.08e+00 4.22e+05  -1.7 7.89e+00   3.4 5.27e-01 5.55e-03h  1\n",
      "  13 -1.9000994e+01 1.85e+00 1.52e+05  -1.7 8.33e+00   2.9 1.00e+00 3.02e-01h  1\n",
      "  14 -1.9006358e+01 1.84e+00 2.24e+06  -1.7 6.52e+00   4.2 3.70e-01 2.18e-03h  1\n",
      "  15 -1.9034889e+01 1.82e+00 2.18e+06  -1.7 7.64e+00   3.7 1.00e+00 1.09e-02h  1\n",
      "  16 -1.9606181e+01 1.62e+00 4.26e+06  -1.7 7.59e+00   4.2 1.00e+00 2.22e-01h  1\n",
      "  17 -1.9612293e+01 1.62e+00 9.59e+06  -1.7 7.26e+00   4.6 3.93e-01 2.20e-03h  1\n",
      "  18 -1.9628435e+01 1.62e+00 1.05e+07  -1.7 8.23e+00   4.1 4.01e-01 2.12e-03h  1\n",
      "  19 -2.7280335e+01 1.53e-04 6.61e+06  -1.7 8.31e+00   3.6 9.90e-01 1.00e+00h  1\n",
      "iter    objective    inf_pr   inf_du lg(mu)  ||d||  lg(rg) alpha_du alpha_pr  ls\n",
      "  20 -2.7280170e+01 1.47e-10 5.26e+04  -1.7 1.80e-03   3.2 9.90e-01 1.00e+00f  1\n",
      "  21 -2.7280457e+01 1.35e-06 5.07e+02  -1.7 2.00e-01    -  9.90e-01 1.00e+00f  1\n",
      "  22 -2.7296902e+01 5.40e-04 2.35e-03  -1.7 7.67e-01    -  1.00e+00 1.00e+00f  1\n",
      "  23 -2.7281135e+01 5.03e-06 3.65e-05  -3.8 2.05e-02    -  1.00e+00 1.00e+00h  1\n",
      "  24 -2.7280843e+01 4.39e-10 1.61e-01  -5.7 3.41e-04   2.7 1.00e+00 1.00e+00h  1\n",
      "  25 -2.7279982e+01 7.50e-09 1.65e-01  -5.7 1.05e-03   2.2 1.00e+00 1.00e+00f  1\n",
      "  26 -2.7279228e+01 3.46e-08 1.21e+00  -5.7 2.73e-03   1.7 1.00e+00 3.74e-01f  1\n",
      "  27 -2.7278410e+01 6.65e-08 1.23e+01  -5.7 5.05e-03   1.2 1.00e+00 2.90e-01f  1\n",
      "  28 -2.7278428e+01 4.43e-08 1.79e+01  -5.7 3.13e-04   0.8 1.00e+00 3.36e-01f  2\n",
      "  29 -2.7278354e+01 2.93e-10 2.77e-04  -5.7 9.77e-05   0.3 1.00e+00 1.00e+00h  1\n",
      "iter    objective    inf_pr   inf_du lg(mu)  ||d||  lg(rg) alpha_du alpha_pr  ls\n",
      "  30 -2.7278353e+01 9.24e-14 3.32e-06  -5.7 5.12e-06  -0.2 1.00e+00 1.00e+00h  1\n",
      "  31 -2.7278322e+01 1.37e-11 8.59e-06  -8.6 3.97e-05  -0.7 1.00e+00 1.00e+00f  1\n",
      "  32 -2.7278322e+01 7.11e-15 1.46e-07  -8.6 2.03e-06  -1.1 1.00e+00 1.00e+00h  1\n",
      "  33 -2.7278322e+01 7.11e-15 1.46e-07  -8.6 6.08e-06  -1.6 1.00e+00 1.00e+00h  1\n",
      "  34 -2.7278322e+01 1.42e-14 1.46e-07  -8.6 1.82e-05  -2.1 1.00e+00 1.00e+00h  1\n",
      "  35 -2.7278322e+01 7.11e-15 1.46e-07  -8.6 5.47e-05  -2.6 1.00e+00 1.00e+00h  1\n",
      "  36 -2.7278322e+01 3.55e-15 1.46e-07  -8.6 1.64e-04  -3.1 1.00e+00 1.00e+00h  1\n",
      "  37 -2.7278322e+01 7.11e-15 1.46e-07  -8.6 4.93e-04  -3.5 1.00e+00 1.00e+00h  1\n",
      "  38 -2.7278322e+01 1.07e-14 1.46e-07  -8.6 1.48e-03  -4.0 1.00e+00 1.00e+00h  1\n",
      "  39 -2.7278322e+01 1.42e-14 1.46e-07  -8.6 4.42e-03  -4.5 1.00e+00 1.00e+00h  1\n",
      "iter    objective    inf_pr   inf_du lg(mu)  ||d||  lg(rg) alpha_du alpha_pr  ls\n",
      "  40 -2.7278322e+01 1.07e-13 1.45e-07  -8.6 1.32e-02  -5.0 1.00e+00 1.00e+00h  1\n",
      "  41 -2.7278322e+01 8.88e-13 1.43e-07  -8.6 3.91e-02  -5.4 1.00e+00 1.00e+00h  1\n",
      "  42 -2.7278322e+01 6.88e-12 1.35e-07  -8.6 1.10e-01  -5.9 1.00e+00 1.00e+00h  1\n",
      "  43 -2.7278322e+01 6.65e-12 5.84e+00  -8.6 2.71e-01  -6.4 1.00e+00 1.58e-01h  2\n",
      "  44 -2.7278321e+01 1.97e-11 8.60e+00  -8.6 4.41e-01  -6.9 1.00e+00 3.35e-01h  1\n",
      "  45 -2.7278321e+01 1.35e-11 5.97e-08  -8.6 1.65e-01  -6.4 1.00e+00 1.00e+00f  1\n",
      "  46 -2.7278321e+01 2.08e-11 2.36e+00  -8.6 3.35e-01  -6.9 1.00e+00 3.69e-01h  2\n",
      "  47 -2.7278321e+01 1.13e-11 3.63e-08  -8.6 7.85e-02  -6.5 1.00e+00 1.00e+00h  1\n",
      "  48 -2.7278321e+01 1.60e-12 1.95e-08  -8.6 2.27e-02  -6.1 1.00e+00 1.00e+00h  1\n",
      "  49 -2.7278321e+01 4.08e-10 4.34e-02 -12.9 8.56e-02  -6.5 8.80e-01 9.48e-01h  1\n",
      "iter    objective    inf_pr   inf_du lg(mu)  ||d||  lg(rg) alpha_du alpha_pr  ls\n",
      "  50 -2.7278321e+01 5.40e-11 1.31e-01 -12.9 2.55e-01  -7.0 7.58e-01 8.79e-01h  1\n",
      "  51 -2.7278321e+01 1.56e-11 1.02e-01 -12.9 9.10e-02  -6.6 9.88e-01 7.10e-01f  1\n",
      "  52 -2.7278321e+01 1.19e-11 5.12e-01 -12.9 1.92e-01  -7.1 1.00e+00 2.39e-01f  1\n",
      "  53 -2.7278321e+01 1.42e-14 8.95e-08 -12.9 9.05e-02  -7.5 1.00e+00 1.00e+00f  1\n",
      "  54 -2.7278321e+01 7.11e-15 3.87e-02 -12.9 2.71e-01  -8.0 1.00e+00 6.28e-01h  1\n",
      "  55 -2.7278321e+01 1.73e-10 1.37e-02 -12.9 3.88e-01  -8.5 1.00e+00 1.00e+00f  1\n",
      "  56 -2.7278321e+01 4.65e-11 2.10e-03 -12.9 1.56e-01  -8.1 1.00e+00 1.00e+00h  1\n",
      "  57 -2.7278321e+01 4.88e-11 4.68e+00 -12.9 1.19e+00  -8.6 2.79e-01 1.18e-02h  1\n",
      "  58 -2.7278321e+01 4.68e-11 2.05e+00 -12.9 3.09e-01  -8.1 1.00e+00 3.89e-02f  1\n",
      "  59 -2.7278321e+01 4.66e-11 2.96e-02 -12.9 2.73e-01  -8.6 1.00e+00 8.93e-01f  1\n",
      "iter    objective    inf_pr   inf_du lg(mu)  ||d||  lg(rg) alpha_du alpha_pr  ls\n",
      "  60 -2.7278321e+01 4.40e-11 1.44e+00 -12.9 9.63e-02  -9.1 1.00e+00 6.25e-02f  5\n",
      "  61 -2.7278321e+01 6.28e-12 1.88e-03 -12.9 3.86e-03  -9.6 1.00e+00 8.57e-01h  1\n",
      "  62 -2.7278321e+01 4.71e-12 1.33e-01 -12.9 1.11e-02 -10.0 1.00e+00 2.50e-01f  3\n",
      "  63 -2.7278321e+01 9.95e-14 2.68e-06 -12.9 5.03e-02 -10.5 1.00e+00 1.00e+00h  1\n",
      "  64 -2.7278321e+01 1.42e-14 4.88e-07 -12.9 2.27e-02 -10.1 1.00e+00 1.00e+00h  1\n",
      "  65 -2.7278321e+01 4.19e-13 1.21e-05 -12.9 1.27e-01 -10.6 1.00e+00 1.00e+00h  1\n",
      "  66 -2.7278321e+01 1.36e-12 4.29e-05 -12.9 1.22e-01 -10.1 1.00e+00 1.00e+00h  1\n",
      "  67 -2.7278321e+01 1.36e-12 9.05e-02 -12.9 9.14e-02  -8.8 1.24e-01 6.19e-02h  2\n",
      "  68 -2.7278321e+01 1.36e-12 1.17e+00 -12.9 2.80e-03   1.0 1.00e+00 2.98e-08h 26\n",
      "  69 -2.7278321e+01 1.37e-12 1.07e+00 -12.9 2.34e-01    -  7.99e-02 1.21e-02h  2\n",
      "iter    objective    inf_pr   inf_du lg(mu)  ||d||  lg(rg) alpha_du alpha_pr  ls\n",
      "  70 -2.7278321e+01 1.37e-12 1.83e+00 -12.9 5.25e-03   0.6 1.00e+00 1.49e-08h 27\n",
      "  71 -2.7278321e+01 1.23e-12 6.70e-01 -12.9 1.27e-02    -  6.34e-01 1.11e-01h  2\n",
      "  72 -2.7278321e+01 1.24e-12 5.87e-03 -12.9 1.31e-04   0.1 1.00e+00 3.79e-07h  2\n",
      "  73 -2.7278321e+01 3.55e-15 1.76e-09 -12.9 4.40e-09  -0.4 1.00e+00 1.00e+00h  1\n",
      "\n",
      "Number of Iterations....: 73\n",
      "\n",
      "                                   (scaled)                 (unscaled)\n",
      "Objective...............:   2.7278321302868875e+01   -2.7278321302868875e+01\n",
      "Dual infeasibility......:   1.7628984058621644e-09    1.7628984058621644e-09\n",
      "Constraint violation....:   3.5527136788005009e-15    3.5527136788005009e-15\n",
      "Complementarity.........:   1.3355270404266298e-13   -1.3355270404266298e-13\n",
      "Overall NLP error.......:   1.7628984058621644e-09    1.7628984058621644e-09\n",
      "\n",
      "\n",
      "Number of objective function evaluations             = 156\n",
      "Number of objective gradient evaluations             = 74\n",
      "Number of equality constraint evaluations            = 156\n",
      "Number of inequality constraint evaluations          = 0\n",
      "Number of equality constraint Jacobian evaluations   = 74\n",
      "Number of inequality constraint Jacobian evaluations = 0\n",
      "Number of Lagrangian Hessian evaluations             = 73\n",
      "Total CPU secs in IPOPT (w/o function evaluations)   =      2.489\n",
      "Total CPU secs in NLP function evaluations           =      2.909\n",
      "\n",
      "EXIT: Optimal Solution Found.\n"
     ]
    },
    {
     "data": {
      "text/plain": [
       "Main.POMGProblems.ControllerPolicy(POMDP(0.9, [1, 2], [1, 2, 3], [1, 2], Main.POMGProblems.var\"#6#10\"{DiscretePOMDP}(DiscretePOMDP([1.0 0.9 0.9; 1.0 0.0 0.0;;; 0.0 0.1 0.1; 0.0 1.0 1.0], [-5.0 0.0 -0.5; -15.0 -10.0 -10.5], [0.1 0.8; 0.1 0.8; 0.0 0.9;;; 0.9 0.19999999999999996; 0.9 0.19999999999999996; 1.0 0.09999999999999998], 0.9)), Main.POMGProblems.var\"#7#11\"{DiscretePOMDP}(DiscretePOMDP([1.0 0.9 0.9; 1.0 0.0 0.0;;; 0.0 0.1 0.1; 0.0 1.0 1.0], [-5.0 0.0 -0.5; -15.0 -10.0 -10.5], [0.1 0.8; 0.1 0.8; 0.0 0.9;;; 0.9 0.19999999999999996; 0.9 0.19999999999999996; 1.0 0.09999999999999998], 0.9)), Main.POMGProblems.var\"#8#12\"{DiscretePOMDP}(DiscretePOMDP([1.0 0.9 0.9; 1.0 0.0 0.0;;; 0.0 0.1 0.1; 0.0 1.0 1.0], [-5.0 0.0 -0.5; -15.0 -10.0 -10.5], [0.1 0.8; 0.1 0.8; 0.0 0.9;;; 0.9 0.19999999999999996; 0.9 0.19999999999999996; 1.0 0.09999999999999998], 0.9)), Main.POMGProblems.var\"#9#13\"{DiscretePOMDP}(DiscretePOMDP([1.0 0.9 0.9; 1.0 0.0 0.0;;; 0.0 0.1 0.1; 0.0 1.0 1.0], [-5.0 0.0 -0.5; -15.0 -10.0 -10.5], [0.1 0.8; 0.1 0.8; 0.0 0.9;;; 0.9 0.19999999999999996; 0.9 0.19999999999999996; 1.0 0.09999999999999998], 0.9))), [1, 2, 3], Dict((3, 2) => 0.0, (1, 2) => 1.000000019999993, (3, 1) => 1.0000000199876748, (1, 1) => 0.0, (3, 3) => 0.0, (1, 3) => 0.0, (2, 2) => 0.0, (2, 1) => 1.0000000199999834, (2, 3) => 0.0), Dict((3, 2, 1, 3) => 5.236193998456424e-5, (2, 2, 2, 1) => 0.9999159167751226, (1, 2, 1, 2) => 0.9985850871192575, (3, 1, 1, 2) => 0.0, (3, 2, 1, 2) => 5.236193998125102e-5, (2, 1, 1, 1) => 1.0000000199995152, (1, 3, 2, 1) => 6.386767697718933e-7, (2, 2, 1, 1) => 0.9999964721925831, (3, 3, 2, 1) => 0.0004758781178421559, (2, 3, 2, 3) => 0.4999919625148224…))"
      ]
     },
     "execution_count": 6,
     "metadata": {},
     "output_type": "execute_result"
    }
   ],
   "source": [
    "nlp = NonlinearProgramming(b, 3)\n",
    "controllerPolicy = solve_controller_nonlinear(nlp, decprobCB)"
   ]
  },
  {
   "cell_type": "code",
   "execution_count": 7,
   "metadata": {},
   "outputs": [
    {
     "name": "stdout",
     "output_type": "stream",
     "text": [
      "Dict((3, 2) => 0.0, (1, 2) => 1.000000019999993, (3, 1) => 1.0000000199876748, (1, 1) => 0.0, (3, 3) => 0.0, (1, 3) => 0.0, (2, 2) => 0.0, (2, 1) => 1.0000000199999834, (2, 3) => 0.0)"
     ]
    }
   ],
   "source": [
    "print(controllerPolicy.ψ)"
   ]
  },
  {
   "cell_type": "markdown",
   "metadata": {},
   "source": [
    "### III/ Multi-Caregiver Crying Baby"
   ]
  },
  {
   "cell_type": "markdown",
   "metadata": {},
   "source": [
    "#### 1. POMG Structure"
   ]
  },
  {
   "cell_type": "code",
   "execution_count": 8,
   "metadata": {},
   "outputs": [
    {
     "data": {
      "text/plain": [
       "POMG(0.9, [1, 2], [1, 2], [[1, 2, 3], [1, 2, 3]], Vector{Bool}[[1, 0], [1, 0]], Main.POMGProblems.var\"#225#230\"{Main.POMGProblems.BabyPOMG}(Main.POMGProblems.BabyPOMG(CryingBaby\n",
       "  r_hungry: Float64 -10.0\n",
       "  r_feed: Float64 -5.0\n",
       "  r_sing: Float64 -0.5\n",
       "  p_become_hungry: Float64 0.1\n",
       "  p_cry_when_hungry: Float64 0.8\n",
       "  p_cry_when_not_hungry: Float64 0.1\n",
       "  p_cry_when_hungry_in_sing: Float64 0.9\n",
       "  γ: Float64 0.9\n",
       ")), Main.POMGProblems.var\"#226#231\"{Main.POMGProblems.BabyPOMG}(Main.POMGProblems.BabyPOMG(CryingBaby\n",
       "  r_hungry: Float64 -10.0\n",
       "  r_feed: Float64 -5.0\n",
       "  r_sing: Float64 -0.5\n",
       "  p_become_hungry: Float64 0.1\n",
       "  p_cry_when_hungry: Float64 0.8\n",
       "  p_cry_when_not_hungry: Float64 0.1\n",
       "  p_cry_when_hungry_in_sing: Float64 0.9\n",
       "  γ: Float64 0.9\n",
       ")), Main.POMGProblems.var\"#227#232\"{Main.POMGProblems.BabyPOMG}(Main.POMGProblems.BabyPOMG(CryingBaby\n",
       "  r_hungry: Float64 -10.0\n",
       "  r_feed: Float64 -5.0\n",
       "  r_sing: Float64 -0.5\n",
       "  p_become_hungry: Float64 0.1\n",
       "  p_cry_when_hungry: Float64 0.8\n",
       "  p_cry_when_not_hungry: Float64 0.1\n",
       "  p_cry_when_hungry_in_sing: Float64 0.9\n",
       "  γ: Float64 0.9\n",
       ")))"
      ]
     },
     "execution_count": 8,
     "metadata": {},
     "output_type": "execute_result"
    }
   ],
   "source": [
    "mMCB = MultiCaregiverCryingBaby()\n",
    "decprobMCB = POMG(mMCB)"
   ]
  },
  {
   "cell_type": "markdown",
   "metadata": {},
   "source": [
    "#### 2. Solution"
   ]
  },
  {
   "cell_type": "markdown",
   "metadata": {},
   "source": [
    "##### Nash Equilibrium"
   ]
  },
  {
   "cell_type": "code",
   "execution_count": null,
   "metadata": {},
   "outputs": [],
   "source": [
    "pomgNE = POMGNashEquilibrium(b, 3)\n",
    "nashPolicy = solve_pomg_nash(pomgNE, decprobMCB)"
   ]
  },
  {
   "cell_type": "code",
   "execution_count": null,
   "metadata": {},
   "outputs": [],
   "source": [
    "print(nashPolicy)"
   ]
  },
  {
   "cell_type": "markdown",
   "metadata": {},
   "source": [
    "##### Dynamic Programming"
   ]
  },
  {
   "cell_type": "code",
   "execution_count": null,
   "metadata": {},
   "outputs": [],
   "source": [
    "pomgDP = POMGDynamicProgramming(b, 1)\n",
    "DPPolicy = DynamicProgramming(pomgDP, decprobMCB) "
   ]
  },
  {
   "cell_type": "code",
   "execution_count": null,
   "metadata": {},
   "outputs": [],
   "source": [
    "print(DPPolicy)"
   ]
  },
  {
   "cell_type": "markdown",
   "metadata": {},
   "source": [
    "#### Visualize"
   ]
  },
  {
   "cell_type": "code",
   "execution_count": 9,
   "metadata": {},
   "outputs": [
    {
     "data": {
      "text/plain": [
       "ConditionalPlan(2, Dict{Bool, ConditionalPlan}(0 => ConditionalPlan(2, Dict{Bool, ConditionalPlan}(0 => ConditionalPlan(1, Dict{Bool, ConditionalPlan}(0 => ConditionalPlan(2, Dict{Any, Any}()), 1 => ConditionalPlan(2, Dict{Any, Any}()))), 1 => ConditionalPlan(1, Dict{Bool, ConditionalPlan}(0 => ConditionalPlan(2, Dict{Any, Any}()), 1 => ConditionalPlan(2, Dict{Any, Any}()))))), 1 => ConditionalPlan(2, Dict{Bool, ConditionalPlan}(0 => ConditionalPlan(1, Dict{Bool, ConditionalPlan}(0 => ConditionalPlan(2, Dict{Any, Any}()), 1 => ConditionalPlan(2, Dict{Any, Any}()))), 1 => ConditionalPlan(1, Dict{Bool, ConditionalPlan}(0 => ConditionalPlan(2, Dict{Any, Any}()), 1 => ConditionalPlan(2, Dict{Any, Any}())))))))"
      ]
     },
     "execution_count": 9,
     "metadata": {},
     "output_type": "execute_result"
    }
   ],
   "source": [
    "plan = ConditionalPlan(2, Dict{Bool, ConditionalPlan}(0 => ConditionalPlan(2, Dict{Bool, ConditionalPlan}(0 => ConditionalPlan(1, Dict{Bool, ConditionalPlan}(0 => ConditionalPlan(2, Dict{Any, Any}()), 1 => ConditionalPlan(2, Dict{Any, Any}()))), 1 => ConditionalPlan(1, Dict{Bool, ConditionalPlan}(0 => ConditionalPlan(2, Dict{Any, Any}()), 1 => ConditionalPlan(2, Dict{Any, Any}()))))), 1 => ConditionalPlan(2, Dict{Bool, ConditionalPlan}(0 => ConditionalPlan(1, Dict{Bool, ConditionalPlan}(0 => ConditionalPlan(2, Dict{Any, Any}()), 1 => ConditionalPlan(2, Dict{Any, Any}()))), 1 => ConditionalPlan(1, Dict{Bool, ConditionalPlan}(0 => ConditionalPlan(2, Dict{Any, Any}()), 1 => ConditionalPlan(2, Dict{Any, Any}())))))))"
   ]
  },
  {
   "cell_type": "code",
   "execution_count": 10,
   "metadata": {},
   "outputs": [
    {
     "data": {
      "text/html": [
       "    <!DOCTYPE html>\n",
       "    <html>\n",
       "    <head>\n",
       "        <meta charset=\"UTF-8\">\n",
       "        <title>Julia D3Tree</title>\n",
       "    </head>\n",
       "    <body>\n",
       "    <div id=\"treevis7xCierxk\">\n",
       "    <style>\n",
       "        \n",
       ".node {\n",
       "    cursor: pointer;\n",
       "}\n",
       "\n",
       ".node circle {\n",
       "\t  fill: #fff;\n",
       "\t  stroke: steelblue;\n",
       "\t  stroke-width: 3px;\n",
       "      r: 10;\n",
       "}\n",
       "\n",
       ".node rect {\n",
       "\t  fill: #fff;\n",
       "\t  stroke: steelblue;\n",
       "\t  stroke-width: 3px;\n",
       "      x: -10;\n",
       "      y: -10;\n",
       "      width: 20;\n",
       "      height: 20;\n",
       "}\n",
       "\n",
       ".node path {\n",
       "    fill: #ffffff;\n",
       "    /* stroke: steelblue; */\n",
       "    stroke-width: 2px;\n",
       "}\n",
       ".node text {\n",
       "    font-family: Arial, Helvetica, sans-serif;\n",
       "    font-style: normal;\n",
       "    font-size: 12px;\n",
       "}\n",
       ".link /* path */ {\n",
       "    fill: none;\n",
       "    stroke: #cccccc;\n",
       "    stroke-width: 2px;\n",
       "}\n",
       ".link text {\n",
       "    font-family: Arial, Helvetica, sans-serif;\n",
       "    font-style: normal;\n",
       "    font-size: 12px;\n",
       "}\n",
       ".hover text{\n",
       "    font-family: Arial, Helvetica, sans-serif;\n",
       "    font-style: normal;\n",
       "    font-size: 12px;\n",
       "}\n",
       "\n",
       "/*\n",
       ".svg-container {\n",
       "    display: inline-block;\n",
       "    position: relative;\n",
       "    width: 100%;\n",
       "    padding-bottom: 100%;\n",
       "    vertical-align: top;\n",
       "    overflow: hidden;\n",
       "}\n",
       ".svg-content-responsive {\n",
       "    display: inline-block;\n",
       "    position: absolute;\n",
       "    top: 10px;\n",
       "    left: 0;\n",
       "}\n",
       "*/\n",
       "\n",
       "    </style>\n",
       "    <script>\n",
       "       (function(){\n",
       "        var treeData = {\"children\":[[2,9],[3,6],[4,5],[],[],[7,8],[],[],[10,13],[11,12],[],[],[14,15],[],[]],\"text\":[\"\\nIGNORE\",\"Quiet\\nIGNORE\",\"Quiet\\nFEED\",\"Quiet\\nIGNORE\",\"Crying\\nIGNORE\",\"Crying\\nFEED\",\"Quiet\\nIGNORE\",\"Crying\\nIGNORE\",\"Crying\\nIGNORE\",\"Quiet\\nFEED\",\"Quiet\\nIGNORE\",\"Crying\\nIGNORE\",\"Crying\\nFEED\",\"Quiet\\nIGNORE\",\"Crying\\nIGNORE\"],\"tooltip\":[\"\",\"\",\"\",\"\",\"\",\"\",\"\",\"\",\"\",\"\",\"\",\"\",\"\",\"\",\"\"],\"style\":[\"\",\"stroke:green\",\"stroke:green\",\"stroke:green\",\"stroke:red\",\"stroke:red\",\"stroke:green\",\"stroke:red\",\"stroke:red\",\"stroke:green\",\"stroke:green\",\"stroke:red\",\"stroke:red\",\"stroke:green\",\"stroke:red\"],\"link_style\":[\"\",\"\",\"\",\"\",\"\",\"\",\"\",\"\",\"\",\"\",\"\",\"\",\"\",\"\",\"\"],\"title\":\"Julia D3Tree\",\"options\":{\"init_expand\":5,\"text\":[\"\\nIGNORE\",\"Quiet\\nIGNORE\",\"Quiet\\nFEED\",\"Quiet\\nIGNORE\",\"Crying\\nIGNORE\",\"Crying\\nFEED\",\"Quiet\\nIGNORE\",\"Crying\\nIGNORE\",\"Crying\\nIGNORE\",\"Quiet\\nFEED\",\"Quiet\\nIGNORE\",\"Crying\\nIGNORE\",\"Crying\\nFEED\",\"Quiet\\nIGNORE\",\"Crying\\nIGNORE\"],\"style\":[\"\",\"stroke:green\",\"stroke:green\",\"stroke:green\",\"stroke:red\",\"stroke:red\",\"stroke:green\",\"stroke:red\",\"stroke:red\",\"stroke:green\",\"stroke:green\",\"stroke:red\",\"stroke:red\",\"stroke:green\",\"stroke:red\"]}};\n",
       "        var rootID = 1-1;\n",
       "        var div = \"treevis7xCierxk\";\n",
       "        var initExpand = 5\n",
       "        var initDuration = 750\n",
       "        var svgHeight = 600\n",
       "        if (typeof $ === 'undefined') {\n",
       "    loadScript(\"https://code.jquery.com/jquery-3.1.1.min.js\", run);\n",
       "} else {\n",
       "    run();\n",
       "}\n",
       "\n",
       "function run() {\n",
       "    if (typeof d3 === 'undefined') {\n",
       "        loadScript(\"https://d3js.org/d3.v3.js\", showTree);\n",
       "    } else {\n",
       "        showTree();\n",
       "    }\n",
       "}\n",
       "\n",
       "function loadScript(url, callback)\n",
       "{\n",
       "    console.log(\"starting script load...\")\n",
       "    // Adding the script tag to the head as suggested before\n",
       "    var head = document.getElementsByTagName('head')[0];\n",
       "    var script = document.createElement('script');\n",
       "    script.type = 'text/javascript';\n",
       "    script.src = url;\n",
       "\n",
       "    // Then bind the event to the callback function.\n",
       "    // There are several events for cross browser compatibility.\n",
       "    script.onreadystatechange = callback;\n",
       "    script.onload = callback;\n",
       "\n",
       "    // Fire the loading\n",
       "    head.appendChild(script);\n",
       "}\n",
       "\n",
       "function showTree() {\n",
       "        \n",
       "    // var margin = {top: 20, right: 120, bottom: 20, left: 120},\n",
       "    var margin = {top: 20, right: 120, bottom: 80, left: 120},\n",
       "        width = $(\"#\"+div).width() - margin.right - margin.left,\n",
       "        height = svgHeight - margin.top - margin.bottom;\n",
       "        // TODO make height a parameter of TreeVisualizer\n",
       "\n",
       "    var i = 0,\n",
       "        root;\n",
       "\n",
       "    var tree = d3.layout.tree()\n",
       "        .size([width, height]);\n",
       "\n",
       "    var diagonal = d3.svg.diagonal();\n",
       "        //.projection(function(d) { return [d.y, d.x]; });\n",
       "        // uncomment above to make the tree go horizontally\n",
       "\n",
       "    // see http://stackoverflow.com/questions/16265123/resize-svg-when-window-is-resized-in-d3-js\n",
       "    if (d3.select(\"#\"+div+\"_svg\").empty()) {\n",
       "        $(\".d3twarn\").remove();\n",
       "        d3.select(\"#\"+div).append(\"svg\")\n",
       "            .attr(\"id\", div+\"_svg\")\n",
       "            .attr(\"width\", width + margin.right + margin.left)\n",
       "            .attr(\"height\", height + margin.top + margin.bottom);\n",
       "    }\n",
       "\n",
       "    d3.select(\"#\"+div+\"_svg\").selectAll(\"*\").remove();\n",
       "\n",
       "    var svg = d3.select(\"#\"+div+\"_svg\")\n",
       "        .append(\"g\")\n",
       "            .attr(\"transform\", \"translate(\" + margin.left + \",\" + margin.top + \")\");\n",
       "\n",
       "    // console.log(\"tree data:\");\n",
       "    // console.log(treeData[rootID]);\n",
       "    root = createDisplayNode(rootID, initExpand);\n",
       "    root.x0 = width / 2;\n",
       "    root.y0 = 0;\n",
       "\n",
       "    update(root, initDuration);\n",
       "    console.log(\"tree should appear\");\n",
       "\n",
       "    function createDisplayNode(id, expandLevel) {\n",
       "      var dnode = {\"dataID\":id,\n",
       "                   \"children\": null,\n",
       "                   \"_children\":null};\n",
       "      if (expandLevel > 0) {\n",
       "        initializeChildren(dnode, expandLevel);\n",
       "      }\n",
       "      return dnode;\n",
       "    }\n",
       "\n",
       "    function initializeChildren(d, expandLevel) {\n",
       "      // create children\n",
       "      var children = treeData.children[d.dataID];\n",
       "      d.children = [];\n",
       "      if (children) {\n",
       "        for (var i = 0; i < children.length; i++) {\n",
       "          var cid = children[i]-1;\n",
       "          d.children.push(createDisplayNode(cid, expandLevel-1));\n",
       "        }\n",
       "      }\n",
       "    }\n",
       "\n",
       "    /**\n",
       "     * Recursively called to update each node in the tree.\n",
       "     * \n",
       "     * source is a d3 node that has position, etc.\n",
       "    */\n",
       "    function update(source, duration) {\n",
       "\n",
       "      width = $(\"#\"+div).width() - margin.right - margin.left,\n",
       "      height = $(\"#\"+div).height() - margin.top - margin.bottom;\n",
       "\n",
       "      tree.size([width,height]);\n",
       "      d3.select(\"#\"+div).attr(\"width\", width + margin.right + margin.left)\n",
       "            .attr(\"height\", height + margin.top + margin.bottom);\n",
       "      d3.select(\"#\"+div+\"_svg\").attr(\"width\", width + margin.right + margin.left)\n",
       "             .attr(\"height\", height + margin.top + margin.bottom);\n",
       "\n",
       "\n",
       "      // Compute the new tree layout.\n",
       "      var nodes = tree.nodes(root).reverse(),\n",
       "          links = tree.links(nodes);\n",
       "\n",
       "\n",
       "      // Update the nodes…\n",
       "      var node = svg.selectAll(\"g.node\")\n",
       "          .data(nodes, function(d) { return d.id || (d.id = ++i); });\n",
       "\n",
       "      // Enter any new nodes at the parent's previous position.\n",
       "      var nodeEnter = node.enter().append(\"g\")\n",
       "          .attr(\"class\", \"node\")\n",
       "          .attr(\"transform\", function(d) { return \"translate(\" + source.x0 + \",\" + source.y0 + \")\"; })\n",
       "          .on(\"click\", click)\n",
       "\n",
       "      nodeEnter.append(\"circle\")\n",
       "          .attr(\"r\", \"10px\")\n",
       "          .attr(\"style\", function(d) { return treeData.style[d.dataID]; } )\n",
       "\n",
       "      var tbox = nodeEnter.append(\"text\")\n",
       "          .attr(\"y\", 25)\n",
       "          .attr(\"text-anchor\", \"middle\")\n",
       "          //.text( function(d) { return treeData.text[d.dataID]; } )\n",
       "          .style(\"fill-opacity\", 1e-6);\n",
       "\n",
       "      tbox.each( function(d) {\n",
       "          var el = d3.select(this)\n",
       "          var text = treeData.text[d.dataID];\n",
       "          var lines = text.split('\\n');\n",
       "          for (var i = 0; i < lines.length; i++) {\n",
       "              var tspan = el.append(\"tspan\").text(lines[i]);\n",
       "              if (i > 0) {\n",
       "                  tspan.attr(\"x\", 0).attr(\"dy\", \"1.2em\");\n",
       "              }\n",
       "          }\n",
       "      });\n",
       "\n",
       "      //tooltip\n",
       "      nodeEnter.append(\"title\").text( function(d) { return treeData.tooltip[d.dataID];} );\n",
       "\n",
       "      // Transition nodes to their new position.\n",
       "      var nodeUpdate = node.transition()\n",
       "          .duration(duration)\n",
       "          .attr(\"transform\", function(d) { return \"translate(\" + d.x + \",\" + d.y + \")\"; });\n",
       "\n",
       "      nodeUpdate.select(\"text\")\n",
       "          .style(\"fill-opacity\", 1);\n",
       "\n",
       "      // Transition exiting nodes to the parent's new position.\n",
       "      var nodeExit = node.exit().transition()\n",
       "          .duration(duration)\n",
       "          .attr(\"transform\", function(d) { return \"translate(\" + source.x + \",\" + source.y + \")\"; })\n",
       "          .remove();\n",
       "\n",
       "      nodeExit.select(\"text\")\n",
       "          .style(\"fill-opacity\", 1e-6);\n",
       "\n",
       "      // Update the links…\n",
       "      var link = svg.selectAll(\"path.link\")\n",
       "          .data(links, function(d) { return d.target.id; });\n",
       "\n",
       "      // Enter any new links at the parent's previous position.\n",
       "      // XXX link width should be based on transition data, not node data\n",
       "      link.enter().insert(\"path\", \"g\")\n",
       "          .attr(\"class\", \"link\")\n",
       "          .attr(\"style\", function(d) {\n",
       "              var ls = treeData.link_style[d.target.dataID];\n",
       "              return ls;\n",
       "          } )\n",
       "          .attr(\"d\", function(d) {\n",
       "            var o = {x: source.x0, y: source.y0};\n",
       "            return diagonal({source: o, target: o});\n",
       "          });\n",
       "\n",
       "      // Transition links to their new position.\n",
       "      link.transition()\n",
       "          .duration(duration)\n",
       "          .attr(\"d\", diagonal);\n",
       "\n",
       "      // Transition exiting nodes to the parent's new position.\n",
       "      link.exit().transition()\n",
       "          .duration(duration)\n",
       "          .attr(\"d\", function(d) {\n",
       "            var o = {x: source.x, y: source.y};\n",
       "            return diagonal({source: o, target: o});\n",
       "          })\n",
       "          .remove();\n",
       "\n",
       "      // Stash the old positions for transition.\n",
       "      nodes.forEach(function(d) {\n",
       "        d.x0 = d.x;\n",
       "        d.y0 = d.y;\n",
       "      });\n",
       "    }\n",
       "\n",
       "    // Toggle children on click.\n",
       "    function click(d) {\n",
       "      if (d.children) {\n",
       "        d._children = d.children;\n",
       "        d.children = null;\n",
       "      } else if (d._children) {\n",
       "        d.children = d._children;\n",
       "        d._children = null;\n",
       "      } else {\n",
       "        initializeChildren(d, 1);\n",
       "      }\n",
       "      update(d, 750);\n",
       "    }\n",
       "\n",
       "}\n",
       "\n",
       "        })();\n",
       "    </script>\n",
       "    <p class=\"d3twarn\">\n",
       "    Attempting to display the tree. If the tree is large, this may take some time.\n",
       "    </p>\n",
       "    <p class=\"d3twarn\">\n",
       "    Note: D3Trees.jl requires an internet connection. If no tree appears, please check your connection. To help fix this, please see <a href=\"https://github.com/sisl/D3Trees.jl/issues/10\">this issue</a>. You may also diagnose errors with the javascript console (Ctrl-Shift-J in chrome).\n",
       "    </p>\n",
       "    </div>\n",
       "    </body>\n",
       "    </html>\n",
       "\n"
      ],
      "text/plain": [
       "\n",
       "IGNORE\n",
       "├──Quiet\n",
       "│  IGNORE\n",
       "│  ├──Quiet\n",
       "│  │  FEED\n",
       "│  │  ├──Quiet\n",
       "│  │  │  IGNORE (0 children)\n",
       "│  │  └──Crying\n",
       "│  │     IGNORE (0 children)\n",
       "│  └──Crying\n",
       "│     FEED\n",
       "│     ├──Quiet\n",
       "│     │  IGNORE (0 children)\n",
       "│     └──Crying\n",
       "│        IGNORE (0 children)\n",
       "└──Crying\n",
       "   IGNORE\n",
       "   ├──Quiet\n",
       "   │  FEED\n",
       "   │  ├──Quiet\n",
       "   │  │  IGNORE (0 children)\n",
       "   │  └──Crying\n",
       "   │     IGNORE (0 children)\n",
       "   └──Crying\n",
       "      FEED\n",
       "      ├──Quiet\n",
       "      │  IGNORE (0 children)\n",
       "      └──Crying\n",
       "         IGNORE (0 children)\n"
      ]
     },
     "execution_count": 10,
     "metadata": {},
     "output_type": "execute_result"
    }
   ],
   "source": [
    "number = Vector([1])\n",
    "children = Vector{Vector}()\n",
    "text = Vector{String}()\n",
    "\n",
    "tree = drawConditionalPlanTree(plan, number, children, text, true)\n",
    "tree"
   ]
  },
  {
   "cell_type": "markdown",
   "metadata": {},
   "source": [
    "###"
   ]
  }
 ],
 "metadata": {
  "interpreter": {
   "hash": "f401fd94363c27a2d8e817948f67ff110fa2f05c00a9444da26a42291763a44b"
  },
  "kernelspec": {
   "display_name": "Julia 1.7.0",
   "language": "julia",
   "name": "julia-1.7"
  },
  "language_info": {
   "file_extension": ".jl",
   "mimetype": "application/julia",
   "name": "julia",
   "version": "1.7.0"
  },
  "orig_nbformat": 4
 },
 "nbformat": 4,
 "nbformat_minor": 2
}
