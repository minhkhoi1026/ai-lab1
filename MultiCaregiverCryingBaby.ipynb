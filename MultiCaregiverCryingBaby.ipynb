{
 "cells": [
  {
   "cell_type": "markdown",
   "metadata": {},
   "source": [
    "### I/ Setup"
   ]
  },
  {
   "cell_type": "markdown",
   "metadata": {},
   "source": [
    "#### 1. Include"
   ]
  },
  {
   "cell_type": "code",
   "execution_count": 1,
   "metadata": {},
   "outputs": [],
   "source": [
    "include(\"POMGProblems.jl\")\n",
    "using .POMGProblems"
   ]
  },
  {
   "cell_type": "markdown",
   "metadata": {},
   "source": [
    "#### 2. State, Action, Observation, belief state"
   ]
  },
  {
   "cell_type": "code",
   "execution_count": 2,
   "metadata": {},
   "outputs": [
    {
     "data": {
      "text/plain": [
       "Dict{Bool, String} with 2 entries:\n",
       "  0 => \"QUIET\"\n",
       "  1 => \"CRYING\""
      ]
     },
     "execution_count": 2,
     "metadata": {},
     "output_type": "execute_result"
    }
   ],
   "source": [
    "# State\n",
    "SATED = 1\n",
    "HUNGRY = 2\n",
    "\n",
    "# Action\n",
    "FEED = 1\n",
    "IGNORE = 2\n",
    "SING = 3\n",
    "\n",
    "# Observation\n",
    "CRYING = true\n",
    "QUIET = false\n",
    "\n",
    "# Belief state\n",
    "b = [0.5, 0.5]\n",
    "\n",
    "state = Dict(SATED => \"SATED\", HUNGRY => \"HUNGRY\")\n",
    "action = Dict(FEED => \"FEED\", IGNORE => \"IGNORE\", SING => \"SING\")\n",
    "observation = Dict(CRYING => \"Crying\", QUIET => \"Quiet\")\n"
   ]
  },
  {
   "cell_type": "markdown",
   "metadata": {},
   "source": [
    "#### 2. Transition, Reward, Observation Function\n",
    "Code in crying_baby.jl\n",
    "$$ T(sated | hungry, feed) = 100\\% $$\n",
    "$$ T(hungry | hungry, sing) = 100\\% $$\n",
    "$$ T(hungry | hungry, ignore) = 100\\% $$\n",
    "$$ T(sated | sated, feed) = 100\\% $$\n",
    "$$ T(hungry | sated, sing) = 10\\% $$\n",
    "$$ T(hungry | sated, ignore) = 10\\% $$\n",
    "\n",
    "$$ R(hungry) \\rightarrow -10$$\n",
    "$$ R(feed) \\rightarrow -5$$\n",
    "$$ R(sing) \\rightarrow -0.5$$\n",
    "\n",
    "$$ O(cry | feed, hungry) = 80\\% $$\n",
    "$$ O(cry | sing, hungry) = 90\\% $$\n",
    "$$ O(cry | ignore, hungry) = 80\\%$$\n",
    "$$ O(cry | feed, sated) = 10\\%$$\n",
    "$$ O(cry | sing, sated) = 0\\% $$\n",
    "$$ O(cry | ignore, sated) = 10%$$\n",
    "\n"
   ]
  },
  {
   "cell_type": "markdown",
   "metadata": {},
   "source": [
    "### II/ Crying Baby"
   ]
  },
  {
   "cell_type": "markdown",
   "metadata": {},
   "source": [
    "#### 1. POMDP Structure "
   ]
  },
  {
   "cell_type": "code",
   "execution_count": null,
   "metadata": {},
   "outputs": [],
   "source": [
    "mCB = CryingBaby()\n",
    "decprobCB = POMDP(mCB)"
   ]
  },
  {
   "cell_type": "markdown",
   "metadata": {},
   "source": [
    "#### 2. Solution"
   ]
  },
  {
   "cell_type": "markdown",
   "metadata": {},
   "source": [
    "##### Conditional Plan"
   ]
  },
  {
   "cell_type": "code",
   "execution_count": null,
   "metadata": {},
   "outputs": [],
   "source": [
    "iteration = ValueIteration(6)\n",
    "alpha_vector = solve_conditional_plan_nonlinear(iteration, decprobCB)"
   ]
  },
  {
   "cell_type": "code",
   "execution_count": null,
   "metadata": {},
   "outputs": [],
   "source": [
    "print(alpha_vector.Γ)"
   ]
  },
  {
   "cell_type": "markdown",
   "metadata": {},
   "source": [
    "#### Controller Policy"
   ]
  },
  {
   "cell_type": "code",
   "execution_count": null,
   "metadata": {},
   "outputs": [],
   "source": [
    "nlp = NonlinearProgramming(b, 3)\n",
    "controllerPolicy = solve_controller_nonlinear(nlp, decprobCB)"
   ]
  },
  {
   "cell_type": "code",
   "execution_count": null,
   "metadata": {},
   "outputs": [],
   "source": [
    "print(controllerPolicy.ψ)"
   ]
  },
  {
   "cell_type": "markdown",
   "metadata": {},
   "source": [
    "### III/ Multi-Caregiver Crying Baby"
   ]
  },
  {
   "cell_type": "markdown",
   "metadata": {},
   "source": [
    "#### 1. POMG Structure"
   ]
  },
  {
   "cell_type": "code",
   "execution_count": null,
   "metadata": {},
   "outputs": [],
   "source": [
    "mMCB = MultiCaregiverCryingBaby()\n",
    "decprobMCB = POMG(mMCB)"
   ]
  },
  {
   "cell_type": "markdown",
   "metadata": {},
   "source": [
    "#### 2. Solution"
   ]
  },
  {
   "cell_type": "markdown",
   "metadata": {},
   "source": [
    "##### Nash Equilibrium"
   ]
  },
  {
   "cell_type": "code",
   "execution_count": null,
   "metadata": {},
   "outputs": [],
   "source": [
    "pomgNE = POMGNashEquilibrium(b, 3)\n",
    "nashPolicy = solve_pomg_nash(pomgNE, decprobMCB)"
   ]
  },
  {
   "cell_type": "code",
   "execution_count": null,
   "metadata": {},
   "outputs": [],
   "source": [
    "print(nashPolicy)"
   ]
  },
  {
   "cell_type": "markdown",
   "metadata": {},
   "source": [
    "##### Dynamic Programming"
   ]
  },
  {
   "cell_type": "code",
   "execution_count": null,
   "metadata": {},
   "outputs": [],
   "source": [
    "pomgDP = POMGDynamicProgramming(b, 1)\n",
    "DPPolicy = DynamicProgramming(pomgDP, decprobMCB) "
   ]
  },
  {
   "cell_type": "code",
   "execution_count": null,
   "metadata": {},
   "outputs": [],
   "source": [
    "print(DPPolicy)"
   ]
  },
  {
   "cell_type": "markdown",
   "metadata": {},
   "source": [
    "#### Visualize"
   ]
  },
  {
   "cell_type": "code",
   "execution_count": 2,
   "metadata": {},
   "outputs": [
    {
     "data": {
      "text/plain": [
       "ConditionalPlan(2, Dict{Bool, ConditionalPlan}(0 => ConditionalPlan(2, Dict{Bool, ConditionalPlan}(0 => ConditionalPlan(1, Dict{Bool, ConditionalPlan}(0 => ConditionalPlan(2, Dict{Any, Any}()), 1 => ConditionalPlan(2, Dict{Any, Any}()))), 1 => ConditionalPlan(1, Dict{Bool, ConditionalPlan}(0 => ConditionalPlan(2, Dict{Any, Any}()), 1 => ConditionalPlan(2, Dict{Any, Any}()))))), 1 => ConditionalPlan(2, Dict{Bool, ConditionalPlan}(0 => ConditionalPlan(1, Dict{Bool, ConditionalPlan}(0 => ConditionalPlan(2, Dict{Any, Any}()), 1 => ConditionalPlan(2, Dict{Any, Any}()))), 1 => ConditionalPlan(1, Dict{Bool, ConditionalPlan}(0 => ConditionalPlan(2, Dict{Any, Any}()), 1 => ConditionalPlan(2, Dict{Any, Any}())))))))"
      ]
     },
     "execution_count": 2,
     "metadata": {},
     "output_type": "execute_result"
    }
   ],
   "source": [
    "plan = ConditionalPlan(2, Dict{Bool, ConditionalPlan}(0 => ConditionalPlan(2, Dict{Bool, ConditionalPlan}(0 => ConditionalPlan(1, Dict{Bool, ConditionalPlan}(0 => ConditionalPlan(2, Dict{Any, Any}()), 1 => ConditionalPlan(2, Dict{Any, Any}()))), 1 => ConditionalPlan(1, Dict{Bool, ConditionalPlan}(0 => ConditionalPlan(2, Dict{Any, Any}()), 1 => ConditionalPlan(2, Dict{Any, Any}()))))), 1 => ConditionalPlan(2, Dict{Bool, ConditionalPlan}(0 => ConditionalPlan(1, Dict{Bool, ConditionalPlan}(0 => ConditionalPlan(2, Dict{Any, Any}()), 1 => ConditionalPlan(2, Dict{Any, Any}()))), 1 => ConditionalPlan(1, Dict{Bool, ConditionalPlan}(0 => ConditionalPlan(2, Dict{Any, Any}()), 1 => ConditionalPlan(2, Dict{Any, Any}())))))))"
   ]
  },
  {
   "cell_type": "code",
   "execution_count": 3,
   "metadata": {},
   "outputs": [
    {
     "data": {
      "text/html": [
       "    <!DOCTYPE html>\n",
       "    <html>\n",
       "    <head>\n",
       "        <meta charset=\"UTF-8\">\n",
       "        <title>Julia D3Tree</title>\n",
       "    </head>\n",
       "    <body>\n",
       "    <div id=\"treevis6WMI4aaN\">\n",
       "    <style>\n",
       "        \n",
       ".node {\n",
       "    cursor: pointer;\n",
       "}\n",
       "\n",
       ".node circle {\n",
       "\t  fill: #fff;\n",
       "\t  stroke: steelblue;\n",
       "\t  stroke-width: 3px;\n",
       "      r: 10;\n",
       "}\n",
       "\n",
       ".node rect {\n",
       "\t  fill: #fff;\n",
       "\t  stroke: steelblue;\n",
       "\t  stroke-width: 3px;\n",
       "      x: -10;\n",
       "      y: -10;\n",
       "      width: 20;\n",
       "      height: 20;\n",
       "}\n",
       "\n",
       ".node path {\n",
       "    fill: #ffffff;\n",
       "    /* stroke: steelblue; */\n",
       "    stroke-width: 2px;\n",
       "}\n",
       ".node text {\n",
       "    font-family: Arial, Helvetica, sans-serif;\n",
       "    font-style: normal;\n",
       "    font-size: 12px;\n",
       "}\n",
       ".link /* path */ {\n",
       "    fill: none;\n",
       "    stroke: #cccccc;\n",
       "    stroke-width: 2px;\n",
       "}\n",
       ".link text {\n",
       "    font-family: Arial, Helvetica, sans-serif;\n",
       "    font-style: normal;\n",
       "    font-size: 12px;\n",
       "}\n",
       ".hover text{\n",
       "    font-family: Arial, Helvetica, sans-serif;\n",
       "    font-style: normal;\n",
       "    font-size: 12px;\n",
       "}\n",
       "\n",
       "/*\n",
       ".svg-container {\n",
       "    display: inline-block;\n",
       "    position: relative;\n",
       "    width: 100%;\n",
       "    padding-bottom: 100%;\n",
       "    vertical-align: top;\n",
       "    overflow: hidden;\n",
       "}\n",
       ".svg-content-responsive {\n",
       "    display: inline-block;\n",
       "    position: absolute;\n",
       "    top: 10px;\n",
       "    left: 0;\n",
       "}\n",
       "*/\n",
       "\n",
       "    </style>\n",
       "    <script>\n",
       "       (function(){\n",
       "        var treeData = {\"children\":[[2,9],[3,6],[4,5],[],[],[7,8],[],[],[10,13],[11,12],[],[],[14,15],[],[]],\"text\":[\"\\nAction: IGNORE\",\"QUIET\\nAction: IGNORE\",\"QUIET\\nAction: FEED\",\"QUIET\\nAction: IGNORE\",\"CRYING\\nAction: IGNORE\",\"CRYING\\nAction: FEED\",\"QUIET\\nAction: IGNORE\",\"CRYING\\nAction: IGNORE\",\"CRYING\\nAction: IGNORE\",\"QUIET\\nAction: FEED\",\"QUIET\\nAction: IGNORE\",\"CRYING\\nAction: IGNORE\",\"CRYING\\nAction: FEED\",\"QUIET\\nAction: IGNORE\",\"CRYING\\nAction: IGNORE\"],\"tooltip\":[\"\",\"\",\"\",\"\",\"\",\"\",\"\",\"\",\"\",\"\",\"\",\"\",\"\",\"\",\"\"],\"style\":[\"\",\"\",\"\",\"\",\"\",\"\",\"\",\"\",\"\",\"\",\"\",\"\",\"\",\"\",\"\"],\"link_style\":[\"\",\"\",\"\",\"\",\"\",\"\",\"\",\"\",\"\",\"\",\"\",\"\",\"\",\"\",\"\"],\"title\":\"Julia D3Tree\",\"options\":{\"text\":[\"\\nAction: IGNORE\",\"QUIET\\nAction: IGNORE\",\"QUIET\\nAction: FEED\",\"QUIET\\nAction: IGNORE\",\"CRYING\\nAction: IGNORE\",\"CRYING\\nAction: FEED\",\"QUIET\\nAction: IGNORE\",\"CRYING\\nAction: IGNORE\",\"CRYING\\nAction: IGNORE\",\"QUIET\\nAction: FEED\",\"QUIET\\nAction: IGNORE\",\"CRYING\\nAction: IGNORE\",\"CRYING\\nAction: FEED\",\"QUIET\\nAction: IGNORE\",\"CRYING\\nAction: IGNORE\"],\"init_expand\":5}};\n",
       "        var rootID = 1-1;\n",
       "        var div = \"treevis6WMI4aaN\";\n",
       "        var initExpand = 5\n",
       "        var initDuration = 750\n",
       "        var svgHeight = 600\n",
       "        if (typeof $ === 'undefined') {\n",
       "    loadScript(\"https://code.jquery.com/jquery-3.1.1.min.js\", run);\n",
       "} else {\n",
       "    run();\n",
       "}\n",
       "\n",
       "function run() {\n",
       "    if (typeof d3 === 'undefined') {\n",
       "        loadScript(\"https://d3js.org/d3.v3.js\", showTree);\n",
       "    } else {\n",
       "        showTree();\n",
       "    }\n",
       "}\n",
       "\n",
       "function loadScript(url, callback)\n",
       "{\n",
       "    console.log(\"starting script load...\")\n",
       "    // Adding the script tag to the head as suggested before\n",
       "    var head = document.getElementsByTagName('head')[0];\n",
       "    var script = document.createElement('script');\n",
       "    script.type = 'text/javascript';\n",
       "    script.src = url;\n",
       "\n",
       "    // Then bind the event to the callback function.\n",
       "    // There are several events for cross browser compatibility.\n",
       "    script.onreadystatechange = callback;\n",
       "    script.onload = callback;\n",
       "\n",
       "    // Fire the loading\n",
       "    head.appendChild(script);\n",
       "}\n",
       "\n",
       "function showTree() {\n",
       "        \n",
       "    // var margin = {top: 20, right: 120, bottom: 20, left: 120},\n",
       "    var margin = {top: 20, right: 120, bottom: 80, left: 120},\n",
       "        width = $(\"#\"+div).width() - margin.right - margin.left,\n",
       "        height = svgHeight - margin.top - margin.bottom;\n",
       "        // TODO make height a parameter of TreeVisualizer\n",
       "\n",
       "    var i = 0,\n",
       "        root;\n",
       "\n",
       "    var tree = d3.layout.tree()\n",
       "        .size([width, height]);\n",
       "\n",
       "    var diagonal = d3.svg.diagonal();\n",
       "        //.projection(function(d) { return [d.y, d.x]; });\n",
       "        // uncomment above to make the tree go horizontally\n",
       "\n",
       "    // see http://stackoverflow.com/questions/16265123/resize-svg-when-window-is-resized-in-d3-js\n",
       "    if (d3.select(\"#\"+div+\"_svg\").empty()) {\n",
       "        $(\".d3twarn\").remove();\n",
       "        d3.select(\"#\"+div).append(\"svg\")\n",
       "            .attr(\"id\", div+\"_svg\")\n",
       "            .attr(\"width\", width + margin.right + margin.left)\n",
       "            .attr(\"height\", height + margin.top + margin.bottom);\n",
       "    }\n",
       "\n",
       "    d3.select(\"#\"+div+\"_svg\").selectAll(\"*\").remove();\n",
       "\n",
       "    var svg = d3.select(\"#\"+div+\"_svg\")\n",
       "        .append(\"g\")\n",
       "            .attr(\"transform\", \"translate(\" + margin.left + \",\" + margin.top + \")\");\n",
       "\n",
       "    // console.log(\"tree data:\");\n",
       "    // console.log(treeData[rootID]);\n",
       "    root = createDisplayNode(rootID, initExpand);\n",
       "    root.x0 = width / 2;\n",
       "    root.y0 = 0;\n",
       "\n",
       "    update(root, initDuration);\n",
       "    console.log(\"tree should appear\");\n",
       "\n",
       "    function createDisplayNode(id, expandLevel) {\n",
       "      var dnode = {\"dataID\":id,\n",
       "                   \"children\": null,\n",
       "                   \"_children\":null};\n",
       "      if (expandLevel > 0) {\n",
       "        initializeChildren(dnode, expandLevel);\n",
       "      }\n",
       "      return dnode;\n",
       "    }\n",
       "\n",
       "    function initializeChildren(d, expandLevel) {\n",
       "      // create children\n",
       "      var children = treeData.children[d.dataID];\n",
       "      d.children = [];\n",
       "      if (children) {\n",
       "        for (var i = 0; i < children.length; i++) {\n",
       "          var cid = children[i]-1;\n",
       "          d.children.push(createDisplayNode(cid, expandLevel-1));\n",
       "        }\n",
       "      }\n",
       "    }\n",
       "\n",
       "    /**\n",
       "     * Recursively called to update each node in the tree.\n",
       "     * \n",
       "     * source is a d3 node that has position, etc.\n",
       "    */\n",
       "    function update(source, duration) {\n",
       "\n",
       "      width = $(\"#\"+div).width() - margin.right - margin.left,\n",
       "      height = $(\"#\"+div).height() - margin.top - margin.bottom;\n",
       "\n",
       "      tree.size([width,height]);\n",
       "      d3.select(\"#\"+div).attr(\"width\", width + margin.right + margin.left)\n",
       "            .attr(\"height\", height + margin.top + margin.bottom);\n",
       "      d3.select(\"#\"+div+\"_svg\").attr(\"width\", width + margin.right + margin.left)\n",
       "             .attr(\"height\", height + margin.top + margin.bottom);\n",
       "\n",
       "\n",
       "      // Compute the new tree layout.\n",
       "      var nodes = tree.nodes(root).reverse(),\n",
       "          links = tree.links(nodes);\n",
       "\n",
       "\n",
       "      // Update the nodes…\n",
       "      var node = svg.selectAll(\"g.node\")\n",
       "          .data(nodes, function(d) { return d.id || (d.id = ++i); });\n",
       "\n",
       "      // Enter any new nodes at the parent's previous position.\n",
       "      var nodeEnter = node.enter().append(\"g\")\n",
       "          .attr(\"class\", \"node\")\n",
       "          .attr(\"transform\", function(d) { return \"translate(\" + source.x0 + \",\" + source.y0 + \")\"; })\n",
       "          .on(\"click\", click)\n",
       "\n",
       "      nodeEnter.append(\"circle\")\n",
       "          .attr(\"r\", \"10px\")\n",
       "          .attr(\"style\", function(d) { return treeData.style[d.dataID]; } )\n",
       "\n",
       "      var tbox = nodeEnter.append(\"text\")\n",
       "          .attr(\"y\", 25)\n",
       "          .attr(\"text-anchor\", \"middle\")\n",
       "          //.text( function(d) { return treeData.text[d.dataID]; } )\n",
       "          .style(\"fill-opacity\", 1e-6);\n",
       "\n",
       "      tbox.each( function(d) {\n",
       "          var el = d3.select(this)\n",
       "          var text = treeData.text[d.dataID];\n",
       "          var lines = text.split('\\n');\n",
       "          for (var i = 0; i < lines.length; i++) {\n",
       "              var tspan = el.append(\"tspan\").text(lines[i]);\n",
       "              if (i > 0) {\n",
       "                  tspan.attr(\"x\", 0).attr(\"dy\", \"1.2em\");\n",
       "              }\n",
       "          }\n",
       "      });\n",
       "\n",
       "      //tooltip\n",
       "      nodeEnter.append(\"title\").text( function(d) { return treeData.tooltip[d.dataID];} );\n",
       "\n",
       "      // Transition nodes to their new position.\n",
       "      var nodeUpdate = node.transition()\n",
       "          .duration(duration)\n",
       "          .attr(\"transform\", function(d) { return \"translate(\" + d.x + \",\" + d.y + \")\"; });\n",
       "\n",
       "      nodeUpdate.select(\"text\")\n",
       "          .style(\"fill-opacity\", 1);\n",
       "\n",
       "      // Transition exiting nodes to the parent's new position.\n",
       "      var nodeExit = node.exit().transition()\n",
       "          .duration(duration)\n",
       "          .attr(\"transform\", function(d) { return \"translate(\" + source.x + \",\" + source.y + \")\"; })\n",
       "          .remove();\n",
       "\n",
       "      nodeExit.select(\"text\")\n",
       "          .style(\"fill-opacity\", 1e-6);\n",
       "\n",
       "      // Update the links…\n",
       "      var link = svg.selectAll(\"path.link\")\n",
       "          .data(links, function(d) { return d.target.id; });\n",
       "\n",
       "      // Enter any new links at the parent's previous position.\n",
       "      // XXX link width should be based on transition data, not node data\n",
       "      link.enter().insert(\"path\", \"g\")\n",
       "          .attr(\"class\", \"link\")\n",
       "          .attr(\"style\", function(d) {\n",
       "              var ls = treeData.link_style[d.target.dataID];\n",
       "              return ls;\n",
       "          } )\n",
       "          .attr(\"d\", function(d) {\n",
       "            var o = {x: source.x0, y: source.y0};\n",
       "            return diagonal({source: o, target: o});\n",
       "          });\n",
       "\n",
       "      // Transition links to their new position.\n",
       "      link.transition()\n",
       "          .duration(duration)\n",
       "          .attr(\"d\", diagonal);\n",
       "\n",
       "      // Transition exiting nodes to the parent's new position.\n",
       "      link.exit().transition()\n",
       "          .duration(duration)\n",
       "          .attr(\"d\", function(d) {\n",
       "            var o = {x: source.x, y: source.y};\n",
       "            return diagonal({source: o, target: o});\n",
       "          })\n",
       "          .remove();\n",
       "\n",
       "      // Stash the old positions for transition.\n",
       "      nodes.forEach(function(d) {\n",
       "        d.x0 = d.x;\n",
       "        d.y0 = d.y;\n",
       "      });\n",
       "    }\n",
       "\n",
       "    // Toggle children on click.\n",
       "    function click(d) {\n",
       "      if (d.children) {\n",
       "        d._children = d.children;\n",
       "        d.children = null;\n",
       "      } else if (d._children) {\n",
       "        d.children = d._children;\n",
       "        d._children = null;\n",
       "      } else {\n",
       "        initializeChildren(d, 1);\n",
       "      }\n",
       "      update(d, 750);\n",
       "    }\n",
       "\n",
       "}\n",
       "\n",
       "        })();\n",
       "    </script>\n",
       "    <p class=\"d3twarn\">\n",
       "    Attempting to display the tree. If the tree is large, this may take some time.\n",
       "    </p>\n",
       "    <p class=\"d3twarn\">\n",
       "    Note: D3Trees.jl requires an internet connection. If no tree appears, please check your connection. To help fix this, please see <a href=\"https://github.com/sisl/D3Trees.jl/issues/10\">this issue</a>. You may also diagnose errors with the javascript console (Ctrl-Shift-J in chrome).\n",
       "    </p>\n",
       "    </div>\n",
       "    </body>\n",
       "    </html>\n",
       "\n"
      ],
      "text/plain": [
       "\n",
       "Action: IGNORE\n",
       "├──QUIET\n",
       "│  Action: IGNORE\n",
       "│  ├──QUIET\n",
       "│  │  Action: FEED\n",
       "│  │  ├──QUIET\n",
       "│  │  │  Action: IGNORE (0 children)\n",
       "│  │  └──CRYING\n",
       "│  │     Action: IGNORE (0 children)\n",
       "│  └──CRYING\n",
       "│     Action: FEED\n",
       "│     ├──QUIET\n",
       "│     │  Action: IGNORE (0 children)\n",
       "│     └──CRYING\n",
       "│        Action: IGNORE (0 children)\n",
       "└──CRYING\n",
       "   Action: IGNORE\n",
       "   ├──QUIET\n",
       "   │  Action: FEED\n",
       "   │  ├──QUIET\n",
       "   │  │  Action: IGNORE (0 children)\n",
       "   │  └──CRYING\n",
       "   │     Action: IGNORE (0 children)\n",
       "   └──CRYING\n",
       "      Action: FEED\n",
       "      ├──QUIET\n",
       "      │  Action: IGNORE (0 children)\n",
       "      └──CRYING\n",
       "         Action: IGNORE (0 children)\n"
      ]
     },
     "execution_count": 3,
     "metadata": {},
     "output_type": "execute_result"
    }
   ],
   "source": [
    "number = Vector([1])\n",
    "children = Vector{Vector}()\n",
    "text = Vector{String}()\n",
    "\n",
    "tree = drawConditionalPlanTree(plan, number, children, text, true)\n",
    "tree"
   ]
  },
  {
   "cell_type": "markdown",
   "metadata": {},
   "source": [
    "###"
   ]
  }
 ],
 "metadata": {
  "interpreter": {
   "hash": "f401fd94363c27a2d8e817948f67ff110fa2f05c00a9444da26a42291763a44b"
  },
  "kernelspec": {
   "display_name": "Julia 1.7.0",
   "language": "julia",
   "name": "julia-1.7"
  },
  "language_info": {
   "file_extension": ".jl",
   "mimetype": "application/julia",
   "name": "julia",
   "version": "1.7.0"
  },
  "orig_nbformat": 4
 },
 "nbformat": 4,
 "nbformat_minor": 2
}
