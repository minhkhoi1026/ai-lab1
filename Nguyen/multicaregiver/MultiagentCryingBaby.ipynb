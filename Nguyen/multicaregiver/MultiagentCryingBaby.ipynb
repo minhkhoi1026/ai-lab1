{
 "cells": [
  {
   "cell_type": "markdown",
   "metadata": {},
   "source": [
    "## Preparation"
   ]
  },
  {
   "cell_type": "code",
   "execution_count": 19,
   "metadata": {},
   "outputs": [],
   "source": [
    "include(\"multicaregiver.jl\")\n",
    "using JuMP"
   ]
  },
  {
   "cell_type": "markdown",
   "metadata": {},
   "source": [
    "## II/ Solution"
   ]
  },
  {
   "cell_type": "code",
   "execution_count": 20,
   "metadata": {},
   "outputs": [],
   "source": [
    "struct ValueIteration\n",
    "    k_max # maximum number of iterations\n",
    "end"
   ]
  },
  {
   "cell_type": "markdown",
   "metadata": {},
   "source": [
    "### 1. Conditional Plan"
   ]
  },
  {
   "cell_type": "markdown",
   "metadata": {},
   "source": [
    "#### 1.1 Struct"
   ]
  },
  {
   "cell_type": "code",
   "execution_count": 21,
   "metadata": {},
   "outputs": [],
   "source": [
    "struct ConditionalPlan\n",
    "    a # action to take at rootsubplan\n",
    "    s # dictionary mapping observations to subplans\n",
    "end\n",
    "\n",
    "ConditionalPlan(a) = ConditionalPlan(a, Dict())\n",
    "\n",
    "(π::ConditionalPlan)() = π.a\n",
    "(π::ConditionalPlan)(o) = π.subplans[o]"
   ]
  },
  {
   "cell_type": "markdown",
   "metadata": {},
   "source": [
    "#### 1.2 Utility"
   ]
  },
  {
   "cell_type": "code",
   "execution_count": 22,
   "metadata": {},
   "outputs": [
    {
     "data": {
      "text/plain": [
       "utility (generic function with 4 methods)"
      ]
     },
     "metadata": {},
     "output_type": "display_data"
    }
   ],
   "source": [
    "function lookahead(𝒫::CryingBaby, U, s, a)\n",
    "    𝒮, 𝒪, T, O, R, γ = 𝒫.𝒮, joint(𝒫.𝒪), 𝒫.T, 𝒫.O, 𝒫.R, 𝒫.γ\n",
    "    u′ = sum(T(s, a, s′)*sum(O(a, s′, o)*U(o, s′) for o in 𝒪) for s′ in 𝒮)\n",
    "    return R(s, a) + γ*u′\n",
    "end\n",
    "\n",
    "function evaluate_plan(𝒫::CryingBaby, π, s)\n",
    "    a = Tuple(πi() for πi in π)\n",
    "    U(o, s′) = evaluate_plan(𝒫, [πi(oi) for (πi,oi) in zip(π, o)], s′)\n",
    "    return isempty(first(π).subplans) ? 𝒫.R(s, a) : lookahead(𝒫, U, s, a)\n",
    "end\n",
    "\n",
    "function utility(𝒫::CryingBaby, b, π)\n",
    "    u = [evaluate_plan(𝒫, π, s) for s in 𝒫.𝒮]\n",
    "    return sum(bs*us for (bs,us) in zip(b, u))\n",
    "end"
   ]
  },
  {
   "cell_type": "markdown",
   "metadata": {},
   "source": [
    "#### 1.3 Alpha vector"
   ]
  },
  {
   "cell_type": "code",
   "execution_count": 23,
   "metadata": {},
   "outputs": [],
   "source": [
    "function alphavector(𝒫::CryingBaby, π::ConditionalPlan)\n",
    "    return[evaluate_plan(𝒫, π, s) for s in 𝒫.𝒮]\n",
    "end\n",
    "\n",
    "struct AlphaVectorPolicy\n",
    "    𝒫 # POMDP problem\n",
    "    Γ # alpha vectors\n",
    "    a # actions associated with alpha vectors\n",
    "end\n",
    "\n",
    "function utility(π::AlphaVectorPolicy, b)\n",
    "    return maximum(α⋅b for α in π.Γ)\n",
    "end\n",
    "\n",
    "function(π::AlphaVectorPolicy)(b)\n",
    "    i = argmax([α⋅b for α in π.Γ])\n",
    "    return π.a[i]\n",
    "end"
   ]
  },
  {
   "cell_type": "markdown",
   "metadata": {},
   "source": [
    "#### 1.4 Pruning"
   ]
  },
  {
   "cell_type": "code",
   "execution_count": 24,
   "metadata": {},
   "outputs": [],
   "source": [
    "function lookahead(𝒫::CryingBaby, U, b::Vector, a)\n",
    "    𝒮, 𝒪, T, O, R, γ = 𝒫.𝒮, 𝒫.𝒪, 𝒫.T, 𝒫.O, 𝒫.R, 𝒫.γ\n",
    "    r = sum(R(s, a)*b[i] for (i, s) in enumerate(𝒮))\n",
    "    Posa(o, s, a) = sum(O(a, s′, o)*T(s, a, s′) for s′ in 𝒮) \n",
    "    Poba(o, b, a) = sum(b[i]*Posa(o, s, a) for (i, s) in enumerate(𝒮))\n",
    "    return r + γ*sum(Poba(o, b, a)*U(update(b, 𝒫, a, o)) for o in 𝒪)\n",
    "end\n",
    "\n",
    "function greedy(𝒫::CryingBaby, U, b::Vector)\n",
    "    u, a = findmax(a->lookahead(𝒫, U, b, a), 𝒫.𝒜)\n",
    "    return (a = a, u = u)\n",
    "end\n",
    "\n",
    "struct LookaheadAlphaVectorPolicy\n",
    "    𝒫 # POMDP problem\n",
    "    Γ # alpha vectors\n",
    "end\n",
    "\n",
    "function utility(π::LookaheadAlphaVectorPolicy, b)\n",
    "    return maximum(α⋅b for α in π.Γ)\n",
    "end \n",
    "\n",
    "function greedy(π, b)\n",
    "    U(b) = utility(π, b)\n",
    "    return greedy(π.𝒫, U, b)\n",
    "end\n",
    "\n",
    "(π::LookaheadAlphaVectorPolicy)(b) = greedy(π, b).a"
   ]
  },
  {
   "cell_type": "code",
   "execution_count": 25,
   "metadata": {},
   "outputs": [
    {
     "data": {
      "text/plain": [
       "find_maximal_belief (generic function with 1 method)"
      ]
     },
     "metadata": {},
     "output_type": "display_data"
    }
   ],
   "source": [
    "function find_maximal_belief(α, Γ)\n",
    "    m = length(α)\n",
    "    if isempty(Γ)\n",
    "        return fill(1/m, m) # arbitrary belief\n",
    "    end\n",
    "    model = Model(GLPK.Optimizer)\n",
    "    @variable(model, δ)\n",
    "    @variable(model, b[i=1:m] ≥ 0)\n",
    "    @constraint(model, sum(b)==1.0)\n",
    "    for a in Γ\n",
    "        @constraint(model, (α-a)⋅b ≥ δ)\n",
    "    end\n",
    "    @objective(model, Max, δ)\n",
    "    optimize!(model)\n",
    "    return value(δ) > 0 ? value.(b) : nothing\n",
    "end"
   ]
  },
  {
   "cell_type": "code",
   "execution_count": 26,
   "metadata": {},
   "outputs": [
    {
     "data": {
      "text/plain": [
       "prune (generic function with 1 method)"
      ]
     },
     "metadata": {},
     "output_type": "display_data"
    }
   ],
   "source": [
    "function find_dominating(Γ)\n",
    "    n = length(Γ)\n",
    "    candidates, dominating = trues(n), falses(n)\n",
    "    while any(candidates)\n",
    "        i = findfirst(candidates)\n",
    "        b = find_maximal_belief(Γ[i],Γ[dominating])\n",
    "        if b === nothing \n",
    "            candidates[i] = false\n",
    "        else\n",
    "            k = argmax([candidates[j] ? b⋅Γ[j] : -Inf for j in 1:n])\n",
    "            candidates[k], dominating[k] = false, true \n",
    "        end\n",
    "    end\n",
    "    return dominating\n",
    "end\n",
    "\n",
    "function prune(plans, Γ)\n",
    "    d = find_dominating(Γ)\n",
    "    return (plans[d],Γ[d])\n",
    "end"
   ]
  },
  {
   "cell_type": "markdown",
   "metadata": {},
   "source": [
    "#### 1.5 Value Iteration"
   ]
  },
  {
   "cell_type": "code",
   "execution_count": 27,
   "metadata": {},
   "outputs": [
    {
     "data": {
      "text/plain": [
       "solve (generic function with 2 methods)"
      ]
     },
     "metadata": {},
     "output_type": "display_data"
    }
   ],
   "source": [
    "function value_iteration(𝒫::CryingBaby, k_max)\n",
    "    𝒮, 𝒜, R = 𝒫.𝒮, 𝒫.𝒜, 𝒫.R\n",
    "    plans = [ConditionalPlan(a) for a in 𝒜]\n",
    "    Γ = [[R(s, a) for s in 𝒮] for a in 𝒜]\n",
    "    plans, Γ = prune(plans, Γ) \n",
    "    for k in 2:k_max\n",
    "        plans, Γ = expand(plans, Γ, 𝒫)\n",
    "        plans, Γ = prune(plans, Γ)\n",
    "    end\n",
    "    return (plans, Γ)\n",
    "end\n",
    "\n",
    "function solve(M::ValueIteration, 𝒫::CryingBaby)\n",
    "    plans, Γ = value_iteration(𝒫, M.k_max)\n",
    "    return LookaheadAlphaVectorPolicy(𝒫, Γ)\n",
    "end"
   ]
  },
  {
   "cell_type": "code",
   "execution_count": 32,
   "metadata": {},
   "outputs": [
    {
     "ename": "ErrorException",
     "evalue": "type CryingBaby has no field 𝒮",
     "output_type": "error",
     "traceback": [
      "type CryingBaby has no field 𝒮\n",
      "\n",
      "Stacktrace:\n",
      "  [1] getproperty\n",
      "    @ .\\Base.jl:42 [inlined]\n",
      "  [2] value_iteration(𝒫::CryingBaby, k_max::Int64)\n",
      "    @ Main n:\\Lucky\\CNTN\\Năm 3\\AI\\Đồ án 1\\multicaregiver\\MultiagentCryingBaby.ipynb:2\n",
      "  [3] solve(M::ValueIteration, 𝒫::CryingBaby)\n",
      "    @ Main n:\\Lucky\\CNTN\\Năm 3\\AI\\Đồ án 1\\multicaregiver\\MultiagentCryingBaby.ipynb:14\n",
      "  [4] top-level scope\n",
      "    @ n:\\Lucky\\CNTN\\Năm 3\\AI\\Đồ án 1\\multicaregiver\\MultiagentCryingBaby.ipynb:4\n",
      "  [5] eval\n",
      "    @ .\\boot.jl:373 [inlined]\n",
      "  [6] include_string(mapexpr::typeof(REPL.softscope), mod::Module, code::String, filename::String)\n",
      "    @ Base .\\loading.jl:1196\n",
      "  [7] #invokelatest#2\n",
      "    @ .\\essentials.jl:716 [inlined]\n",
      "  [8] invokelatest\n",
      "    @ .\\essentials.jl:714 [inlined]\n",
      "  [9] (::VSCodeServer.var\"#150#151\"{VSCodeServer.NotebookRunCellArguments, String})()\n",
      "    @ VSCodeServer c:\\Users\\COMPUTER\\.vscode\\extensions\\julialang.language-julia-1.5.8\\scripts\\packages\\VSCodeServer\\src\\serve_notebook.jl:18\n",
      " [10] withpath(f::VSCodeServer.var\"#150#151\"{VSCodeServer.NotebookRunCellArguments, String}, path::String)\n",
      "    @ VSCodeServer c:\\Users\\COMPUTER\\.vscode\\extensions\\julialang.language-julia-1.5.8\\scripts\\packages\\VSCodeServer\\src\\repl.jl:185\n",
      " [11] notebook_runcell_request(conn::VSCodeServer.JSONRPC.JSONRPCEndpoint{Base.PipeEndpoint, Base.PipeEndpoint}, params::VSCodeServer.NotebookRunCellArguments)\n",
      "    @ VSCodeServer c:\\Users\\COMPUTER\\.vscode\\extensions\\julialang.language-julia-1.5.8\\scripts\\packages\\VSCodeServer\\src\\serve_notebook.jl:14\n",
      " [12] dispatch_msg(x::VSCodeServer.JSONRPC.JSONRPCEndpoint{Base.PipeEndpoint, Base.PipeEndpoint}, dispatcher::VSCodeServer.JSONRPC.MsgDispatcher, msg::Dict{String, Any})\n",
      "    @ VSCodeServer.JSONRPC c:\\Users\\COMPUTER\\.vscode\\extensions\\julialang.language-julia-1.5.8\\scripts\\packages\\JSONRPC\\src\\typed.jl:67\n",
      " [13] serve_notebook(pipename::String; crashreporting_pipename::String)\n",
      "    @ VSCodeServer c:\\Users\\COMPUTER\\.vscode\\extensions\\julialang.language-julia-1.5.8\\scripts\\packages\\VSCodeServer\\src\\serve_notebook.jl:94\n",
      " [14] top-level scope\n",
      "    @ c:\\Users\\COMPUTER\\.vscode\\extensions\\julialang.language-julia-1.5.8\\scripts\\notebook\\notebook.jl:12\n",
      " [15] include(mod::Module, _path::String)\n",
      "    @ Base .\\Base.jl:418\n",
      " [16] exec_options(opts::Base.JLOptions)\n",
      "    @ Base .\\client.jl:292\n",
      " [17] _start()\n",
      "    @ Base .\\client.jl:495"
     ]
    }
   ],
   "source": [
    "valueIteration = ValueIteration(10)\n",
    "Baby = CryingBaby()\n",
    "\n",
    "solve(valueIteration, Baby)"
   ]
  },
  {
   "cell_type": "code",
   "execution_count": null,
   "metadata": {},
   "outputs": [],
   "source": []
  }
 ],
 "metadata": {
  "kernelspec": {
   "display_name": "Julia 1.7.0",
   "language": "julia",
   "name": "julia-1.7"
  },
  "language_info": {
   "file_extension": ".jl",
   "mimetype": "application/julia",
   "name": "julia",
   "version": "1.7.0"
  },
  "orig_nbformat": 4
 },
 "nbformat": 4,
 "nbformat_minor": 2
}
