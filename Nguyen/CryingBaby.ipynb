{
 "cells": [
  {
   "cell_type": "markdown",
   "metadata": {},
   "source": [
    "## I/ Set up"
   ]
  },
  {
   "cell_type": "markdown",
   "metadata": {},
   "source": [
    "### 1. Package"
   ]
  },
  {
   "cell_type": "code",
   "execution_count": 1,
   "metadata": {},
   "outputs": [],
   "source": [
    "include(\"DecisionMakingProblems.jl\")\n",
    "using .DecisionMakingProblems"
   ]
  },
  {
   "cell_type": "markdown",
   "metadata": {},
   "source": [
    "### 2. State, Action, Observation, Initial State"
   ]
  },
  {
   "cell_type": "code",
   "execution_count": 2,
   "metadata": {},
   "outputs": [
    {
     "data": {
      "text/plain": [
       "false"
      ]
     },
     "metadata": {},
     "output_type": "display_data"
    }
   ],
   "source": [
    "SATED = 1\n",
    "HUNGRY = 2\n",
    "FEED = 1\n",
    "IGNORE = 2\n",
    "SING = 3\n",
    "CRYING = true\n",
    "QUIET = false"
   ]
  },
  {
   "cell_type": "code",
   "execution_count": 3,
   "metadata": {},
   "outputs": [
    {
     "data": {
      "text/plain": [
       "\"struct Deterministic{T}\\n    val::T\\nend\\n\\nrand(rng::AbstractRNG, d::Deterministic) = d.val\\nrand(d::Deterministic) = d.val\\nsupport(d::Deterministic) = (d.val,)\\nsampletype(::Type{Deterministic{T}}) where T = T\\nRandom.gentype(::Type{Deterministic{T}}) where T = T\\npdf(d::Deterministic, x) = convert(Float64, x == d.val)\\nmode(d::Deterministic) = d.val\\nmean(d::Deterministic{N}) where N<:Number = d.val / 1 # / 1 is to make this return a similar type to Statistics.mean\\nmean(d::Deterministic) = d.val # so that division need not be implemented for the value type\\n\""
      ]
     },
     "metadata": {},
     "output_type": "display_data"
    }
   ],
   "source": [
    "\"\"\"\n",
    "struct Deterministic{T}\n",
    "    val::T\n",
    "end\n",
    "\n",
    "rand(rng::AbstractRNG, d::Deterministic) = d.val\n",
    "rand(d::Deterministic) = d.val\n",
    "support(d::Deterministic) = (d.val,)\n",
    "sampletype(::Type{Deterministic{T}}) where T = T\n",
    "Random.gentype(::Type{Deterministic{T}}) where T = T\n",
    "pdf(d::Deterministic, x) = convert(Float64, x == d.val)\n",
    "mode(d::Deterministic) = d.val\n",
    "mean(d::Deterministic{N}) where N<:Number = d.val / 1 # / 1 is to make this return a similar type to Statistics.mean\n",
    "mean(d::Deterministic) = d.val # so that division need not be implemented for the value type\n",
    "\"\"\""
   ]
  },
  {
   "cell_type": "code",
   "execution_count": 4,
   "metadata": {},
   "outputs": [],
   "source": [
    "𝒮 = [SATED, HUNGRY]\n",
    "𝒜 = [FEED, IGNORE, SING]\n",
    "𝒪 = [CRYING, QUIET]\n",
    "# initialstate_distr = Deterministic(SATED);"
   ]
  },
  {
   "cell_type": "markdown",
   "metadata": {},
   "source": [
    "### 3. Transition Function\n",
    "Code in crying_baby.jl\n",
    "$$ T(sated | hungry, feed) = 100\\% $$\n",
    "$$ T(hungry | hungry, sing) = 100\\% $$\n",
    "$$ T(hungry | hungry, ignore) = 100\\% $$\n",
    "$$ T(sated | sated, feed) = 100\\% $$\n",
    "$$ T(hungry | sated, sing) = 10\\% $$\n",
    "$$ T(hungry | sated, ignore) = 10\\% $$"
   ]
  },
  {
   "cell_type": "markdown",
   "metadata": {},
   "source": [
    "#### Observation Function\n",
    "Code in crying_baby.jl\n",
    "$$ O(cry | feed, hungry) = 80\\% $$\n",
    "$$ O(cry | sing, hungry) = 90\\% $$\n",
    "$$ O(cry | ignore, hungry) = 80\\%$$\n",
    "$$ O(cry | feed, sated) = 10\\%$$\n",
    "$$ O(cry | sing, sated) = 0\\% $$\n",
    "$$ O(cry | ignore, sated) = 10%$$"
   ]
  },
  {
   "cell_type": "markdown",
   "metadata": {},
   "source": [
    "### 4. Reward Function\n",
    "Code in crying_baby.jl\n",
    "$$ hungry \\rightarrow -10$$\n",
    "$$ feed \\rightarrow -5$$\n",
    "$$ sing \\rightarrow -0.5$$"
   ]
  },
  {
   "cell_type": "markdown",
   "metadata": {},
   "source": [
    "### 5. Discount factor\n",
    "$$γ = 0.9$$"
   ]
  },
  {
   "cell_type": "markdown",
   "metadata": {},
   "source": [
    "### 6. POMDP Structure using QuickPOMDPs"
   ]
  },
  {
   "cell_type": "code",
   "execution_count": 5,
   "metadata": {},
   "outputs": [
    {
     "name": "stdout",
     "output_type": "stream",
     "text": [
      "DiscretePOMDP([1.0 0.9 0.9; 1.0 0.0 0.0;;; 0.0 0.1 0.1; 0.0 1.0 1.0], [-5.0 0.0 -0.5; -15.0 -10.0 -10.5], [0.1 0.8; 0.1 0.8; 0.0 0.9;;; 0.9 0.19999999999999996; 0.9 0.19999999999999996; 1.0 0.09999999999999998], 0.9)"
     ]
    },
    {
     "data": {
      "text/plain": [
       "POMDP(0.9, [1, 2], [1, 2, 3], [1, 2], Main.DecisionMakingProblems.var\"#6#10\"{DiscretePOMDP}(DiscretePOMDP([1.0 0.9 0.9; 1.0 0.0 0.0;;; 0.0 0.1 0.1; 0.0 1.0 1.0], [-5.0 0.0 -0.5; -15.0 -10.0 -10.5], [0.1 0.8; 0.1 0.8; 0.0 0.9;;; 0.9 0.19999999999999996; 0.9 0.19999999999999996; 1.0 0.09999999999999998], 0.9)), Main.DecisionMakingProblems.var\"#7#11\"{DiscretePOMDP}(DiscretePOMDP([1.0 0.9 0.9; 1.0 0.0 0.0;;; 0.0 0.1 0.1; 0.0 1.0 1.0], [-5.0 0.0 -0.5; -15.0 -10.0 -10.5], [0.1 0.8; 0.1 0.8; 0.0 0.9;;; 0.9 0.19999999999999996; 0.9 0.19999999999999996; 1.0 0.09999999999999998], 0.9)), Main.DecisionMakingProblems.var\"#8#12\"{DiscretePOMDP}(DiscretePOMDP([1.0 0.9 0.9; 1.0 0.0 0.0;;; 0.0 0.1 0.1; 0.0 1.0 1.0], [-5.0 0.0 -0.5; -15.0 -10.0 -10.5], [0.1 0.8; 0.1 0.8; 0.0 0.9;;; 0.9 0.19999999999999996; 0.9 0.19999999999999996; 1.0 0.09999999999999998], 0.9)), Main.DecisionMakingProblems.var\"#9#13\"{DiscretePOMDP}(DiscretePOMDP([1.0 0.9 0.9; 1.0 0.0 0.0;;; 0.0 0.1 0.1; 0.0 1.0 1.0], [-5.0 0.0 -0.5; -15.0 -10.0 -10.5], [0.1 0.8; 0.1 0.8; 0.0 0.9;;; 0.9 0.19999999999999996; 0.9 0.19999999999999996; 1.0 0.09999999999999998], 0.9)))"
      ]
     },
     "metadata": {},
     "output_type": "display_data"
    }
   ],
   "source": [
    "m = CryingBaby()\n",
    "decprob = POMDP(m)"
   ]
  },
  {
   "cell_type": "markdown",
   "metadata": {},
   "source": [
    "### 7. Policy"
   ]
  },
  {
   "cell_type": "markdown",
   "metadata": {},
   "source": [
    "### 8. Belief"
   ]
  },
  {
   "cell_type": "code",
   "execution_count": 6,
   "metadata": {},
   "outputs": [
    {
     "data": {
      "text/plain": [
       "2-element Vector{Float64}:\n",
       " 0.5\n",
       " 0.5"
      ]
     },
     "metadata": {},
     "output_type": "display_data"
    }
   ],
   "source": [
    "const Belief = Vector{Float64};\n",
    "b = Belief([0.5, 0.5])"
   ]
  },
  {
   "cell_type": "code",
   "execution_count": 7,
   "metadata": {},
   "outputs": [
    {
     "ename": "MethodError",
     "evalue": "MethodError: no method matching pdf(::Distributions.Categorical{Float64, Vector{Float64}}, ::Bool)\nClosest candidates are:\n  pdf(!Matched::BoolDistribution, ::Bool) at n:\\Lucky\\CNTN\\Năm 3\\AI\\Đồ án 1\\CryingBaby\\crying_baby.jl:9",
     "output_type": "error",
     "traceback": [
      "MethodError: no method matching pdf(::Distributions.Categorical{Float64, Vector{Float64}}, ::Bool)\n",
      "Closest candidates are:\n",
      "  pdf(!Matched::BoolDistribution, ::Bool) at n:\\Lucky\\CNTN\\Năm 3\\AI\\Đồ án 1\\CryingBaby\\crying_baby.jl:9\n",
      "\n",
      "Stacktrace:\n",
      "  [1] (::Main.DecisionMakingProblems.var\"#8#12\"{DiscretePOMDP})(a::Int64, s′::Int64, o::Bool)\n",
      "    @ Main.DecisionMakingProblems n:\\Lucky\\CNTN\\Năm 3\\AI\\Đồ án 1\\CryingBaby\\discrete_pomdp.jl:45\n",
      "  [2] update(b::Vector{Float64}, 𝒫::POMDP, a::Int64, o::Bool)\n",
      "    @ Main.DecisionMakingProblems n:\\Lucky\\CNTN\\Năm 3\\AI\\Đồ án 1\\helper\\belief.jl:7\n",
      "  [3] top-level scope\n",
      "    @ n:\\Lucky\\CNTN\\Năm 3\\AI\\Đồ án 1\\CryingBaby.ipynb:3\n",
      "  [4] eval\n",
      "    @ .\\boot.jl:373 [inlined]\n",
      "  [5] include_string(mapexpr::typeof(REPL.softscope), mod::Module, code::String, filename::String)\n",
      "    @ Base .\\loading.jl:1196\n",
      "  [6] #invokelatest#2\n",
      "    @ .\\essentials.jl:716 [inlined]\n",
      "  [7] invokelatest\n",
      "    @ .\\essentials.jl:714 [inlined]\n",
      "  [8] (::VSCodeServer.var\"#150#151\"{VSCodeServer.NotebookRunCellArguments, String})()\n",
      "    @ VSCodeServer c:\\Users\\COMPUTER\\.vscode\\extensions\\julialang.language-julia-1.5.8\\scripts\\packages\\VSCodeServer\\src\\serve_notebook.jl:18\n",
      "  [9] withpath(f::VSCodeServer.var\"#150#151\"{VSCodeServer.NotebookRunCellArguments, String}, path::String)\n",
      "    @ VSCodeServer c:\\Users\\COMPUTER\\.vscode\\extensions\\julialang.language-julia-1.5.8\\scripts\\packages\\VSCodeServer\\src\\repl.jl:185\n",
      " [10] notebook_runcell_request(conn::VSCodeServer.JSONRPC.JSONRPCEndpoint{Base.PipeEndpoint, Base.PipeEndpoint}, params::VSCodeServer.NotebookRunCellArguments)\n",
      "    @ VSCodeServer c:\\Users\\COMPUTER\\.vscode\\extensions\\julialang.language-julia-1.5.8\\scripts\\packages\\VSCodeServer\\src\\serve_notebook.jl:14\n",
      " [11] dispatch_msg(x::VSCodeServer.JSONRPC.JSONRPCEndpoint{Base.PipeEndpoint, Base.PipeEndpoint}, dispatcher::VSCodeServer.JSONRPC.MsgDispatcher, msg::Dict{String, Any})\n",
      "    @ VSCodeServer.JSONRPC c:\\Users\\COMPUTER\\.vscode\\extensions\\julialang.language-julia-1.5.8\\scripts\\packages\\JSONRPC\\src\\typed.jl:67\n",
      " [12] serve_notebook(pipename::String; crashreporting_pipename::String)\n",
      "    @ VSCodeServer c:\\Users\\COMPUTER\\.vscode\\extensions\\julialang.language-julia-1.5.8\\scripts\\packages\\VSCodeServer\\src\\serve_notebook.jl:94\n",
      " [13] top-level scope\n",
      "    @ c:\\Users\\COMPUTER\\.vscode\\extensions\\julialang.language-julia-1.5.8\\scripts\\notebook\\notebook.jl:12\n",
      " [14] include(mod::Module, _path::String)\n",
      "    @ Base .\\Base.jl:418\n",
      " [15] exec_options(opts::Base.JLOptions)\n",
      "    @ Base .\\client.jl:292\n",
      " [16] _start()\n",
      "    @ Base .\\client.jl:495"
     ]
    }
   ],
   "source": [
    "a1 = IGNORE\n",
    "o1 = CRYING\n",
    "b1 = update(b, decprob, a1, o1)"
   ]
  },
  {
   "cell_type": "code",
   "execution_count": 60,
   "metadata": {},
   "outputs": [],
   "source": []
  },
  {
   "cell_type": "code",
   "execution_count": 61,
   "metadata": {},
   "outputs": [],
   "source": []
  }
 ],
 "metadata": {
  "interpreter": {
   "hash": "4c1ad05980a945146a58908fed39f057c9aa5cf6245402bc088cd01a8d4f9269"
  },
  "kernelspec": {
   "display_name": "Julia 1.7.0",
   "language": "julia",
   "name": "julia-1.7"
  },
  "language_info": {
   "file_extension": ".jl",
   "mimetype": "application/julia",
   "name": "julia",
   "version": "1.7.0"
  },
  "orig_nbformat": 4
 },
 "nbformat": 4,
 "nbformat_minor": 2
}
