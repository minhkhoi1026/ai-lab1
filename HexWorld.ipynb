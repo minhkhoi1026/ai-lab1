{
 "cells": [
  {
   "cell_type": "markdown",
   "metadata": {},
   "source": [
    "# Hex world problem"
   ]
  },
  {
   "cell_type": "markdown",
   "metadata": {},
   "source": [
    "The hex world problem is a tuple of attributes:\n",
    "1. hexes: contain all tiles of the game, each tile is represent as pair of integer (coordinate in the board)\n",
    "2. reward hexes: is a subset of hexes, contain tiles which has reward (also these tiles lead to terminal state) and its correspond reward.\n",
    "3. reward border: when moving, if agent hit the wall, he will receive this \"reward border\" (usually negative as a penalty).\n",
    "4. p_intended: when moving at direction $i$, there are p_intended chance to move as intended and (1 - p_intended)/2 chance to move to two side direction $(i - 1) % 6 + 1$ and $(i + 1) % 6 + 1$.\n",
    "5. $\\gamma$: discount factor for lookahead function."
   ]
  },
  {
   "cell_type": "code",
   "execution_count": 1,
   "metadata": {},
   "outputs": [],
   "source": [
    "struct HexWorld\n",
    "    # each state is coordinate (x, y) of correspond hex tile\n",
    "    hexes::Vector{Tuple{Int,Int}}\n",
    "    # some state has reward \n",
    "    reward_hexes::Dict{Tuple{Int, Int}, Float64}\n",
    "    # reward if hit the wall\n",
    "    reward_border::Float64\n",
    "    # probability of successfully moving chosen direction\n",
    "    p_intended::Float64\n",
    "    # discount factor\n",
    "    γ::Float64\n",
    "end"
   ]
  },
  {
   "cell_type": "markdown",
   "metadata": {},
   "source": [
    "## Action Space"
   ]
  },
  {
   "cell_type": "markdown",
   "metadata": {},
   "source": [
    "Each hex tile can move to six direction, numbered from 1 to 6, store in `hex_direction` array"
   ]
  },
  {
   "cell_type": "code",
   "execution_count": 3,
   "metadata": {},
   "outputs": [
    {
     "data": {
      "text/plain": [
       "6-element Vector{String}:\n",
       " \">\"\n",
       " \"^>\"\n",
       " \"<^\"\n",
       " \"<\"\n",
       " \"<v\"\n",
       " \"v>\""
      ]
     },
     "execution_count": 3,
     "metadata": {},
     "output_type": "execute_result"
    }
   ],
   "source": [
    "# array represent valid direction for hex tile\n",
    "const hex_direction = [(+1, 0), (+1, -1), (0, -1), (-1, 0), (-1, +1), (0, +1)]\n",
    "const direction2char = [\">\", \"^>\", \"<^\", \"<\", \"<v\", \"v>\"]"
   ]
  },
  {
   "cell_type": "markdown",
   "metadata": {},
   "source": [
    "## Value Iterative"
   ]
  },
  {
   "cell_type": "markdown",
   "metadata": {},
   "source": [
    "Value iteration is an alternative to policy iteration that is often used because of its simplicity. Unlike policy improvement, value iteration updates the value function directly.\n",
    "\n",
    "The value function can be improved by applying the Bellman equation:\n",
    "$$U_{k+1} = \\max_a\\left(R(s,a) + \\gamma \\sum_{s'}T(s'|s,a)U_k(s')\\right)$$"
   ]
  },
  {
   "cell_type": "code",
   "execution_count": 4,
   "metadata": {},
   "outputs": [
    {
     "data": {
      "text/plain": [
       "bellman_update (generic function with 1 method)"
      ]
     },
     "execution_count": 4,
     "metadata": {},
     "output_type": "execute_result"
    }
   ],
   "source": [
    "\n",
    "Base.:+(x::Tuple{Int, Int}, y::Tuple{Int, Int}) = (x[1] + y[1], x[2] + y[2])\n",
    "\n",
    "function get_Qvalue(hex::Tuple{Int,Int}, \n",
    "                    a::Int, \n",
    "                    p::Float64,\n",
    "                    hex_world::HexWorld,\n",
    "                    hex2state::Dict{Tuple{Int, Int}, Int},\n",
    "                    U::Vector{Float64})\n",
    "    next_hex = hex + hex_direction[a]\n",
    "    if !haskey(hex2state, next_hex)\n",
    "        new_s = hex2state[hex]\n",
    "        return p * hex_world.reward_border + hex_world.γ * p * U[new_s]\n",
    "    else\n",
    "        new_s = hex2state[next_hex]\n",
    "        return hex_world.γ * p * U[new_s]\n",
    "    end\n",
    "end\n",
    "\n",
    "function bellman_update(hex_world::HexWorld, \n",
    "                            U::Vector{Float64}, \n",
    "                            hex2state::Dict{Tuple{Int, Int}, Int})\n",
    "    nS = length(hex_world.hexes)\n",
    "    nA = length(hex_direction)\n",
    "    \n",
    "    Q = zeros(nS, nA)\n",
    "    p_veer = (1.0 - hex_world.p_intended) / 2\n",
    "    p_intended = hex_world.p_intended\n",
    "    for hex in hex_world.hexes\n",
    "        s = hex2state[hex]\n",
    "        for a = 1:nA\n",
    "            if haskey(hex_world.reward_hexes, hex)\n",
    "                Q[s,a] = hex_world.reward_hexes[hex]\n",
    "            else\n",
    "                Q[s,a] += get_Qvalue(hex, a, p_intended, hex_world, hex2state, U)\n",
    "                Q[s,a] += get_Qvalue(hex, mod1(a - 1, nA), p_veer, hex_world, hex2state, U)\n",
    "                Q[s,a] += get_Qvalue(hex, mod1(a + 1, nA), p_veer, hex_world, hex2state, U)\n",
    "            end\n",
    "        end\n",
    "    end\n",
    "    \n",
    "    new_U, new_policy = findmax(Q, dims = 2)\n",
    "\n",
    "    return vec(new_U), map(x -> x[2], new_policy)\n",
    "end"
   ]
  },
  {
   "cell_type": "code",
   "execution_count": 5,
   "metadata": {},
   "outputs": [
    {
     "data": {
      "text/plain": [
       "is_terminal (generic function with 1 method)"
      ]
     },
     "execution_count": 5,
     "metadata": {},
     "output_type": "execute_result"
    }
   ],
   "source": [
    "using LinearAlgebra\n",
    "function is_terminal(U::Vector{Float64}, new_U::Vector{Float64}, threshold::Float64)\n",
    "    return LinearAlgebra.norm(U - new_U, 1) <= threshold\n",
    "end"
   ]
  },
  {
   "cell_type": "code",
   "execution_count": 6,
   "metadata": {},
   "outputs": [
    {
     "data": {
      "text/plain": [
       "get_optimal_policy (generic function with 1 method)"
      ]
     },
     "execution_count": 6,
     "metadata": {},
     "output_type": "execute_result"
    }
   ],
   "source": [
    "function get_optimal_policy(hex_world::HexWorld, max_step::Int, threshold::Float64)\n",
    "    nS = length(hex_world.hexes)\n",
    "    U = zeros(nS)\n",
    "    policy = zeros(nS)\n",
    "    hex2state = Dict{Tuple{Int, Int}, Int}()\n",
    "    for (s, hex) in enumerate(hex_world.hexes)\n",
    "        hex2state[hex] = s\n",
    "    end\n",
    "    \n",
    "    for step = 1 : max_step\n",
    "        new_U, policy = bellman_update(hex_world, U, hex2state)\n",
    "\n",
    "        if is_terminal(U, new_U, threshold)\n",
    "            println(\"Convergence at step: \", step)\n",
    "            break\n",
    "        end\n",
    "\n",
    "        U = new_U\n",
    "    end\n",
    "\n",
    "    return policy, U\n",
    "end"
   ]
  },
  {
   "cell_type": "markdown",
   "metadata": {},
   "source": [
    "# Instance for Experiment"
   ]
  },
  {
   "cell_type": "code",
   "execution_count": null,
   "metadata": {},
   "outputs": [],
   "source": [
    "const REWARD_BORDER = -1.0 # Reward for falling off hex map\n",
    "const P_INTENDED = 0.7 # Probability of going intended direction\n",
    "const DISCOUNT_FACTOR = 0.9\n",
    "\n",
    "const general_hexworld = HexWorld(\n",
    "    [(1,0), (2,0), (3,0), (4,0), (5,0), (6,0), (7,0), (8,0), (9,0), (10,0),\n",
    "    (1,1), (2,1), (3,1), (5,1), (8,1), (9,1),\n",
    "    (0,2), (1,2), (2,2), (3,2), (5,2), (6,2), (7,2), (9,2)],\n",
    "    Dict{Tuple{Int,Int}, Float64}(\n",
    "        (1,1) =>  5.0,\n",
    "        (2,2) => -10.0,\n",
    "        (9,2) =>  10.0,\n",
    "    ),\n",
    "    REWARD_BORDER,\n",
    "    P_INTENDED,\n",
    "    DISCOUNT_FACTOR\n",
    ")\n",
    "\n",
    "const ring_hexworld = HexWorld(\n",
    "    [(1,0), (2,0), (3,0), (4,0),\n",
    "    (0,1), (4,1),\n",
    "    (0,2), (1,2), (2,2), (3,2)],\n",
    "    Dict{Tuple{Int,Int}, Float64}(\n",
    "        (2, 2) => 10.0, # right side reward\n",
    "    ),\n",
    "    REWARD_BORDER,\n",
    "    P_INTENDED,\n",
    "    DISCOUNT_FACTOR\n",
    ")"
   ]
  },
  {
   "cell_type": "markdown",
   "metadata": {},
   "source": [
    "# Result analyzing"
   ]
  },
  {
   "cell_type": "code",
   "execution_count": 7,
   "metadata": {},
   "outputs": [
    {
     "data": {
      "text/plain": [
       "draw_result (generic function with 1 method)"
      ]
     },
     "execution_count": 7,
     "metadata": {},
     "output_type": "execute_result"
    }
   ],
   "source": [
    "include(\"./PlotHexWorld.jl\")\n",
    "\n",
    "function draw_result(hex_world::HexWorld, optimal_policy, optimal_utility, MARKER_SIZE::Int)\n",
    "    colormap = cgrad(:RdBu_9)\n",
    "    umax, _ = findmax(optimal_utility)\n",
    "    umin, _ = findmin(optimal_utility)\n",
    "    rescaled_utility = map(u -> (u - umin)/(umax - umin), optimal_utility)\n",
    "\n",
    "    p = draw_hexgrid(hex_world.hexes, MARKER_SIZE)\n",
    "    \n",
    "    for key in keys(hex_world.reward_hexes)\n",
    "        u = (hex_world.reward_hexes[key] - umin)/(umax - umin)\n",
    "        i = findfirst(x -> x == key, hex_world.hexes)\n",
    "        draw_hexbin(p, hex_world.hexes, hex_world.hexes[i], (0,0), colormap[u], MARKER_SIZE)\n",
    "    end\n",
    "    display(p)\n",
    "\n",
    "    for (i, direction) in enumerate(optimal_policy)\n",
    "        draw_hexbin(p, hex_world.hexes, hex_world.hexes[i], hex_direction[direction], colormap[rescaled_utility[i]], MARKER_SIZE)\n",
    "    end\n",
    "    display(p)\n",
    "end\n"
   ]
  },
  {
   "cell_type": "code",
   "execution_count": 8,
   "metadata": {},
   "outputs": [
    {
     "data": {
      "image/svg+xml": "<?xml version=\"1.0\" encoding=\"utf-8\"?>\n<svg xmlns=\"http://www.w3.org/2000/svg\" xmlns:xlink=\"http://www.w3.org/1999/xlink\" width=\"500\" height=\"500\" viewBox=\"0 0 2000 2000\">\n<defs>\n  <clipPath id=\"clip000\">\n    <rect x=\"0\" y=\"0\" width=\"2000\" height=\"2000\"/>\n  </clipPath>\n</defs>\n<path clip-path=\"url(#clip000)\" d=\"\nM0 2000 L2000 2000 L2000 0 L0 0  Z\n  \" fill=\"#ffffff\" fill-rule=\"evenodd\" fill-opacity=\"1\"/>\n<defs>\n  <clipPath id=\"clip001\">\n    <rect x=\"400\" y=\"200\" width=\"1401\" height=\"1401\"/>\n  </clipPath>\n</defs>\n<path clip-path=\"url(#clip000)\" d=\"\nM47.2441 1952.76 L1952.76 1952.76 L1952.76 47.2441 L47.2441 47.2441  Z\n  \" fill=\"#ffffff\" fill-rule=\"evenodd\" fill-opacity=\"1\"/>\n<defs>\n  <clipPath id=\"clip002\">\n    <rect x=\"47\" y=\"47\" width=\"1907\" height=\"1907\"/>\n  </clipPath>\n</defs>\n<polyline clip-path=\"url(#clip000)\" style=\"stroke:#000000; stroke-linecap:butt; stroke-linejoin:round; stroke-width:4; stroke-opacity:1; fill:none\" points=\"\n  47.2441,1952.76 1952.76,1952.76 \n  \"/>\n<polyline clip-path=\"url(#clip000)\" style=\"stroke:#000000; stroke-linecap:butt; stroke-linejoin:round; stroke-width:4; stroke-opacity:1; fill:none\" points=\"\n  47.2441,1952.76 47.2441,47.2441 \n  \"/>\n<path clip-path=\"url(#clip002)\" d=\"M364.829 1254.79 L281.693 1206.79 L281.693 1110.79 L364.829 1062.79 L447.965 1110.79 L447.965 1206.79 Z\" fill=\"#ffffff\" fill-rule=\"evenodd\" fill-opacity=\"1\" stroke=\"#000000\" stroke-opacity=\"1\" stroke-width=\"4\"/>\n<path clip-path=\"url(#clip002)\" d=\"M523.622 1254.79 L440.486 1206.79 L440.486 1110.79 L523.622 1062.79 L606.758 1110.79 L606.758 1206.79 Z\" fill=\"#ffffff\" fill-rule=\"evenodd\" fill-opacity=\"1\" stroke=\"#000000\" stroke-opacity=\"1\" stroke-width=\"4\"/>\n<path clip-path=\"url(#clip002)\" d=\"M682.415 1254.79 L599.279 1206.79 L599.279 1110.79 L682.415 1062.79 L765.551 1110.79 L765.551 1206.79 Z\" fill=\"#ffffff\" fill-rule=\"evenodd\" fill-opacity=\"1\" stroke=\"#000000\" stroke-opacity=\"1\" stroke-width=\"4\"/>\n<path clip-path=\"url(#clip002)\" d=\"M841.207 1254.79 L758.071 1206.79 L758.071 1110.79 L841.207 1062.79 L924.343 1110.79 L924.343 1206.79 Z\" fill=\"#ffffff\" fill-rule=\"evenodd\" fill-opacity=\"1\" stroke=\"#000000\" stroke-opacity=\"1\" stroke-width=\"4\"/>\n<path clip-path=\"url(#clip002)\" d=\"M1000 1254.79 L916.864 1206.79 L916.864 1110.79 L1000 1062.79 L1083.14 1110.79 L1083.14 1206.79 Z\" fill=\"#ffffff\" fill-rule=\"evenodd\" fill-opacity=\"1\" stroke=\"#000000\" stroke-opacity=\"1\" stroke-width=\"4\"/>\n<path clip-path=\"url(#clip002)\" d=\"M1158.79 1254.79 L1075.66 1206.79 L1075.66 1110.79 L1158.79 1062.79 L1241.93 1110.79 L1241.93 1206.79 Z\" fill=\"#ffffff\" fill-rule=\"evenodd\" fill-opacity=\"1\" stroke=\"#000000\" stroke-opacity=\"1\" stroke-width=\"4\"/>\n<path clip-path=\"url(#clip002)\" d=\"M1317.59 1254.79 L1234.45 1206.79 L1234.45 1110.79 L1317.59 1062.79 L1400.72 1110.79 L1400.72 1206.79 Z\" fill=\"#ffffff\" fill-rule=\"evenodd\" fill-opacity=\"1\" stroke=\"#000000\" stroke-opacity=\"1\" stroke-width=\"4\"/>\n<path clip-path=\"url(#clip002)\" d=\"M1476.38 1254.79 L1393.24 1206.79 L1393.24 1110.79 L1476.38 1062.79 L1559.51 1110.79 L1559.51 1206.79 Z\" fill=\"#ffffff\" fill-rule=\"evenodd\" fill-opacity=\"1\" stroke=\"#000000\" stroke-opacity=\"1\" stroke-width=\"4\"/>\n<path clip-path=\"url(#clip002)\" d=\"M1635.17 1254.79 L1552.03 1206.79 L1552.03 1110.79 L1635.17 1062.79 L1718.31 1110.79 L1718.31 1206.79 Z\" fill=\"#ffffff\" fill-rule=\"evenodd\" fill-opacity=\"1\" stroke=\"#000000\" stroke-opacity=\"1\" stroke-width=\"4\"/>\n<path clip-path=\"url(#clip002)\" d=\"M1793.96 1254.79 L1710.83 1206.79 L1710.83 1110.79 L1793.96 1062.79 L1877.1 1110.79 L1877.1 1206.79 Z\" fill=\"#ffffff\" fill-rule=\"evenodd\" fill-opacity=\"1\" stroke=\"#000000\" stroke-opacity=\"1\" stroke-width=\"4\"/>\n<path clip-path=\"url(#clip002)\" d=\"M444.226 1117.27 L361.09 1069.27 L361.09 973.274 L444.226 925.274 L527.362 973.274 L527.362 1069.27 Z\" fill=\"#ffffff\" fill-rule=\"evenodd\" fill-opacity=\"1\" stroke=\"#000000\" stroke-opacity=\"1\" stroke-width=\"4\"/>\n<path clip-path=\"url(#clip002)\" d=\"M603.018 1117.27 L519.882 1069.27 L519.882 973.274 L603.018 925.274 L686.154 973.274 L686.154 1069.27 Z\" fill=\"#ffffff\" fill-rule=\"evenodd\" fill-opacity=\"1\" stroke=\"#000000\" stroke-opacity=\"1\" stroke-width=\"4\"/>\n<path clip-path=\"url(#clip002)\" d=\"M761.811 1117.27 L678.675 1069.27 L678.675 973.274 L761.811 925.274 L844.947 973.274 L844.947 1069.27 Z\" fill=\"#ffffff\" fill-rule=\"evenodd\" fill-opacity=\"1\" stroke=\"#000000\" stroke-opacity=\"1\" stroke-width=\"4\"/>\n<path clip-path=\"url(#clip002)\" d=\"M1079.4 1117.27 L996.26 1069.27 L996.26 973.274 L1079.4 925.274 L1162.53 973.274 L1162.53 1069.27 Z\" fill=\"#ffffff\" fill-rule=\"evenodd\" fill-opacity=\"1\" stroke=\"#000000\" stroke-opacity=\"1\" stroke-width=\"4\"/>\n<path clip-path=\"url(#clip002)\" d=\"M1555.77 1117.27 L1472.64 1069.27 L1472.64 973.274 L1555.77 925.274 L1638.91 973.274 L1638.91 1069.27 Z\" fill=\"#ffffff\" fill-rule=\"evenodd\" fill-opacity=\"1\" stroke=\"#000000\" stroke-opacity=\"1\" stroke-width=\"4\"/>\n<path clip-path=\"url(#clip002)\" d=\"M1714.57 1117.27 L1631.43 1069.27 L1631.43 973.274 L1714.57 925.274 L1797.7 973.274 L1797.7 1069.27 Z\" fill=\"#ffffff\" fill-rule=\"evenodd\" fill-opacity=\"1\" stroke=\"#000000\" stroke-opacity=\"1\" stroke-width=\"4\"/>\n<path clip-path=\"url(#clip002)\" d=\"M364.829 979.756 L281.693 931.756 L281.693 835.756 L364.829 787.756 L447.965 835.756 L447.965 931.756 Z\" fill=\"#ffffff\" fill-rule=\"evenodd\" fill-opacity=\"1\" stroke=\"#000000\" stroke-opacity=\"1\" stroke-width=\"4\"/>\n<path clip-path=\"url(#clip002)\" d=\"M523.622 979.756 L440.486 931.756 L440.486 835.756 L523.622 787.756 L606.758 835.756 L606.758 931.756 Z\" fill=\"#ffffff\" fill-rule=\"evenodd\" fill-opacity=\"1\" stroke=\"#000000\" stroke-opacity=\"1\" stroke-width=\"4\"/>\n<path clip-path=\"url(#clip002)\" d=\"M682.415 979.756 L599.279 931.756 L599.279 835.756 L682.415 787.756 L765.551 835.756 L765.551 931.756 Z\" fill=\"#ffffff\" fill-rule=\"evenodd\" fill-opacity=\"1\" stroke=\"#000000\" stroke-opacity=\"1\" stroke-width=\"4\"/>\n<path clip-path=\"url(#clip002)\" d=\"M841.207 979.756 L758.071 931.756 L758.071 835.756 L841.207 787.756 L924.343 835.756 L924.343 931.756 Z\" fill=\"#ffffff\" fill-rule=\"evenodd\" fill-opacity=\"1\" stroke=\"#000000\" stroke-opacity=\"1\" stroke-width=\"4\"/>\n<path clip-path=\"url(#clip002)\" d=\"M1158.79 979.756 L1075.66 931.756 L1075.66 835.756 L1158.79 787.756 L1241.93 835.756 L1241.93 931.756 Z\" fill=\"#ffffff\" fill-rule=\"evenodd\" fill-opacity=\"1\" stroke=\"#000000\" stroke-opacity=\"1\" stroke-width=\"4\"/>\n<path clip-path=\"url(#clip002)\" d=\"M1317.59 979.756 L1234.45 931.756 L1234.45 835.756 L1317.59 787.756 L1400.72 835.756 L1400.72 931.756 Z\" fill=\"#ffffff\" fill-rule=\"evenodd\" fill-opacity=\"1\" stroke=\"#000000\" stroke-opacity=\"1\" stroke-width=\"4\"/>\n<path clip-path=\"url(#clip002)\" d=\"M1476.38 979.756 L1393.24 931.756 L1393.24 835.756 L1476.38 787.756 L1559.51 835.756 L1559.51 931.756 Z\" fill=\"#ffffff\" fill-rule=\"evenodd\" fill-opacity=\"1\" stroke=\"#000000\" stroke-opacity=\"1\" stroke-width=\"4\"/>\n<path clip-path=\"url(#clip002)\" d=\"M1793.96 979.756 L1710.83 931.756 L1710.83 835.756 L1793.96 787.756 L1877.1 835.756 L1877.1 931.756 Z\" fill=\"#ffffff\" fill-rule=\"evenodd\" fill-opacity=\"1\" stroke=\"#000000\" stroke-opacity=\"1\" stroke-width=\"4\"/>\n<path clip-path=\"url(#clip002)\" d=\"M444.226 1117.27 L361.09 1069.27 L361.09 973.274 L444.226 925.274 L527.362 973.274 L527.362 1069.27 Z\" fill=\"#92c5de\" fill-rule=\"evenodd\" fill-opacity=\"1\" stroke=\"#000000\" stroke-opacity=\"1\" stroke-width=\"4\"/>\n<polyline clip-path=\"url(#clip002)\" style=\"stroke:#000000; stroke-linecap:butt; stroke-linejoin:round; stroke-width:8; stroke-opacity:1; fill:none\" points=\"\n  444.226,1021.27 444.226,1021.27 \n  \"/>\n<polyline clip-path=\"url(#clip002)\" style=\"stroke:#000000; stroke-linecap:butt; stroke-linejoin:round; stroke-width:8; stroke-opacity:1; fill:none\" points=\"\n  -1.#IND,-1.#IND -1.#IND,-1.#IND -1.#IND,-1.#IND \n  \"/>\n<polyline clip-path=\"url(#clip002)\" style=\"stroke:#000000; stroke-linecap:butt; stroke-linejoin:round; stroke-width:8; stroke-opacity:1; fill:none\" points=\"\n  -1.#IND,-1.#IND -1.#IND,-1.#IND \n  \"/>\n<path clip-path=\"url(#clip002)\" d=\"M682.415 979.756 L599.279 931.756 L599.279 835.756 L682.415 787.756 L765.551 835.756 L765.551 931.756 Z\" fill=\"#b1172b\" fill-rule=\"evenodd\" fill-opacity=\"1\" stroke=\"#000000\" stroke-opacity=\"1\" stroke-width=\"4\"/>\n<polyline clip-path=\"url(#clip002)\" style=\"stroke:#000000; stroke-linecap:butt; stroke-linejoin:round; stroke-width:8; stroke-opacity:1; fill:none\" points=\"\n  682.415,883.756 682.415,883.756 \n  \"/>\n<polyline clip-path=\"url(#clip002)\" style=\"stroke:#000000; stroke-linecap:butt; stroke-linejoin:round; stroke-width:8; stroke-opacity:1; fill:none\" points=\"\n  -1.#IND,-1.#IND -1.#IND,-1.#IND -1.#IND,-1.#IND \n  \"/>\n<polyline clip-path=\"url(#clip002)\" style=\"stroke:#000000; stroke-linecap:butt; stroke-linejoin:round; stroke-width:8; stroke-opacity:1; fill:none\" points=\"\n  -1.#IND,-1.#IND -1.#IND,-1.#IND \n  \"/>\n<path clip-path=\"url(#clip002)\" d=\"M1793.96 979.756 L1710.83 931.756 L1710.83 835.756 L1793.96 787.756 L1877.1 835.756 L1877.1 931.756 Z\" fill=\"#2066ac\" fill-rule=\"evenodd\" fill-opacity=\"1\" stroke=\"#000000\" stroke-opacity=\"1\" stroke-width=\"4\"/>\n<polyline clip-path=\"url(#clip002)\" style=\"stroke:#000000; stroke-linecap:butt; stroke-linejoin:round; stroke-width:8; stroke-opacity:1; fill:none\" points=\"\n  1793.96,883.756 1793.96,883.756 \n  \"/>\n<polyline clip-path=\"url(#clip002)\" style=\"stroke:#000000; stroke-linecap:butt; stroke-linejoin:round; stroke-width:8; stroke-opacity:1; fill:none\" points=\"\n  -1.#IND,-1.#IND -1.#IND,-1.#IND -1.#IND,-1.#IND \n  \"/>\n<polyline clip-path=\"url(#clip002)\" style=\"stroke:#000000; stroke-linecap:butt; stroke-linejoin:round; stroke-width:8; stroke-opacity:1; fill:none\" points=\"\n  -1.#IND,-1.#IND -1.#IND,-1.#IND \n  \"/>\n</svg>\n"
     },
     "metadata": {},
     "output_type": "display_data"
    },
    {
     "data": {
      "image/svg+xml": "<?xml version=\"1.0\" encoding=\"utf-8\"?>\n<svg xmlns=\"http://www.w3.org/2000/svg\" xmlns:xlink=\"http://www.w3.org/1999/xlink\" width=\"500\" height=\"500\" viewBox=\"0 0 2000 2000\">\n<defs>\n  <clipPath id=\"clip030\">\n    <rect x=\"0\" y=\"0\" width=\"2000\" height=\"2000\"/>\n  </clipPath>\n</defs>\n<path clip-path=\"url(#clip030)\" d=\"\nM0 2000 L2000 2000 L2000 0 L0 0  Z\n  \" fill=\"#ffffff\" fill-rule=\"evenodd\" fill-opacity=\"1\"/>\n<defs>\n  <clipPath id=\"clip031\">\n    <rect x=\"400\" y=\"200\" width=\"1401\" height=\"1401\"/>\n  </clipPath>\n</defs>\n<path clip-path=\"url(#clip030)\" d=\"\nM47.2441 1952.76 L1952.76 1952.76 L1952.76 47.2441 L47.2441 47.2441  Z\n  \" fill=\"#ffffff\" fill-rule=\"evenodd\" fill-opacity=\"1\"/>\n<defs>\n  <clipPath id=\"clip032\">\n    <rect x=\"47\" y=\"47\" width=\"1907\" height=\"1907\"/>\n  </clipPath>\n</defs>\n<polyline clip-path=\"url(#clip030)\" style=\"stroke:#000000; stroke-linecap:butt; stroke-linejoin:round; stroke-width:4; stroke-opacity:1; fill:none\" points=\"\n  47.2441,1952.76 1952.76,1952.76 \n  \"/>\n<polyline clip-path=\"url(#clip030)\" style=\"stroke:#000000; stroke-linecap:butt; stroke-linejoin:round; stroke-width:4; stroke-opacity:1; fill:none\" points=\"\n  47.2441,1952.76 47.2441,47.2441 \n  \"/>\n<path clip-path=\"url(#clip032)\" d=\"M364.829 1254.79 L281.693 1206.79 L281.693 1110.79 L364.829 1062.79 L447.965 1110.79 L447.965 1206.79 Z\" fill=\"#ffffff\" fill-rule=\"evenodd\" fill-opacity=\"1\" stroke=\"#000000\" stroke-opacity=\"1\" stroke-width=\"4\"/>\n<path clip-path=\"url(#clip032)\" d=\"M523.622 1254.79 L440.486 1206.79 L440.486 1110.79 L523.622 1062.79 L606.758 1110.79 L606.758 1206.79 Z\" fill=\"#ffffff\" fill-rule=\"evenodd\" fill-opacity=\"1\" stroke=\"#000000\" stroke-opacity=\"1\" stroke-width=\"4\"/>\n<path clip-path=\"url(#clip032)\" d=\"M682.415 1254.79 L599.279 1206.79 L599.279 1110.79 L682.415 1062.79 L765.551 1110.79 L765.551 1206.79 Z\" fill=\"#ffffff\" fill-rule=\"evenodd\" fill-opacity=\"1\" stroke=\"#000000\" stroke-opacity=\"1\" stroke-width=\"4\"/>\n<path clip-path=\"url(#clip032)\" d=\"M841.207 1254.79 L758.071 1206.79 L758.071 1110.79 L841.207 1062.79 L924.343 1110.79 L924.343 1206.79 Z\" fill=\"#ffffff\" fill-rule=\"evenodd\" fill-opacity=\"1\" stroke=\"#000000\" stroke-opacity=\"1\" stroke-width=\"4\"/>\n<path clip-path=\"url(#clip032)\" d=\"M1000 1254.79 L916.864 1206.79 L916.864 1110.79 L1000 1062.79 L1083.14 1110.79 L1083.14 1206.79 Z\" fill=\"#ffffff\" fill-rule=\"evenodd\" fill-opacity=\"1\" stroke=\"#000000\" stroke-opacity=\"1\" stroke-width=\"4\"/>\n<path clip-path=\"url(#clip032)\" d=\"M1158.79 1254.79 L1075.66 1206.79 L1075.66 1110.79 L1158.79 1062.79 L1241.93 1110.79 L1241.93 1206.79 Z\" fill=\"#ffffff\" fill-rule=\"evenodd\" fill-opacity=\"1\" stroke=\"#000000\" stroke-opacity=\"1\" stroke-width=\"4\"/>\n<path clip-path=\"url(#clip032)\" d=\"M1317.59 1254.79 L1234.45 1206.79 L1234.45 1110.79 L1317.59 1062.79 L1400.72 1110.79 L1400.72 1206.79 Z\" fill=\"#ffffff\" fill-rule=\"evenodd\" fill-opacity=\"1\" stroke=\"#000000\" stroke-opacity=\"1\" stroke-width=\"4\"/>\n<path clip-path=\"url(#clip032)\" d=\"M1476.38 1254.79 L1393.24 1206.79 L1393.24 1110.79 L1476.38 1062.79 L1559.51 1110.79 L1559.51 1206.79 Z\" fill=\"#ffffff\" fill-rule=\"evenodd\" fill-opacity=\"1\" stroke=\"#000000\" stroke-opacity=\"1\" stroke-width=\"4\"/>\n<path clip-path=\"url(#clip032)\" d=\"M1635.17 1254.79 L1552.03 1206.79 L1552.03 1110.79 L1635.17 1062.79 L1718.31 1110.79 L1718.31 1206.79 Z\" fill=\"#ffffff\" fill-rule=\"evenodd\" fill-opacity=\"1\" stroke=\"#000000\" stroke-opacity=\"1\" stroke-width=\"4\"/>\n<path clip-path=\"url(#clip032)\" d=\"M1793.96 1254.79 L1710.83 1206.79 L1710.83 1110.79 L1793.96 1062.79 L1877.1 1110.79 L1877.1 1206.79 Z\" fill=\"#ffffff\" fill-rule=\"evenodd\" fill-opacity=\"1\" stroke=\"#000000\" stroke-opacity=\"1\" stroke-width=\"4\"/>\n<path clip-path=\"url(#clip032)\" d=\"M444.226 1117.27 L361.09 1069.27 L361.09 973.274 L444.226 925.274 L527.362 973.274 L527.362 1069.27 Z\" fill=\"#ffffff\" fill-rule=\"evenodd\" fill-opacity=\"1\" stroke=\"#000000\" stroke-opacity=\"1\" stroke-width=\"4\"/>\n<path clip-path=\"url(#clip032)\" d=\"M603.018 1117.27 L519.882 1069.27 L519.882 973.274 L603.018 925.274 L686.154 973.274 L686.154 1069.27 Z\" fill=\"#ffffff\" fill-rule=\"evenodd\" fill-opacity=\"1\" stroke=\"#000000\" stroke-opacity=\"1\" stroke-width=\"4\"/>\n<path clip-path=\"url(#clip032)\" d=\"M761.811 1117.27 L678.675 1069.27 L678.675 973.274 L761.811 925.274 L844.947 973.274 L844.947 1069.27 Z\" fill=\"#ffffff\" fill-rule=\"evenodd\" fill-opacity=\"1\" stroke=\"#000000\" stroke-opacity=\"1\" stroke-width=\"4\"/>\n<path clip-path=\"url(#clip032)\" d=\"M1079.4 1117.27 L996.26 1069.27 L996.26 973.274 L1079.4 925.274 L1162.53 973.274 L1162.53 1069.27 Z\" fill=\"#ffffff\" fill-rule=\"evenodd\" fill-opacity=\"1\" stroke=\"#000000\" stroke-opacity=\"1\" stroke-width=\"4\"/>\n<path clip-path=\"url(#clip032)\" d=\"M1555.77 1117.27 L1472.64 1069.27 L1472.64 973.274 L1555.77 925.274 L1638.91 973.274 L1638.91 1069.27 Z\" fill=\"#ffffff\" fill-rule=\"evenodd\" fill-opacity=\"1\" stroke=\"#000000\" stroke-opacity=\"1\" stroke-width=\"4\"/>\n<path clip-path=\"url(#clip032)\" d=\"M1714.57 1117.27 L1631.43 1069.27 L1631.43 973.274 L1714.57 925.274 L1797.7 973.274 L1797.7 1069.27 Z\" fill=\"#ffffff\" fill-rule=\"evenodd\" fill-opacity=\"1\" stroke=\"#000000\" stroke-opacity=\"1\" stroke-width=\"4\"/>\n<path clip-path=\"url(#clip032)\" d=\"M364.829 979.756 L281.693 931.756 L281.693 835.756 L364.829 787.756 L447.965 835.756 L447.965 931.756 Z\" fill=\"#ffffff\" fill-rule=\"evenodd\" fill-opacity=\"1\" stroke=\"#000000\" stroke-opacity=\"1\" stroke-width=\"4\"/>\n<path clip-path=\"url(#clip032)\" d=\"M523.622 979.756 L440.486 931.756 L440.486 835.756 L523.622 787.756 L606.758 835.756 L606.758 931.756 Z\" fill=\"#ffffff\" fill-rule=\"evenodd\" fill-opacity=\"1\" stroke=\"#000000\" stroke-opacity=\"1\" stroke-width=\"4\"/>\n<path clip-path=\"url(#clip032)\" d=\"M682.415 979.756 L599.279 931.756 L599.279 835.756 L682.415 787.756 L765.551 835.756 L765.551 931.756 Z\" fill=\"#ffffff\" fill-rule=\"evenodd\" fill-opacity=\"1\" stroke=\"#000000\" stroke-opacity=\"1\" stroke-width=\"4\"/>\n<path clip-path=\"url(#clip032)\" d=\"M841.207 979.756 L758.071 931.756 L758.071 835.756 L841.207 787.756 L924.343 835.756 L924.343 931.756 Z\" fill=\"#ffffff\" fill-rule=\"evenodd\" fill-opacity=\"1\" stroke=\"#000000\" stroke-opacity=\"1\" stroke-width=\"4\"/>\n<path clip-path=\"url(#clip032)\" d=\"M1158.79 979.756 L1075.66 931.756 L1075.66 835.756 L1158.79 787.756 L1241.93 835.756 L1241.93 931.756 Z\" fill=\"#ffffff\" fill-rule=\"evenodd\" fill-opacity=\"1\" stroke=\"#000000\" stroke-opacity=\"1\" stroke-width=\"4\"/>\n<path clip-path=\"url(#clip032)\" d=\"M1317.59 979.756 L1234.45 931.756 L1234.45 835.756 L1317.59 787.756 L1400.72 835.756 L1400.72 931.756 Z\" fill=\"#ffffff\" fill-rule=\"evenodd\" fill-opacity=\"1\" stroke=\"#000000\" stroke-opacity=\"1\" stroke-width=\"4\"/>\n<path clip-path=\"url(#clip032)\" d=\"M1476.38 979.756 L1393.24 931.756 L1393.24 835.756 L1476.38 787.756 L1559.51 835.756 L1559.51 931.756 Z\" fill=\"#ffffff\" fill-rule=\"evenodd\" fill-opacity=\"1\" stroke=\"#000000\" stroke-opacity=\"1\" stroke-width=\"4\"/>\n<path clip-path=\"url(#clip032)\" d=\"M1793.96 979.756 L1710.83 931.756 L1710.83 835.756 L1793.96 787.756 L1877.1 835.756 L1877.1 931.756 Z\" fill=\"#ffffff\" fill-rule=\"evenodd\" fill-opacity=\"1\" stroke=\"#000000\" stroke-opacity=\"1\" stroke-width=\"4\"/>\n<path clip-path=\"url(#clip032)\" d=\"M444.226 1117.27 L361.09 1069.27 L361.09 973.274 L444.226 925.274 L527.362 973.274 L527.362 1069.27 Z\" fill=\"#92c5de\" fill-rule=\"evenodd\" fill-opacity=\"1\" stroke=\"#000000\" stroke-opacity=\"1\" stroke-width=\"4\"/>\n<polyline clip-path=\"url(#clip032)\" style=\"stroke:#000000; stroke-linecap:butt; stroke-linejoin:round; stroke-width:8; stroke-opacity:1; fill:none\" points=\"\n  444.226,1021.27 444.226,1021.27 \n  \"/>\n<polyline clip-path=\"url(#clip032)\" style=\"stroke:#000000; stroke-linecap:butt; stroke-linejoin:round; stroke-width:8; stroke-opacity:1; fill:none\" points=\"\n  -1.#IND,-1.#IND -1.#IND,-1.#IND -1.#IND,-1.#IND \n  \"/>\n<polyline clip-path=\"url(#clip032)\" style=\"stroke:#000000; stroke-linecap:butt; stroke-linejoin:round; stroke-width:8; stroke-opacity:1; fill:none\" points=\"\n  -1.#IND,-1.#IND -1.#IND,-1.#IND \n  \"/>\n<path clip-path=\"url(#clip032)\" d=\"M682.415 979.756 L599.279 931.756 L599.279 835.756 L682.415 787.756 L765.551 835.756 L765.551 931.756 Z\" fill=\"#b1172b\" fill-rule=\"evenodd\" fill-opacity=\"1\" stroke=\"#000000\" stroke-opacity=\"1\" stroke-width=\"4\"/>\n<polyline clip-path=\"url(#clip032)\" style=\"stroke:#000000; stroke-linecap:butt; stroke-linejoin:round; stroke-width:8; stroke-opacity:1; fill:none\" points=\"\n  682.415,883.756 682.415,883.756 \n  \"/>\n<polyline clip-path=\"url(#clip032)\" style=\"stroke:#000000; stroke-linecap:butt; stroke-linejoin:round; stroke-width:8; stroke-opacity:1; fill:none\" points=\"\n  -1.#IND,-1.#IND -1.#IND,-1.#IND -1.#IND,-1.#IND \n  \"/>\n<polyline clip-path=\"url(#clip032)\" style=\"stroke:#000000; stroke-linecap:butt; stroke-linejoin:round; stroke-width:8; stroke-opacity:1; fill:none\" points=\"\n  -1.#IND,-1.#IND -1.#IND,-1.#IND \n  \"/>\n<path clip-path=\"url(#clip032)\" d=\"M1793.96 979.756 L1710.83 931.756 L1710.83 835.756 L1793.96 787.756 L1877.1 835.756 L1877.1 931.756 Z\" fill=\"#2066ac\" fill-rule=\"evenodd\" fill-opacity=\"1\" stroke=\"#000000\" stroke-opacity=\"1\" stroke-width=\"4\"/>\n<polyline clip-path=\"url(#clip032)\" style=\"stroke:#000000; stroke-linecap:butt; stroke-linejoin:round; stroke-width:8; stroke-opacity:1; fill:none\" points=\"\n  1793.96,883.756 1793.96,883.756 \n  \"/>\n<polyline clip-path=\"url(#clip032)\" style=\"stroke:#000000; stroke-linecap:butt; stroke-linejoin:round; stroke-width:8; stroke-opacity:1; fill:none\" points=\"\n  -1.#IND,-1.#IND -1.#IND,-1.#IND -1.#IND,-1.#IND \n  \"/>\n<polyline clip-path=\"url(#clip032)\" style=\"stroke:#000000; stroke-linecap:butt; stroke-linejoin:round; stroke-width:8; stroke-opacity:1; fill:none\" points=\"\n  -1.#IND,-1.#IND -1.#IND,-1.#IND \n  \"/>\n<path clip-path=\"url(#clip032)\" d=\"M364.829 1254.79 L281.693 1206.79 L281.693 1110.79 L364.829 1062.79 L447.965 1110.79 L447.965 1206.79 Z\" fill=\"#a7d0e4\" fill-rule=\"evenodd\" fill-opacity=\"1\" stroke=\"#000000\" stroke-opacity=\"1\" stroke-width=\"4\"/>\n<polyline clip-path=\"url(#clip032)\" style=\"stroke:#000000; stroke-linecap:butt; stroke-linejoin:round; stroke-width:8; stroke-opacity:1; fill:none\" points=\"\n  364.829,1158.79 396.588,1103.79 \n  \"/>\n<polyline clip-path=\"url(#clip032)\" style=\"stroke:#000000; stroke-linecap:butt; stroke-linejoin:round; stroke-width:8; stroke-opacity:1; fill:none\" points=\"\n  368.598,1122.27 396.588,1103.79 394.578,1137.27 \n  \"/>\n<polyline clip-path=\"url(#clip032)\" style=\"stroke:#000000; stroke-linecap:butt; stroke-linejoin:round; stroke-width:8; stroke-opacity:1; fill:none\" points=\"\n  396.588,1103.79 364.829,1158.79 \n  \"/>\n<path clip-path=\"url(#clip032)\" d=\"M523.622 1254.79 L440.486 1206.79 L440.486 1110.79 L523.622 1062.79 L606.758 1110.79 L606.758 1206.79 Z\" fill=\"#a3cee3\" fill-rule=\"evenodd\" fill-opacity=\"1\" stroke=\"#000000\" stroke-opacity=\"1\" stroke-width=\"4\"/>\n<polyline clip-path=\"url(#clip032)\" style=\"stroke:#000000; stroke-linecap:butt; stroke-linejoin:round; stroke-width:8; stroke-opacity:1; fill:none\" points=\"\n  523.622,1158.79 491.864,1103.79 \n  \"/>\n<polyline clip-path=\"url(#clip032)\" style=\"stroke:#000000; stroke-linecap:butt; stroke-linejoin:round; stroke-width:8; stroke-opacity:1; fill:none\" points=\"\n  493.873,1137.27 491.864,1103.79 519.854,1122.27 \n  \"/>\n<polyline clip-path=\"url(#clip032)\" style=\"stroke:#000000; stroke-linecap:butt; stroke-linejoin:round; stroke-width:8; stroke-opacity:1; fill:none\" points=\"\n  491.864,1103.79 523.622,1158.79 \n  \"/>\n<path clip-path=\"url(#clip032)\" d=\"M682.415 1254.79 L599.279 1206.79 L599.279 1110.79 L682.415 1062.79 L765.551 1110.79 L765.551 1206.79 Z\" fill=\"#b1d5e7\" fill-rule=\"evenodd\" fill-opacity=\"1\" stroke=\"#000000\" stroke-opacity=\"1\" stroke-width=\"4\"/>\n<polyline clip-path=\"url(#clip032)\" style=\"stroke:#000000; stroke-linecap:butt; stroke-linejoin:round; stroke-width:8; stroke-opacity:1; fill:none\" points=\"\n  682.415,1158.79 650.656,1103.79 \n  \"/>\n<polyline clip-path=\"url(#clip032)\" style=\"stroke:#000000; stroke-linecap:butt; stroke-linejoin:round; stroke-width:8; stroke-opacity:1; fill:none\" points=\"\n  652.666,1137.27 650.656,1103.79 678.647,1122.27 \n  \"/>\n<polyline clip-path=\"url(#clip032)\" style=\"stroke:#000000; stroke-linecap:butt; stroke-linejoin:round; stroke-width:8; stroke-opacity:1; fill:none\" points=\"\n  650.656,1103.79 682.415,1158.79 \n  \"/>\n<path clip-path=\"url(#clip032)\" d=\"M841.207 1254.79 L758.071 1206.79 L758.071 1110.79 L841.207 1062.79 L924.343 1110.79 L924.343 1206.79 Z\" fill=\"#c2ddeb\" fill-rule=\"evenodd\" fill-opacity=\"1\" stroke=\"#000000\" stroke-opacity=\"1\" stroke-width=\"4\"/>\n<polyline clip-path=\"url(#clip032)\" style=\"stroke:#000000; stroke-linecap:butt; stroke-linejoin:round; stroke-width:8; stroke-opacity:1; fill:none\" points=\"\n  841.207,1158.79 777.69,1158.79 \n  \"/>\n<polyline clip-path=\"url(#clip032)\" style=\"stroke:#000000; stroke-linecap:butt; stroke-linejoin:round; stroke-width:8; stroke-opacity:1; fill:none\" points=\"\n  807.69,1173.79 777.69,1158.79 807.69,1143.79 \n  \"/>\n<polyline clip-path=\"url(#clip032)\" style=\"stroke:#000000; stroke-linecap:butt; stroke-linejoin:round; stroke-width:8; stroke-opacity:1; fill:none\" points=\"\n  777.69,1158.79 841.207,1158.79 \n  \"/>\n<path clip-path=\"url(#clip032)\" d=\"M1000 1254.79 L916.864 1206.79 L916.864 1110.79 L1000 1062.79 L1083.14 1110.79 L1083.14 1206.79 Z\" fill=\"#c4deec\" fill-rule=\"evenodd\" fill-opacity=\"1\" stroke=\"#000000\" stroke-opacity=\"1\" stroke-width=\"4\"/>\n<polyline clip-path=\"url(#clip032)\" style=\"stroke:#000000; stroke-linecap:butt; stroke-linejoin:round; stroke-width:8; stroke-opacity:1; fill:none\" points=\"\n  1000,1158.79 1063.52,1158.79 \n  \"/>\n<polyline clip-path=\"url(#clip032)\" style=\"stroke:#000000; stroke-linecap:butt; stroke-linejoin:round; stroke-width:8; stroke-opacity:1; fill:none\" points=\"\n  1033.52,1143.79 1063.52,1158.79 1033.52,1173.79 \n  \"/>\n<polyline clip-path=\"url(#clip032)\" style=\"stroke:#000000; stroke-linecap:butt; stroke-linejoin:round; stroke-width:8; stroke-opacity:1; fill:none\" points=\"\n  1063.52,1158.79 1000,1158.79 \n  \"/>\n<path clip-path=\"url(#clip032)\" d=\"M1158.79 1254.79 L1075.66 1206.79 L1075.66 1110.79 L1158.79 1062.79 L1241.93 1110.79 L1241.93 1206.79 Z\" fill=\"#b2d5e7\" fill-rule=\"evenodd\" fill-opacity=\"1\" stroke=\"#000000\" stroke-opacity=\"1\" stroke-width=\"4\"/>\n<polyline clip-path=\"url(#clip032)\" style=\"stroke:#000000; stroke-linecap:butt; stroke-linejoin:round; stroke-width:8; stroke-opacity:1; fill:none\" points=\"\n  1158.79,1158.79 1222.31,1158.79 \n  \"/>\n<polyline clip-path=\"url(#clip032)\" style=\"stroke:#000000; stroke-linecap:butt; stroke-linejoin:round; stroke-width:8; stroke-opacity:1; fill:none\" points=\"\n  1192.31,1143.79 1222.31,1158.79 1192.31,1173.79 \n  \"/>\n<polyline clip-path=\"url(#clip032)\" style=\"stroke:#000000; stroke-linecap:butt; stroke-linejoin:round; stroke-width:8; stroke-opacity:1; fill:none\" points=\"\n  1222.31,1158.79 1158.79,1158.79 \n  \"/>\n<path clip-path=\"url(#clip032)\" d=\"M1317.59 1254.79 L1234.45 1206.79 L1234.45 1110.79 L1317.59 1062.79 L1400.72 1110.79 L1400.72 1206.79 Z\" fill=\"#97c7df\" fill-rule=\"evenodd\" fill-opacity=\"1\" stroke=\"#000000\" stroke-opacity=\"1\" stroke-width=\"4\"/>\n<polyline clip-path=\"url(#clip032)\" style=\"stroke:#000000; stroke-linecap:butt; stroke-linejoin:round; stroke-width:8; stroke-opacity:1; fill:none\" points=\"\n  1317.59,1158.79 1381.1,1158.79 \n  \"/>\n<polyline clip-path=\"url(#clip032)\" style=\"stroke:#000000; stroke-linecap:butt; stroke-linejoin:round; stroke-width:8; stroke-opacity:1; fill:none\" points=\"\n  1351.1,1143.79 1381.1,1158.79 1351.1,1173.79 \n  \"/>\n<polyline clip-path=\"url(#clip032)\" style=\"stroke:#000000; stroke-linecap:butt; stroke-linejoin:round; stroke-width:8; stroke-opacity:1; fill:none\" points=\"\n  1381.1,1158.79 1317.59,1158.79 \n  \"/>\n<path clip-path=\"url(#clip032)\" d=\"M1476.38 1254.79 L1393.24 1206.79 L1393.24 1110.79 L1476.38 1062.79 L1559.51 1110.79 L1559.51 1206.79 Z\" fill=\"#71b0d2\" fill-rule=\"evenodd\" fill-opacity=\"1\" stroke=\"#000000\" stroke-opacity=\"1\" stroke-width=\"4\"/>\n<polyline clip-path=\"url(#clip032)\" style=\"stroke:#000000; stroke-linecap:butt; stroke-linejoin:round; stroke-width:8; stroke-opacity:1; fill:none\" points=\"\n  1476.38,1158.79 1539.9,1158.79 \n  \"/>\n<polyline clip-path=\"url(#clip032)\" style=\"stroke:#000000; stroke-linecap:butt; stroke-linejoin:round; stroke-width:8; stroke-opacity:1; fill:none\" points=\"\n  1509.9,1143.79 1539.9,1158.79 1509.9,1173.79 \n  \"/>\n<polyline clip-path=\"url(#clip032)\" style=\"stroke:#000000; stroke-linecap:butt; stroke-linejoin:round; stroke-width:8; stroke-opacity:1; fill:none\" points=\"\n  1539.9,1158.79 1476.38,1158.79 \n  \"/>\n<path clip-path=\"url(#clip032)\" d=\"M1635.17 1254.79 L1552.03 1206.79 L1552.03 1110.79 L1635.17 1062.79 L1718.31 1110.79 L1718.31 1206.79 Z\" fill=\"#519cc8\" fill-rule=\"evenodd\" fill-opacity=\"1\" stroke=\"#000000\" stroke-opacity=\"1\" stroke-width=\"4\"/>\n<polyline clip-path=\"url(#clip032)\" style=\"stroke:#000000; stroke-linecap:butt; stroke-linejoin:round; stroke-width:8; stroke-opacity:1; fill:none\" points=\"\n  1635.17,1158.79 1666.93,1103.79 \n  \"/>\n<polyline clip-path=\"url(#clip032)\" style=\"stroke:#000000; stroke-linecap:butt; stroke-linejoin:round; stroke-width:8; stroke-opacity:1; fill:none\" points=\"\n  1638.94,1122.27 1666.93,1103.79 1664.92,1137.27 \n  \"/>\n<polyline clip-path=\"url(#clip032)\" style=\"stroke:#000000; stroke-linecap:butt; stroke-linejoin:round; stroke-width:8; stroke-opacity:1; fill:none\" points=\"\n  1666.93,1103.79 1635.17,1158.79 \n  \"/>\n<path clip-path=\"url(#clip032)\" d=\"M1793.96 1254.79 L1710.83 1206.79 L1710.83 1110.79 L1793.96 1062.79 L1877.1 1110.79 L1877.1 1206.79 Z\" fill=\"#559ec9\" fill-rule=\"evenodd\" fill-opacity=\"1\" stroke=\"#000000\" stroke-opacity=\"1\" stroke-width=\"4\"/>\n<polyline clip-path=\"url(#clip032)\" style=\"stroke:#000000; stroke-linecap:butt; stroke-linejoin:round; stroke-width:8; stroke-opacity:1; fill:none\" points=\"\n  1793.96,1158.79 1762.2,1103.79 \n  \"/>\n<polyline clip-path=\"url(#clip032)\" style=\"stroke:#000000; stroke-linecap:butt; stroke-linejoin:round; stroke-width:8; stroke-opacity:1; fill:none\" points=\"\n  1764.21,1137.27 1762.2,1103.79 1790.2,1122.27 \n  \"/>\n<polyline clip-path=\"url(#clip032)\" style=\"stroke:#000000; stroke-linecap:butt; stroke-linejoin:round; stroke-width:8; stroke-opacity:1; fill:none\" points=\"\n  1762.2,1103.79 1793.96,1158.79 \n  \"/>\n<path clip-path=\"url(#clip032)\" d=\"M444.226 1117.27 L361.09 1069.27 L361.09 973.274 L444.226 925.274 L527.362 973.274 L527.362 1069.27 Z\" fill=\"#92c5de\" fill-rule=\"evenodd\" fill-opacity=\"1\" stroke=\"#000000\" stroke-opacity=\"1\" stroke-width=\"4\"/>\n<polyline clip-path=\"url(#clip032)\" style=\"stroke:#000000; stroke-linecap:butt; stroke-linejoin:round; stroke-width:8; stroke-opacity:1; fill:none\" points=\"\n  444.226,1021.27 507.743,1021.27 \n  \"/>\n<polyline clip-path=\"url(#clip032)\" style=\"stroke:#000000; stroke-linecap:butt; stroke-linejoin:round; stroke-width:8; stroke-opacity:1; fill:none\" points=\"\n  477.743,1006.27 507.743,1021.27 477.743,1036.27 \n  \"/>\n<polyline clip-path=\"url(#clip032)\" style=\"stroke:#000000; stroke-linecap:butt; stroke-linejoin:round; stroke-width:8; stroke-opacity:1; fill:none\" points=\"\n  507.743,1021.27 444.226,1021.27 \n  \"/>\n<path clip-path=\"url(#clip032)\" d=\"M603.018 1117.27 L519.882 1069.27 L519.882 973.274 L603.018 925.274 L686.154 973.274 L686.154 1069.27 Z\" fill=\"#a3cde3\" fill-rule=\"evenodd\" fill-opacity=\"1\" stroke=\"#000000\" stroke-opacity=\"1\" stroke-width=\"4\"/>\n<polyline clip-path=\"url(#clip032)\" style=\"stroke:#000000; stroke-linecap:butt; stroke-linejoin:round; stroke-width:8; stroke-opacity:1; fill:none\" points=\"\n  603.018,1021.27 539.501,1021.27 \n  \"/>\n<polyline clip-path=\"url(#clip032)\" style=\"stroke:#000000; stroke-linecap:butt; stroke-linejoin:round; stroke-width:8; stroke-opacity:1; fill:none\" points=\"\n  569.501,1036.27 539.501,1021.27 569.501,1006.27 \n  \"/>\n<polyline clip-path=\"url(#clip032)\" style=\"stroke:#000000; stroke-linecap:butt; stroke-linejoin:round; stroke-width:8; stroke-opacity:1; fill:none\" points=\"\n  539.501,1021.27 603.018,1021.27 \n  \"/>\n<path clip-path=\"url(#clip032)\" d=\"M761.811 1117.27 L678.675 1069.27 L678.675 973.274 L761.811 925.274 L844.947 973.274 L844.947 1069.27 Z\" fill=\"#bbdae9\" fill-rule=\"evenodd\" fill-opacity=\"1\" stroke=\"#000000\" stroke-opacity=\"1\" stroke-width=\"4\"/>\n<polyline clip-path=\"url(#clip032)\" style=\"stroke:#000000; stroke-linecap:butt; stroke-linejoin:round; stroke-width:8; stroke-opacity:1; fill:none\" points=\"\n  761.811,1021.27 730.052,1076.28 \n  \"/>\n<polyline clip-path=\"url(#clip032)\" style=\"stroke:#000000; stroke-linecap:butt; stroke-linejoin:round; stroke-width:8; stroke-opacity:1; fill:none\" points=\"\n  758.043,1057.8 730.052,1076.28 732.062,1042.8 \n  \"/>\n<polyline clip-path=\"url(#clip032)\" style=\"stroke:#000000; stroke-linecap:butt; stroke-linejoin:round; stroke-width:8; stroke-opacity:1; fill:none\" points=\"\n  730.052,1076.28 761.811,1021.27 \n  \"/>\n<path clip-path=\"url(#clip032)\" d=\"M1079.4 1117.27 L996.26 1069.27 L996.26 973.274 L1079.4 925.274 L1162.53 973.274 L1162.53 1069.27 Z\" fill=\"#c4deec\" fill-rule=\"evenodd\" fill-opacity=\"1\" stroke=\"#000000\" stroke-opacity=\"1\" stroke-width=\"4\"/>\n<polyline clip-path=\"url(#clip032)\" style=\"stroke:#000000; stroke-linecap:butt; stroke-linejoin:round; stroke-width:8; stroke-opacity:1; fill:none\" points=\"\n  1079.4,1021.27 1111.15,1076.28 \n  \"/>\n<polyline clip-path=\"url(#clip032)\" style=\"stroke:#000000; stroke-linecap:butt; stroke-linejoin:round; stroke-width:8; stroke-opacity:1; fill:none\" points=\"\n  1109.15,1042.8 1111.15,1076.28 1083.16,1057.8 \n  \"/>\n<polyline clip-path=\"url(#clip032)\" style=\"stroke:#000000; stroke-linecap:butt; stroke-linejoin:round; stroke-width:8; stroke-opacity:1; fill:none\" points=\"\n  1111.15,1076.28 1079.4,1021.27 \n  \"/>\n<path clip-path=\"url(#clip032)\" d=\"M1555.77 1117.27 L1472.64 1069.27 L1472.64 973.274 L1555.77 925.274 L1638.91 973.274 L1638.91 1069.27 Z\" fill=\"#559ec9\" fill-rule=\"evenodd\" fill-opacity=\"1\" stroke=\"#000000\" stroke-opacity=\"1\" stroke-width=\"4\"/>\n<polyline clip-path=\"url(#clip032)\" style=\"stroke:#000000; stroke-linecap:butt; stroke-linejoin:round; stroke-width:8; stroke-opacity:1; fill:none\" points=\"\n  1555.77,1021.27 1619.29,1021.27 \n  \"/>\n<polyline clip-path=\"url(#clip032)\" style=\"stroke:#000000; stroke-linecap:butt; stroke-linejoin:round; stroke-width:8; stroke-opacity:1; fill:none\" points=\"\n  1589.29,1006.27 1619.29,1021.27 1589.29,1036.27 \n  \"/>\n<polyline clip-path=\"url(#clip032)\" style=\"stroke:#000000; stroke-linecap:butt; stroke-linejoin:round; stroke-width:8; stroke-opacity:1; fill:none\" points=\"\n  1619.29,1021.27 1555.77,1021.27 \n  \"/>\n<path clip-path=\"url(#clip032)\" d=\"M1714.57 1117.27 L1631.43 1069.27 L1631.43 973.274 L1714.57 925.274 L1797.7 973.274 L1797.7 1069.27 Z\" fill=\"#3985bc\" fill-rule=\"evenodd\" fill-opacity=\"1\" stroke=\"#000000\" stroke-opacity=\"1\" stroke-width=\"4\"/>\n<polyline clip-path=\"url(#clip032)\" style=\"stroke:#000000; stroke-linecap:butt; stroke-linejoin:round; stroke-width:8; stroke-opacity:1; fill:none\" points=\"\n  1714.57,1021.27 1746.33,966.267 \n  \"/>\n<polyline clip-path=\"url(#clip032)\" style=\"stroke:#000000; stroke-linecap:butt; stroke-linejoin:round; stroke-width:8; stroke-opacity:1; fill:none\" points=\"\n  1718.34,984.748 1746.33,966.267 1744.32,999.748 \n  \"/>\n<polyline clip-path=\"url(#clip032)\" style=\"stroke:#000000; stroke-linecap:butt; stroke-linejoin:round; stroke-width:8; stroke-opacity:1; fill:none\" points=\"\n  1746.33,966.267 1714.57,1021.27 \n  \"/>\n<path clip-path=\"url(#clip032)\" d=\"M364.829 979.756 L281.693 931.756 L281.693 835.756 L364.829 787.756 L447.965 835.756 L447.965 931.756 Z\" fill=\"#a7d0e4\" fill-rule=\"evenodd\" fill-opacity=\"1\" stroke=\"#000000\" stroke-opacity=\"1\" stroke-width=\"4\"/>\n<polyline clip-path=\"url(#clip032)\" style=\"stroke:#000000; stroke-linecap:butt; stroke-linejoin:round; stroke-width:8; stroke-opacity:1; fill:none\" points=\"\n  364.829,883.756 396.588,938.763 \n  \"/>\n<polyline clip-path=\"url(#clip032)\" style=\"stroke:#000000; stroke-linecap:butt; stroke-linejoin:round; stroke-width:8; stroke-opacity:1; fill:none\" points=\"\n  394.578,905.282 396.588,938.763 368.598,920.282 \n  \"/>\n<polyline clip-path=\"url(#clip032)\" style=\"stroke:#000000; stroke-linecap:butt; stroke-linejoin:round; stroke-width:8; stroke-opacity:1; fill:none\" points=\"\n  396.588,938.763 364.829,883.756 \n  \"/>\n<path clip-path=\"url(#clip032)\" d=\"M523.622 979.756 L440.486 931.756 L440.486 835.756 L523.622 787.756 L606.758 835.756 L606.758 931.756 Z\" fill=\"#a3cee3\" fill-rule=\"evenodd\" fill-opacity=\"1\" stroke=\"#000000\" stroke-opacity=\"1\" stroke-width=\"4\"/>\n<polyline clip-path=\"url(#clip032)\" style=\"stroke:#000000; stroke-linecap:butt; stroke-linejoin:round; stroke-width:8; stroke-opacity:1; fill:none\" points=\"\n  523.622,883.756 491.864,938.763 \n  \"/>\n<polyline clip-path=\"url(#clip032)\" style=\"stroke:#000000; stroke-linecap:butt; stroke-linejoin:round; stroke-width:8; stroke-opacity:1; fill:none\" points=\"\n  519.854,920.282 491.864,938.763 493.873,905.282 \n  \"/>\n<polyline clip-path=\"url(#clip032)\" style=\"stroke:#000000; stroke-linecap:butt; stroke-linejoin:round; stroke-width:8; stroke-opacity:1; fill:none\" points=\"\n  491.864,938.763 523.622,883.756 \n  \"/>\n<path clip-path=\"url(#clip032)\" d=\"M682.415 979.756 L599.279 931.756 L599.279 835.756 L682.415 787.756 L765.551 835.756 L765.551 931.756 Z\" fill=\"#b1172b\" fill-rule=\"evenodd\" fill-opacity=\"1\" stroke=\"#000000\" stroke-opacity=\"1\" stroke-width=\"4\"/>\n<polyline clip-path=\"url(#clip032)\" style=\"stroke:#000000; stroke-linecap:butt; stroke-linejoin:round; stroke-width:8; stroke-opacity:1; fill:none\" points=\"\n  682.415,883.756 745.932,883.756 \n  \"/>\n<polyline clip-path=\"url(#clip032)\" style=\"stroke:#000000; stroke-linecap:butt; stroke-linejoin:round; stroke-width:8; stroke-opacity:1; fill:none\" points=\"\n  715.932,868.756 745.932,883.756 715.932,898.756 \n  \"/>\n<polyline clip-path=\"url(#clip032)\" style=\"stroke:#000000; stroke-linecap:butt; stroke-linejoin:round; stroke-width:8; stroke-opacity:1; fill:none\" points=\"\n  745.932,883.756 682.415,883.756 \n  \"/>\n<path clip-path=\"url(#clip032)\" d=\"M841.207 979.756 L758.071 931.756 L758.071 835.756 L841.207 787.756 L924.343 835.756 L924.343 931.756 Z\" fill=\"#ecf1f5\" fill-rule=\"evenodd\" fill-opacity=\"1\" stroke=\"#000000\" stroke-opacity=\"1\" stroke-width=\"4\"/>\n<polyline clip-path=\"url(#clip032)\" style=\"stroke:#000000; stroke-linecap:butt; stroke-linejoin:round; stroke-width:8; stroke-opacity:1; fill:none\" points=\"\n  841.207,883.756 809.449,938.763 \n  \"/>\n<polyline clip-path=\"url(#clip032)\" style=\"stroke:#000000; stroke-linecap:butt; stroke-linejoin:round; stroke-width:8; stroke-opacity:1; fill:none\" points=\"\n  837.439,920.282 809.449,938.763 811.458,905.282 \n  \"/>\n<polyline clip-path=\"url(#clip032)\" style=\"stroke:#000000; stroke-linecap:butt; stroke-linejoin:round; stroke-width:8; stroke-opacity:1; fill:none\" points=\"\n  809.449,938.763 841.207,883.756 \n  \"/>\n<path clip-path=\"url(#clip032)\" d=\"M1158.79 979.756 L1075.66 931.756 L1075.66 835.756 L1158.79 787.756 L1241.93 835.756 L1241.93 931.756 Z\" fill=\"#bbd9e9\" fill-rule=\"evenodd\" fill-opacity=\"1\" stroke=\"#000000\" stroke-opacity=\"1\" stroke-width=\"4\"/>\n<polyline clip-path=\"url(#clip032)\" style=\"stroke:#000000; stroke-linecap:butt; stroke-linejoin:round; stroke-width:8; stroke-opacity:1; fill:none\" points=\"\n  1158.79,883.756 1222.31,883.756 \n  \"/>\n<polyline clip-path=\"url(#clip032)\" style=\"stroke:#000000; stroke-linecap:butt; stroke-linejoin:round; stroke-width:8; stroke-opacity:1; fill:none\" points=\"\n  1192.31,868.756 1222.31,883.756 1192.31,898.756 \n  \"/>\n<polyline clip-path=\"url(#clip032)\" style=\"stroke:#000000; stroke-linecap:butt; stroke-linejoin:round; stroke-width:8; stroke-opacity:1; fill:none\" points=\"\n  1222.31,883.756 1158.79,883.756 \n  \"/>\n<path clip-path=\"url(#clip032)\" d=\"M1317.59 979.756 L1234.45 931.756 L1234.45 835.756 L1317.59 787.756 L1400.72 835.756 L1400.72 931.756 Z\" fill=\"#a1cce2\" fill-rule=\"evenodd\" fill-opacity=\"1\" stroke=\"#000000\" stroke-opacity=\"1\" stroke-width=\"4\"/>\n<polyline clip-path=\"url(#clip032)\" style=\"stroke:#000000; stroke-linecap:butt; stroke-linejoin:round; stroke-width:8; stroke-opacity:1; fill:none\" points=\"\n  1317.59,883.756 1381.1,883.756 \n  \"/>\n<polyline clip-path=\"url(#clip032)\" style=\"stroke:#000000; stroke-linecap:butt; stroke-linejoin:round; stroke-width:8; stroke-opacity:1; fill:none\" points=\"\n  1351.1,868.756 1381.1,883.756 1351.1,898.756 \n  \"/>\n<polyline clip-path=\"url(#clip032)\" style=\"stroke:#000000; stroke-linecap:butt; stroke-linejoin:round; stroke-width:8; stroke-opacity:1; fill:none\" points=\"\n  1381.1,883.756 1317.59,883.756 \n  \"/>\n<path clip-path=\"url(#clip032)\" d=\"M1476.38 979.756 L1393.24 931.756 L1393.24 835.756 L1476.38 787.756 L1559.51 835.756 L1559.51 931.756 Z\" fill=\"#80b9d8\" fill-rule=\"evenodd\" fill-opacity=\"1\" stroke=\"#000000\" stroke-opacity=\"1\" stroke-width=\"4\"/>\n<polyline clip-path=\"url(#clip032)\" style=\"stroke:#000000; stroke-linecap:butt; stroke-linejoin:round; stroke-width:8; stroke-opacity:1; fill:none\" points=\"\n  1476.38,883.756 1508.14,938.763 \n  \"/>\n<polyline clip-path=\"url(#clip032)\" style=\"stroke:#000000; stroke-linecap:butt; stroke-linejoin:round; stroke-width:8; stroke-opacity:1; fill:none\" points=\"\n  1506.13,905.282 1508.14,938.763 1480.15,920.282 \n  \"/>\n<polyline clip-path=\"url(#clip032)\" style=\"stroke:#000000; stroke-linecap:butt; stroke-linejoin:round; stroke-width:8; stroke-opacity:1; fill:none\" points=\"\n  1508.14,938.763 1476.38,883.756 \n  \"/>\n<path clip-path=\"url(#clip032)\" d=\"M1793.96 979.756 L1710.83 931.756 L1710.83 835.756 L1793.96 787.756 L1877.1 835.756 L1877.1 931.756 Z\" fill=\"#2066ac\" fill-rule=\"evenodd\" fill-opacity=\"1\" stroke=\"#000000\" stroke-opacity=\"1\" stroke-width=\"4\"/>\n<polyline clip-path=\"url(#clip032)\" style=\"stroke:#000000; stroke-linecap:butt; stroke-linejoin:round; stroke-width:8; stroke-opacity:1; fill:none\" points=\"\n  1793.96,883.756 1857.48,883.756 \n  \"/>\n<polyline clip-path=\"url(#clip032)\" style=\"stroke:#000000; stroke-linecap:butt; stroke-linejoin:round; stroke-width:8; stroke-opacity:1; fill:none\" points=\"\n  1827.48,868.756 1857.48,883.756 1827.48,898.756 \n  \"/>\n<polyline clip-path=\"url(#clip032)\" style=\"stroke:#000000; stroke-linecap:butt; stroke-linejoin:round; stroke-width:8; stroke-opacity:1; fill:none\" points=\"\n  1857.48,883.756 1793.96,883.756 \n  \"/>\n</svg>\n"
     },
     "metadata": {},
     "output_type": "display_data"
    },
    {
     "name": "stdout",
     "output_type": "stream",
     "text": [
      "Convergence at step: 47\n"
     ]
    }
   ],
   "source": [
    "optimal_policy, optimal_utility = get_optimal_policy(general_hexworld, 100, 0.0)\n",
    "draw_result(general_hexworld, optimal_policy, optimal_utility, 24)"
   ]
  },
  {
   "cell_type": "code",
   "execution_count": 9,
   "metadata": {},
   "outputs": [
    {
     "data": {
      "image/svg+xml": "<?xml version=\"1.0\" encoding=\"utf-8\"?>\n<svg xmlns=\"http://www.w3.org/2000/svg\" xmlns:xlink=\"http://www.w3.org/1999/xlink\" width=\"500\" height=\"500\" viewBox=\"0 0 2000 2000\">\n<defs>\n  <clipPath id=\"clip060\">\n    <rect x=\"0\" y=\"0\" width=\"2000\" height=\"2000\"/>\n  </clipPath>\n</defs>\n<path clip-path=\"url(#clip060)\" d=\"\nM0 2000 L2000 2000 L2000 0 L0 0  Z\n  \" fill=\"#ffffff\" fill-rule=\"evenodd\" fill-opacity=\"1\"/>\n<defs>\n  <clipPath id=\"clip061\">\n    <rect x=\"400\" y=\"200\" width=\"1401\" height=\"1401\"/>\n  </clipPath>\n</defs>\n<path clip-path=\"url(#clip060)\" d=\"\nM47.2441 1952.76 L1952.76 1952.76 L1952.76 47.2441 L47.2441 47.2441  Z\n  \" fill=\"#ffffff\" fill-rule=\"evenodd\" fill-opacity=\"1\"/>\n<defs>\n  <clipPath id=\"clip062\">\n    <rect x=\"47\" y=\"47\" width=\"1907\" height=\"1907\"/>\n  </clipPath>\n</defs>\n<polyline clip-path=\"url(#clip060)\" style=\"stroke:#000000; stroke-linecap:butt; stroke-linejoin:round; stroke-width:4; stroke-opacity:1; fill:none\" points=\"\n  47.2441,1952.76 1952.76,1952.76 \n  \"/>\n<polyline clip-path=\"url(#clip060)\" style=\"stroke:#000000; stroke-linecap:butt; stroke-linejoin:round; stroke-width:4; stroke-opacity:1; fill:none\" points=\"\n  47.2441,1952.76 47.2441,47.2441 \n  \"/>\n<path clip-path=\"url(#clip062)\" d=\"M558.909 1358.79 L385.709 1258.79 L385.709 1058.79 L558.909 958.793 L732.109 1058.79 L732.109 1258.79 Z\" fill=\"#ffffff\" fill-rule=\"evenodd\" fill-opacity=\"1\" stroke=\"#000000\" stroke-opacity=\"1\" stroke-width=\"4\"/>\n<path clip-path=\"url(#clip062)\" d=\"M911.782 1358.79 L738.582 1258.79 L738.582 1058.79 L911.782 958.793 L1084.98 1058.79 L1084.98 1258.79 Z\" fill=\"#ffffff\" fill-rule=\"evenodd\" fill-opacity=\"1\" stroke=\"#000000\" stroke-opacity=\"1\" stroke-width=\"4\"/>\n<path clip-path=\"url(#clip062)\" d=\"M1264.65 1358.79 L1091.45 1258.79 L1091.45 1058.79 L1264.65 958.793 L1437.85 1058.79 L1437.85 1258.79 Z\" fill=\"#ffffff\" fill-rule=\"evenodd\" fill-opacity=\"1\" stroke=\"#000000\" stroke-opacity=\"1\" stroke-width=\"4\"/>\n<path clip-path=\"url(#clip062)\" d=\"M1617.53 1358.79 L1444.33 1258.79 L1444.33 1058.79 L1617.53 958.793 L1790.73 1058.79 L1790.73 1258.79 Z\" fill=\"#ffffff\" fill-rule=\"evenodd\" fill-opacity=\"1\" stroke=\"#000000\" stroke-opacity=\"1\" stroke-width=\"4\"/>\n<path clip-path=\"url(#clip062)\" d=\"M382.473 1053.2 L209.273 953.196 L209.273 753.196 L382.473 653.196 L555.673 753.196 L555.673 953.196 Z\" fill=\"#ffffff\" fill-rule=\"evenodd\" fill-opacity=\"1\" stroke=\"#000000\" stroke-opacity=\"1\" stroke-width=\"4\"/>\n<path clip-path=\"url(#clip062)\" d=\"M1793.96 1053.2 L1620.76 953.196 L1620.76 753.196 L1793.96 653.196 L1967.16 753.196 L1967.16 953.196 Z\" fill=\"#ffffff\" fill-rule=\"evenodd\" fill-opacity=\"1\" stroke=\"#000000\" stroke-opacity=\"1\" stroke-width=\"4\"/>\n<path clip-path=\"url(#clip062)\" d=\"M558.909 747.599 L385.709 647.599 L385.709 447.599 L558.909 347.599 L732.109 447.599 L732.109 647.599 Z\" fill=\"#ffffff\" fill-rule=\"evenodd\" fill-opacity=\"1\" stroke=\"#000000\" stroke-opacity=\"1\" stroke-width=\"4\"/>\n<path clip-path=\"url(#clip062)\" d=\"M911.782 747.599 L738.582 647.599 L738.582 447.599 L911.782 347.599 L1084.98 447.599 L1084.98 647.599 Z\" fill=\"#ffffff\" fill-rule=\"evenodd\" fill-opacity=\"1\" stroke=\"#000000\" stroke-opacity=\"1\" stroke-width=\"4\"/>\n<path clip-path=\"url(#clip062)\" d=\"M1264.65 747.599 L1091.45 647.599 L1091.45 447.599 L1264.65 347.599 L1437.85 447.599 L1437.85 647.599 Z\" fill=\"#ffffff\" fill-rule=\"evenodd\" fill-opacity=\"1\" stroke=\"#000000\" stroke-opacity=\"1\" stroke-width=\"4\"/>\n<path clip-path=\"url(#clip062)\" d=\"M1617.53 747.599 L1444.33 647.599 L1444.33 447.599 L1617.53 347.599 L1790.73 447.599 L1790.73 647.599 Z\" fill=\"#ffffff\" fill-rule=\"evenodd\" fill-opacity=\"1\" stroke=\"#000000\" stroke-opacity=\"1\" stroke-width=\"4\"/>\n<path clip-path=\"url(#clip062)\" d=\"M1264.65 747.599 L1091.45 647.599 L1091.45 447.599 L1264.65 347.599 L1437.85 447.599 L1437.85 647.599 Z\" fill=\"#2066ac\" fill-rule=\"evenodd\" fill-opacity=\"1\" stroke=\"#000000\" stroke-opacity=\"1\" stroke-width=\"4\"/>\n<polyline clip-path=\"url(#clip062)\" style=\"stroke:#000000; stroke-linecap:butt; stroke-linejoin:round; stroke-width:8; stroke-opacity:1; fill:none\" points=\"\n  1264.65,547.599 1264.65,547.599 \n  \"/>\n<polyline clip-path=\"url(#clip062)\" style=\"stroke:#000000; stroke-linecap:butt; stroke-linejoin:round; stroke-width:8; stroke-opacity:1; fill:none\" points=\"\n  -1.#IND,-1.#IND -1.#IND,-1.#IND -1.#IND,-1.#IND \n  \"/>\n<polyline clip-path=\"url(#clip062)\" style=\"stroke:#000000; stroke-linecap:butt; stroke-linejoin:round; stroke-width:8; stroke-opacity:1; fill:none\" points=\"\n  -1.#IND,-1.#IND -1.#IND,-1.#IND \n  \"/>\n</svg>\n"
     },
     "metadata": {},
     "output_type": "display_data"
    },
    {
     "data": {
      "image/svg+xml": "<?xml version=\"1.0\" encoding=\"utf-8\"?>\n<svg xmlns=\"http://www.w3.org/2000/svg\" xmlns:xlink=\"http://www.w3.org/1999/xlink\" width=\"500\" height=\"500\" viewBox=\"0 0 2000 2000\">\n<defs>\n  <clipPath id=\"clip090\">\n    <rect x=\"0\" y=\"0\" width=\"2000\" height=\"2000\"/>\n  </clipPath>\n</defs>\n<path clip-path=\"url(#clip090)\" d=\"\nM0 2000 L2000 2000 L2000 0 L0 0  Z\n  \" fill=\"#ffffff\" fill-rule=\"evenodd\" fill-opacity=\"1\"/>\n<defs>\n  <clipPath id=\"clip091\">\n    <rect x=\"400\" y=\"200\" width=\"1401\" height=\"1401\"/>\n  </clipPath>\n</defs>\n<path clip-path=\"url(#clip090)\" d=\"\nM47.2441 1952.76 L1952.76 1952.76 L1952.76 47.2441 L47.2441 47.2441  Z\n  \" fill=\"#ffffff\" fill-rule=\"evenodd\" fill-opacity=\"1\"/>\n<defs>\n  <clipPath id=\"clip092\">\n    <rect x=\"47\" y=\"47\" width=\"1907\" height=\"1907\"/>\n  </clipPath>\n</defs>\n<polyline clip-path=\"url(#clip090)\" style=\"stroke:#000000; stroke-linecap:butt; stroke-linejoin:round; stroke-width:4; stroke-opacity:1; fill:none\" points=\"\n  47.2441,1952.76 1952.76,1952.76 \n  \"/>\n<polyline clip-path=\"url(#clip090)\" style=\"stroke:#000000; stroke-linecap:butt; stroke-linejoin:round; stroke-width:4; stroke-opacity:1; fill:none\" points=\"\n  47.2441,1952.76 47.2441,47.2441 \n  \"/>\n<path clip-path=\"url(#clip092)\" d=\"M558.909 1358.79 L385.709 1258.79 L385.709 1058.79 L558.909 958.793 L732.109 1058.79 L732.109 1258.79 Z\" fill=\"#ffffff\" fill-rule=\"evenodd\" fill-opacity=\"1\" stroke=\"#000000\" stroke-opacity=\"1\" stroke-width=\"4\"/>\n<path clip-path=\"url(#clip092)\" d=\"M911.782 1358.79 L738.582 1258.79 L738.582 1058.79 L911.782 958.793 L1084.98 1058.79 L1084.98 1258.79 Z\" fill=\"#ffffff\" fill-rule=\"evenodd\" fill-opacity=\"1\" stroke=\"#000000\" stroke-opacity=\"1\" stroke-width=\"4\"/>\n<path clip-path=\"url(#clip092)\" d=\"M1264.65 1358.79 L1091.45 1258.79 L1091.45 1058.79 L1264.65 958.793 L1437.85 1058.79 L1437.85 1258.79 Z\" fill=\"#ffffff\" fill-rule=\"evenodd\" fill-opacity=\"1\" stroke=\"#000000\" stroke-opacity=\"1\" stroke-width=\"4\"/>\n<path clip-path=\"url(#clip092)\" d=\"M1617.53 1358.79 L1444.33 1258.79 L1444.33 1058.79 L1617.53 958.793 L1790.73 1058.79 L1790.73 1258.79 Z\" fill=\"#ffffff\" fill-rule=\"evenodd\" fill-opacity=\"1\" stroke=\"#000000\" stroke-opacity=\"1\" stroke-width=\"4\"/>\n<path clip-path=\"url(#clip092)\" d=\"M382.473 1053.2 L209.273 953.196 L209.273 753.196 L382.473 653.196 L555.673 753.196 L555.673 953.196 Z\" fill=\"#ffffff\" fill-rule=\"evenodd\" fill-opacity=\"1\" stroke=\"#000000\" stroke-opacity=\"1\" stroke-width=\"4\"/>\n<path clip-path=\"url(#clip092)\" d=\"M1793.96 1053.2 L1620.76 953.196 L1620.76 753.196 L1793.96 653.196 L1967.16 753.196 L1967.16 953.196 Z\" fill=\"#ffffff\" fill-rule=\"evenodd\" fill-opacity=\"1\" stroke=\"#000000\" stroke-opacity=\"1\" stroke-width=\"4\"/>\n<path clip-path=\"url(#clip092)\" d=\"M558.909 747.599 L385.709 647.599 L385.709 447.599 L558.909 347.599 L732.109 447.599 L732.109 647.599 Z\" fill=\"#ffffff\" fill-rule=\"evenodd\" fill-opacity=\"1\" stroke=\"#000000\" stroke-opacity=\"1\" stroke-width=\"4\"/>\n<path clip-path=\"url(#clip092)\" d=\"M911.782 747.599 L738.582 647.599 L738.582 447.599 L911.782 347.599 L1084.98 447.599 L1084.98 647.599 Z\" fill=\"#ffffff\" fill-rule=\"evenodd\" fill-opacity=\"1\" stroke=\"#000000\" stroke-opacity=\"1\" stroke-width=\"4\"/>\n<path clip-path=\"url(#clip092)\" d=\"M1264.65 747.599 L1091.45 647.599 L1091.45 447.599 L1264.65 347.599 L1437.85 447.599 L1437.85 647.599 Z\" fill=\"#ffffff\" fill-rule=\"evenodd\" fill-opacity=\"1\" stroke=\"#000000\" stroke-opacity=\"1\" stroke-width=\"4\"/>\n<path clip-path=\"url(#clip092)\" d=\"M1617.53 747.599 L1444.33 647.599 L1444.33 447.599 L1617.53 347.599 L1790.73 447.599 L1790.73 647.599 Z\" fill=\"#ffffff\" fill-rule=\"evenodd\" fill-opacity=\"1\" stroke=\"#000000\" stroke-opacity=\"1\" stroke-width=\"4\"/>\n<path clip-path=\"url(#clip092)\" d=\"M1264.65 747.599 L1091.45 647.599 L1091.45 447.599 L1264.65 347.599 L1437.85 447.599 L1437.85 647.599 Z\" fill=\"#2066ac\" fill-rule=\"evenodd\" fill-opacity=\"1\" stroke=\"#000000\" stroke-opacity=\"1\" stroke-width=\"4\"/>\n<polyline clip-path=\"url(#clip092)\" style=\"stroke:#000000; stroke-linecap:butt; stroke-linejoin:round; stroke-width:8; stroke-opacity:1; fill:none\" points=\"\n  1264.65,547.599 1264.65,547.599 \n  \"/>\n<polyline clip-path=\"url(#clip092)\" style=\"stroke:#000000; stroke-linecap:butt; stroke-linejoin:round; stroke-width:8; stroke-opacity:1; fill:none\" points=\"\n  -1.#IND,-1.#IND -1.#IND,-1.#IND -1.#IND,-1.#IND \n  \"/>\n<polyline clip-path=\"url(#clip092)\" style=\"stroke:#000000; stroke-linecap:butt; stroke-linejoin:round; stroke-width:8; stroke-opacity:1; fill:none\" points=\"\n  -1.#IND,-1.#IND -1.#IND,-1.#IND \n  \"/>\n<path clip-path=\"url(#clip092)\" d=\"M558.909 1358.79 L385.709 1258.79 L385.709 1058.79 L558.909 958.793 L732.109 1058.79 L732.109 1258.79 Z\" fill=\"#da6b55\" fill-rule=\"evenodd\" fill-opacity=\"1\" stroke=\"#000000\" stroke-opacity=\"1\" stroke-width=\"4\"/>\n<polyline clip-path=\"url(#clip092)\" style=\"stroke:#000000; stroke-linecap:butt; stroke-linejoin:round; stroke-width:8; stroke-opacity:1; fill:none\" points=\"\n  558.909,1158.79 488.335,1036.55 \n  \"/>\n<polyline clip-path=\"url(#clip092)\" style=\"stroke:#000000; stroke-linecap:butt; stroke-linejoin:round; stroke-width:8; stroke-opacity:1; fill:none\" points=\"\n  490.344,1070.03 488.335,1036.55 516.325,1055.03 \n  \"/>\n<polyline clip-path=\"url(#clip092)\" style=\"stroke:#000000; stroke-linecap:butt; stroke-linejoin:round; stroke-width:8; stroke-opacity:1; fill:none\" points=\"\n  488.335,1036.55 558.909,1158.79 \n  \"/>\n<path clip-path=\"url(#clip092)\" d=\"M911.782 1358.79 L738.582 1258.79 L738.582 1058.79 L911.782 958.793 L1084.98 1058.79 L1084.98 1258.79 Z\" fill=\"#b1172b\" fill-rule=\"evenodd\" fill-opacity=\"1\" stroke=\"#000000\" stroke-opacity=\"1\" stroke-width=\"4\"/>\n<polyline clip-path=\"url(#clip092)\" style=\"stroke:#000000; stroke-linecap:butt; stroke-linejoin:round; stroke-width:8; stroke-opacity:1; fill:none\" points=\"\n  911.782,1158.79 1052.93,1158.79 \n  \"/>\n<polyline clip-path=\"url(#clip092)\" style=\"stroke:#000000; stroke-linecap:butt; stroke-linejoin:round; stroke-width:8; stroke-opacity:1; fill:none\" points=\"\n  1022.93,1143.79 1052.93,1158.79 1022.93,1173.79 \n  \"/>\n<polyline clip-path=\"url(#clip092)\" style=\"stroke:#000000; stroke-linecap:butt; stroke-linejoin:round; stroke-width:8; stroke-opacity:1; fill:none\" points=\"\n  1052.93,1158.79 911.782,1158.79 \n  \"/>\n<path clip-path=\"url(#clip092)\" d=\"M1264.65 1358.79 L1091.45 1258.79 L1091.45 1058.79 L1264.65 958.793 L1437.85 1058.79 L1437.85 1258.79 Z\" fill=\"#da6b55\" fill-rule=\"evenodd\" fill-opacity=\"1\" stroke=\"#000000\" stroke-opacity=\"1\" stroke-width=\"4\"/>\n<polyline clip-path=\"url(#clip092)\" style=\"stroke:#000000; stroke-linecap:butt; stroke-linejoin:round; stroke-width:8; stroke-opacity:1; fill:none\" points=\"\n  1264.65,1158.79 1405.8,1158.79 \n  \"/>\n<polyline clip-path=\"url(#clip092)\" style=\"stroke:#000000; stroke-linecap:butt; stroke-linejoin:round; stroke-width:8; stroke-opacity:1; fill:none\" points=\"\n  1375.8,1143.79 1405.8,1158.79 1375.8,1173.79 \n  \"/>\n<polyline clip-path=\"url(#clip092)\" style=\"stroke:#000000; stroke-linecap:butt; stroke-linejoin:round; stroke-width:8; stroke-opacity:1; fill:none\" points=\"\n  1405.8,1158.79 1264.65,1158.79 \n  \"/>\n<path clip-path=\"url(#clip092)\" d=\"M1617.53 1358.79 L1444.33 1258.79 L1444.33 1058.79 L1617.53 958.793 L1790.73 1058.79 L1790.73 1258.79 Z\" fill=\"#f8c0a5\" fill-rule=\"evenodd\" fill-opacity=\"1\" stroke=\"#000000\" stroke-opacity=\"1\" stroke-width=\"4\"/>\n<polyline clip-path=\"url(#clip092)\" style=\"stroke:#000000; stroke-linecap:butt; stroke-linejoin:round; stroke-width:8; stroke-opacity:1; fill:none\" points=\"\n  1617.53,1158.79 1688.1,1036.55 \n  \"/>\n<polyline clip-path=\"url(#clip092)\" style=\"stroke:#000000; stroke-linecap:butt; stroke-linejoin:round; stroke-width:8; stroke-opacity:1; fill:none\" points=\"\n  1660.11,1055.03 1688.1,1036.55 1686.09,1070.03 \n  \"/>\n<polyline clip-path=\"url(#clip092)\" style=\"stroke:#000000; stroke-linecap:butt; stroke-linejoin:round; stroke-width:8; stroke-opacity:1; fill:none\" points=\"\n  1688.1,1036.55 1617.53,1158.79 \n  \"/>\n<path clip-path=\"url(#clip092)\" d=\"M382.473 1053.2 L209.273 953.196 L209.273 753.196 L382.473 653.196 L555.673 753.196 L555.673 953.196 Z\" fill=\"#f8c0a5\" fill-rule=\"evenodd\" fill-opacity=\"1\" stroke=\"#000000\" stroke-opacity=\"1\" stroke-width=\"4\"/>\n<polyline clip-path=\"url(#clip092)\" style=\"stroke:#000000; stroke-linecap:butt; stroke-linejoin:round; stroke-width:8; stroke-opacity:1; fill:none\" points=\"\n  382.473,853.196 453.048,730.957 \n  \"/>\n<polyline clip-path=\"url(#clip092)\" style=\"stroke:#000000; stroke-linecap:butt; stroke-linejoin:round; stroke-width:8; stroke-opacity:1; fill:none\" points=\"\n  425.057,749.438 453.048,730.957 451.038,764.438 \n  \"/>\n<polyline clip-path=\"url(#clip092)\" style=\"stroke:#000000; stroke-linecap:butt; stroke-linejoin:round; stroke-width:8; stroke-opacity:1; fill:none\" points=\"\n  453.048,730.957 382.473,853.196 \n  \"/>\n<path clip-path=\"url(#clip092)\" d=\"M1793.96 1053.2 L1620.76 953.196 L1620.76 753.196 L1793.96 653.196 L1967.16 753.196 L1967.16 953.196 Z\" fill=\"#f3f5f6\" fill-rule=\"evenodd\" fill-opacity=\"1\" stroke=\"#000000\" stroke-opacity=\"1\" stroke-width=\"4\"/>\n<polyline clip-path=\"url(#clip092)\" style=\"stroke:#000000; stroke-linecap:butt; stroke-linejoin:round; stroke-width:8; stroke-opacity:1; fill:none\" points=\"\n  1793.96,853.196 1723.39,730.957 \n  \"/>\n<polyline clip-path=\"url(#clip092)\" style=\"stroke:#000000; stroke-linecap:butt; stroke-linejoin:round; stroke-width:8; stroke-opacity:1; fill:none\" points=\"\n  1725.4,764.438 1723.39,730.957 1751.38,749.438 \n  \"/>\n<polyline clip-path=\"url(#clip092)\" style=\"stroke:#000000; stroke-linecap:butt; stroke-linejoin:round; stroke-width:8; stroke-opacity:1; fill:none\" points=\"\n  1723.39,730.957 1793.96,853.196 \n  \"/>\n<path clip-path=\"url(#clip092)\" d=\"M558.909 747.599 L385.709 647.599 L385.709 447.599 L558.909 347.599 L732.109 447.599 L732.109 647.599 Z\" fill=\"#f3f5f6\" fill-rule=\"evenodd\" fill-opacity=\"1\" stroke=\"#000000\" stroke-opacity=\"1\" stroke-width=\"4\"/>\n<polyline clip-path=\"url(#clip092)\" style=\"stroke:#000000; stroke-linecap:butt; stroke-linejoin:round; stroke-width:8; stroke-opacity:1; fill:none\" points=\"\n  558.909,547.599 700.058,547.599 \n  \"/>\n<polyline clip-path=\"url(#clip092)\" style=\"stroke:#000000; stroke-linecap:butt; stroke-linejoin:round; stroke-width:8; stroke-opacity:1; fill:none\" points=\"\n  670.058,532.599 700.058,547.599 670.058,562.599 \n  \"/>\n<polyline clip-path=\"url(#clip092)\" style=\"stroke:#000000; stroke-linecap:butt; stroke-linejoin:round; stroke-width:8; stroke-opacity:1; fill:none\" points=\"\n  700.058,547.599 558.909,547.599 \n  \"/>\n<path clip-path=\"url(#clip092)\" d=\"M911.782 747.599 L738.582 647.599 L738.582 447.599 L911.782 347.599 L1084.98 447.599 L1084.98 647.599 Z\" fill=\"#98c8df\" fill-rule=\"evenodd\" fill-opacity=\"1\" stroke=\"#000000\" stroke-opacity=\"1\" stroke-width=\"4\"/>\n<polyline clip-path=\"url(#clip092)\" style=\"stroke:#000000; stroke-linecap:butt; stroke-linejoin:round; stroke-width:8; stroke-opacity:1; fill:none\" points=\"\n  911.782,547.599 1052.93,547.599 \n  \"/>\n<polyline clip-path=\"url(#clip092)\" style=\"stroke:#000000; stroke-linecap:butt; stroke-linejoin:round; stroke-width:8; stroke-opacity:1; fill:none\" points=\"\n  1022.93,532.599 1052.93,547.599 1022.93,562.599 \n  \"/>\n<polyline clip-path=\"url(#clip092)\" style=\"stroke:#000000; stroke-linecap:butt; stroke-linejoin:round; stroke-width:8; stroke-opacity:1; fill:none\" points=\"\n  1052.93,547.599 911.782,547.599 \n  \"/>\n<path clip-path=\"url(#clip092)\" d=\"M1264.65 747.599 L1091.45 647.599 L1091.45 447.599 L1264.65 347.599 L1437.85 447.599 L1437.85 647.599 Z\" fill=\"#2066ac\" fill-rule=\"evenodd\" fill-opacity=\"1\" stroke=\"#000000\" stroke-opacity=\"1\" stroke-width=\"4\"/>\n<polyline clip-path=\"url(#clip092)\" style=\"stroke:#000000; stroke-linecap:butt; stroke-linejoin:round; stroke-width:8; stroke-opacity:1; fill:none\" points=\"\n  1264.65,547.599 1405.8,547.599 \n  \"/>\n<polyline clip-path=\"url(#clip092)\" style=\"stroke:#000000; stroke-linecap:butt; stroke-linejoin:round; stroke-width:8; stroke-opacity:1; fill:none\" points=\"\n  1375.8,532.599 1405.8,547.599 1375.8,562.599 \n  \"/>\n<polyline clip-path=\"url(#clip092)\" style=\"stroke:#000000; stroke-linecap:butt; stroke-linejoin:round; stroke-width:8; stroke-opacity:1; fill:none\" points=\"\n  1405.8,547.599 1264.65,547.599 \n  \"/>\n<path clip-path=\"url(#clip092)\" d=\"M1617.53 747.599 L1444.33 647.599 L1444.33 447.599 L1617.53 347.599 L1790.73 447.599 L1790.73 647.599 Z\" fill=\"#98c8df\" fill-rule=\"evenodd\" fill-opacity=\"1\" stroke=\"#000000\" stroke-opacity=\"1\" stroke-width=\"4\"/>\n<polyline clip-path=\"url(#clip092)\" style=\"stroke:#000000; stroke-linecap:butt; stroke-linejoin:round; stroke-width:8; stroke-opacity:1; fill:none\" points=\"\n  1617.53,547.599 1476.38,547.599 \n  \"/>\n<polyline clip-path=\"url(#clip092)\" style=\"stroke:#000000; stroke-linecap:butt; stroke-linejoin:round; stroke-width:8; stroke-opacity:1; fill:none\" points=\"\n  1506.38,562.599 1476.38,547.599 1506.38,532.599 \n  \"/>\n<polyline clip-path=\"url(#clip092)\" style=\"stroke:#000000; stroke-linecap:butt; stroke-linejoin:round; stroke-width:8; stroke-opacity:1; fill:none\" points=\"\n  1476.38,547.599 1617.53,547.599 \n  \"/>\n</svg>\n"
     },
     "metadata": {},
     "output_type": "display_data"
    },
    {
     "name": "stdout",
     "output_type": "stream",
     "text": [
      "Convergence at step: 42\n"
     ]
    }
   ],
   "source": [
    "optimal_policy, optimal_utility = get_optimal_policy(ring_hexworld, 100, 0.0)\n",
    "draw_result(ring_hexworld, optimal_policy, optimal_utility, 50)"
   ]
  },
  {
   "cell_type": "markdown",
   "metadata": {},
   "source": [
    "# Monte Carlo Estimation"
   ]
  },
  {
   "cell_type": "code",
   "execution_count": 10,
   "metadata": {},
   "outputs": [
    {
     "data": {
      "text/plain": [
       "simulate (generic function with 1 method)"
      ]
     },
     "execution_count": 10,
     "metadata": {},
     "output_type": "execute_result"
    }
   ],
   "source": [
    "using Random, Distributions    \n",
    "Random.seed!(0)\n",
    "\n",
    "function simulate(hex_world::HexWorld, s, policy)\n",
    "    nA = length(hex_direction)\n",
    "    hex2state = Dict{Tuple{Int, Int}, Int}()\n",
    "    for (s, hex) in enumerate(hex_world.hexes)\n",
    "        hex2state[hex] = s\n",
    "    end\n",
    "    p_veer = (1.0 - hex_world.p_intended) / 2\n",
    "    p_intended = hex_world.p_intended\n",
    "\n",
    "    u = 0\n",
    "    while true\n",
    "        hex = hex_world.hexes[s]\n",
    "        # return if reach reward hex\n",
    "        if haskey(hex_world.reward_hexes, hex)\n",
    "            u = u + hex_world.reward_hexes[hex]\n",
    "            return u\n",
    "        end\n",
    "        # generate next hex\n",
    "        a = policy[s]\n",
    "        S = [a, mod1(a - 1, nA), mod1(a - 1, nA)]\n",
    "        next_direction = S[rand(Categorical([p_intended, p_veer, p_veer]))]\n",
    "        next_hex = hex + hex_direction[next_direction]\n",
    "        if !haskey(hex2state, next_hex)\n",
    "            next_hex = hex\n",
    "            u += hex_world.reward_border\n",
    "        end\n",
    "        s = hex2state[next_hex]\n",
    "    end\n",
    "end"
   ]
  },
  {
   "cell_type": "code",
   "execution_count": 13,
   "metadata": {},
   "outputs": [
    {
     "data": {
      "text/plain": [
       "monte_carlo (generic function with 1 method)"
      ]
     },
     "execution_count": 13,
     "metadata": {},
     "output_type": "execute_result"
    }
   ],
   "source": [
    "function monte_carlo(hex_world::HexWorld, policy, n_step::Int)\n",
    "    nS = length(hex_world.hexes)\n",
    "    U = zeros(nS)\n",
    "    for s in 1:nS\n",
    "        for k in 1:n_step\n",
    "            U[s] += simulate(hex_world, s, policy)\n",
    "        end\n",
    "        U[s] /= n_step\n",
    "    end\n",
    "    return U\n",
    "end\n"
   ]
  },
  {
   "cell_type": "code",
   "execution_count": 17,
   "metadata": {},
   "outputs": [
    {
     "name": "stdout",
     "output_type": "stream",
     "text": [
      "Convergence at step: 47\n",
      "[4.572769, 4.871881, 4.935167, 4.50621, 8.365603, 8.495802, 8.925527, 9.353909, 9.443543, 9.532847, 5.0, 4.961483, 4.806802, 8.065815, 9.142312, 9.572237, 4.996535, 4.988439, -10.0, 4.377015, 7.857753, 8.285661, 8.714391, 10.0]\n",
      "[4.1377814603755985, 4.290229357221428, 3.7467540353005524, 3.079491445840049, 3.0134940431880235, 3.729921669090884, 4.798163203867214, 6.03596688702074, 7.04438270191447, 6.9122241116061, 5.0, 4.308361926449786, 3.357815247498476, 3.0134940431880235, 6.9122241116061, 8.219178082191782, 4.1377814603755985, 4.290229357221427, -10.0, 0.7114723767907971, 3.371243165298099, 4.382551604234305, 5.554385192208004, 10.0]\n"
     ]
    }
   ],
   "source": [
    "optimal_policy, optimal_utility = get_optimal_policy(general_hexworld, 100, 0.0)\n",
    "monte_utility = monte_carlo(general_hexworld, optimal_policy, 1000000)\n",
    "println(monte_utility)\n",
    "println(optimal_utility)"
   ]
  },
  {
   "cell_type": "code",
   "execution_count": 40,
   "metadata": {},
   "outputs": [
    {
     "name": "stdout",
     "output_type": "stream",
     "text": [
      "Convergence at step: 42\n",
      "[8.285397, 7.858906, 8.284743, 8.713553, 8.715289, 9.142552, 9.144215, 9.570599, 10.0, 9.572182]\n",
      "[4.211309073685234, 3.223458515646161, 4.211309073685234, 5.355961307603525, 5.355961307603525, 6.682304372302497, 6.682304372302497, 8.219178082191782, 10.0, 8.219178082191782]\n"
     ]
    }
   ],
   "source": [
    "optimal_policy, optimal_utility = get_optimal_policy(ring_hexworld, 100, 0.0)\n",
    "monte_utility = monte_carlo(ring_hexworld, optimal_policy, 1000000)\n",
    "println(monte_utility)\n",
    "println(optimal_utility)"
   ]
  }
 ],
 "metadata": {
  "interpreter": {
   "hash": "39cb0206baea839198ebc532c6b153ed6ed2663538cee5e413c4f91c7f10b478"
  },
  "kernelspec": {
   "display_name": "Julia 1.7.0",
   "language": "julia",
   "name": "julia-1.7"
  },
  "language_info": {
   "file_extension": ".jl",
   "mimetype": "application/julia",
   "name": "julia",
   "version": "1.7.0"
  },
  "orig_nbformat": 4
 },
 "nbformat": 4,
 "nbformat_minor": 2
}
